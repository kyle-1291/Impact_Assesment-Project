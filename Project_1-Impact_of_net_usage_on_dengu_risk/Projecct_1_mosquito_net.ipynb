{
  "nbformat": 4,
  "nbformat_minor": 0,
  "metadata": {
    "colab": {
      "provenance": [],
      "collapsed_sections": [
        "d2jDhiMdli0q"
      ],
      "toc_visible": true
    },
    "kernelspec": {
      "name": "python3",
      "display_name": "Python 3"
    },
    "language_info": {
      "name": "python"
    }
  },
  "cells": [
    {
      "cell_type": "markdown",
      "source": [
        "# Initial Questions"
      ],
      "metadata": {
        "id": "VBvtLk58Yg4O"
      }
    },
    {
      "cell_type": "markdown",
      "source": [
        " Q1:To obtain a causal estimate of the treatment effectiveness, we can employ various analytical methods, such as regression analysis, propensity score matching, instrumental variable analysis, or randomized controlled trials (if feasible). Since this study is observational , the true casual effect cannot be studied easily and all the results will be biased.\n",
        "\n",
        "Lets say if the study was randomized then we can account logistic regression to estimate the effect of using mosquito net on the risk of contracting dengue, but again the dependent variable (risk of contracting dengue) is not binary(range 0-100) , before applying logistic regression we have to transform it in binary variable using a threshold score or multi-category variable(muti-category logistic regression).\n",
        "\n",
        "Again treatment variable is a count(net count) , we can use poisson or negative binomial regression if the count data is over dispersed.\n",
        "Considering the give situation , we can use\n",
        "\n",
        "Propensity Score Matching :  Propensity score matching helps balance the observed covariates between treated and untreated groups to reduce selection bias. You can estimate the propensity scores (the likelihood of receiving the treatment) using logistic regression and then match treated and untreated individuals based on these scores. After matching, we can compare the dengue risk between the matched groups to estimate the treatment effect.\n",
        "\n",
        "Instrumental Variable Analysis: If there are concerns about endogeneity or unobserved confounders influencing both mosquito net usage and dengue risk, instrumental variable analysis can be used. An instrumental variable is a variable that affects the treatment variable but is not directly related to the outcome except through its effect on the treatment. This method requires identifying a valid instrumental variable, such as eligibility for the free net program, and using it to instrument for mosquito net usage.\n",
        "\n",
        "We could aslo get more data for other counfounding factors such as environmental condition (geographical and weather condition) or municiple effectivness could also affect dengue_risk directly or indirectly.\n",
        "\n",
        "Whether the analysis shows a cause-and-effect relationship depends on how well we assume things and how carefully we analyze the data. If our assumptions are correct and our analysis deals with problems like confounding factors and bias, then we can say for sure that the results show cause and effect.\n"
      ],
      "metadata": {
        "id": "gjuCpsVee7K3"
      }
    },
    {
      "cell_type": "markdown",
      "source": [
        "Q2:Assumptions and considerations for each scenario:\n",
        "\n",
        "Binary Treatment Variable (Use of Mosquito Net: Yes or No):\n",
        "\n",
        "Assumption 1: Stable Treatment Assignment(SUTVA): Assume that households' decisions to use mosquito nets or not are stable and not influenced by unobserved factors that directly affect dengue risk,or the treatement of one individiuals , should'nt affect the other individuals\n",
        "\n",
        "Assumption 2: No Omitted Variable Bias: Assume that all relevant variables influencing both mosquito net usage and dengue risk are included in the regression model, or that any omitted variables are uncorrelated with both the treatment and outcome variables.\n",
        "\n",
        "Assumption 3: No Measurement Error: Assume that there is no significant measurement error in the binary treatment variable (e.g., misreporting of mosquito net usage).\n",
        "\n",
        "Assumption 4: Independence of Errors: Assume that the errors in the regression model are independent and identically distributed (i.i.d.), meaning that there is no systematic bias in the residuals.\n",
        "\n",
        "Consideration: If households self-select into using mosquito nets based on their perceived risk of dengue, propensity score matching or instrumental variable analysis may help address potential selection bias.\n",
        "\n",
        "Count Treatment Variable (Number of Mosquito Nets Used):\n",
        "\n",
        "Assumption 1: Linearity of Effect: Assume that the effect of each additional mosquito net on dengue risk is linear. This assumption may not hold if there are diminishing returns or threshold effects.\n",
        "\n",
        "Assumption 2: No Zero-Inflation: Assume that households with zero mosquito nets do not represent a separate population with fundamentally different characteristics that would bias the analysis.\n",
        "\n",
        "Assumption 3: Correct Model Specification: Assume that the chosen count data model (e.g., Poisson regression) is correctly specified and adequately captures the relationship between the count of mosquito nets and dengue risk.\n",
        "\n",
        "In both scenarios, it's essential to acknowledge these assumptions and limitations when interpreting the results of the analysis. Sensitivity analyses and robustness checks can also be conducted to assess the robustness of the findings to different assumptions and model specifications.\n",
        "Considering the DAG for both the scenarious would be different, and hence the counfounding variable and bias path could result into different reslts."
      ],
      "metadata": {
        "id": "0kbcwBRnhkvG"
      }
    },
    {
      "cell_type": "markdown",
      "source": [
        "# Importing Required Packages"
      ],
      "metadata": {
        "id": "JlxjhweS6LXx"
      }
    },
    {
      "cell_type": "code",
      "source": [
        "import numpy as np\n",
        "import pandas as pd\n",
        "import seaborn as sns\n",
        "import numpy as np\n",
        "import statsmodels.api as sm\n",
        "import statsmodels.formula.api as smf\n",
        "from itertools import combinations\n",
        "from matplotlib import pyplot as plt\n",
        "import sklearn\n",
        "%load_ext rpy2.ipython\n",
        "from itertools import combinations\n",
        "import plotnine as p\n"
      ],
      "metadata": {
        "id": "HSHpSdpc6FEU"
      },
      "execution_count": null,
      "outputs": []
    },
    {
      "cell_type": "markdown",
      "source": [
        "# Importing Data\n"
      ],
      "metadata": {
        "id": "QOQWds7Z5mEg"
      }
    },
    {
      "cell_type": "code",
      "source": [
        "from google.colab import files\n",
        "\n",
        "\n",
        "uploaded = files.upload()"
      ],
      "metadata": {
        "colab": {
          "base_uri": "https://localhost:8080/",
          "height": 73
        },
        "id": "FYSaI9Mh8Ynn",
        "outputId": "ffbc9e76-13f6-4231-d37e-a99f839f6b5a"
      },
      "execution_count": null,
      "outputs": [
        {
          "output_type": "display_data",
          "data": {
            "text/plain": [
              "<IPython.core.display.HTML object>"
            ],
            "text/html": [
              "\n",
              "     <input type=\"file\" id=\"files-a7600643-4ba1-40e3-86b7-0aabb7803240\" name=\"files[]\" multiple disabled\n",
              "        style=\"border:none\" />\n",
              "     <output id=\"result-a7600643-4ba1-40e3-86b7-0aabb7803240\">\n",
              "      Upload widget is only available when the cell has been executed in the\n",
              "      current browser session. Please rerun this cell to enable.\n",
              "      </output>\n",
              "      <script>// Copyright 2017 Google LLC\n",
              "//\n",
              "// Licensed under the Apache License, Version 2.0 (the \"License\");\n",
              "// you may not use this file except in compliance with the License.\n",
              "// You may obtain a copy of the License at\n",
              "//\n",
              "//      http://www.apache.org/licenses/LICENSE-2.0\n",
              "//\n",
              "// Unless required by applicable law or agreed to in writing, software\n",
              "// distributed under the License is distributed on an \"AS IS\" BASIS,\n",
              "// WITHOUT WARRANTIES OR CONDITIONS OF ANY KIND, either express or implied.\n",
              "// See the License for the specific language governing permissions and\n",
              "// limitations under the License.\n",
              "\n",
              "/**\n",
              " * @fileoverview Helpers for google.colab Python module.\n",
              " */\n",
              "(function(scope) {\n",
              "function span(text, styleAttributes = {}) {\n",
              "  const element = document.createElement('span');\n",
              "  element.textContent = text;\n",
              "  for (const key of Object.keys(styleAttributes)) {\n",
              "    element.style[key] = styleAttributes[key];\n",
              "  }\n",
              "  return element;\n",
              "}\n",
              "\n",
              "// Max number of bytes which will be uploaded at a time.\n",
              "const MAX_PAYLOAD_SIZE = 100 * 1024;\n",
              "\n",
              "function _uploadFiles(inputId, outputId) {\n",
              "  const steps = uploadFilesStep(inputId, outputId);\n",
              "  const outputElement = document.getElementById(outputId);\n",
              "  // Cache steps on the outputElement to make it available for the next call\n",
              "  // to uploadFilesContinue from Python.\n",
              "  outputElement.steps = steps;\n",
              "\n",
              "  return _uploadFilesContinue(outputId);\n",
              "}\n",
              "\n",
              "// This is roughly an async generator (not supported in the browser yet),\n",
              "// where there are multiple asynchronous steps and the Python side is going\n",
              "// to poll for completion of each step.\n",
              "// This uses a Promise to block the python side on completion of each step,\n",
              "// then passes the result of the previous step as the input to the next step.\n",
              "function _uploadFilesContinue(outputId) {\n",
              "  const outputElement = document.getElementById(outputId);\n",
              "  const steps = outputElement.steps;\n",
              "\n",
              "  const next = steps.next(outputElement.lastPromiseValue);\n",
              "  return Promise.resolve(next.value.promise).then((value) => {\n",
              "    // Cache the last promise value to make it available to the next\n",
              "    // step of the generator.\n",
              "    outputElement.lastPromiseValue = value;\n",
              "    return next.value.response;\n",
              "  });\n",
              "}\n",
              "\n",
              "/**\n",
              " * Generator function which is called between each async step of the upload\n",
              " * process.\n",
              " * @param {string} inputId Element ID of the input file picker element.\n",
              " * @param {string} outputId Element ID of the output display.\n",
              " * @return {!Iterable<!Object>} Iterable of next steps.\n",
              " */\n",
              "function* uploadFilesStep(inputId, outputId) {\n",
              "  const inputElement = document.getElementById(inputId);\n",
              "  inputElement.disabled = false;\n",
              "\n",
              "  const outputElement = document.getElementById(outputId);\n",
              "  outputElement.innerHTML = '';\n",
              "\n",
              "  const pickedPromise = new Promise((resolve) => {\n",
              "    inputElement.addEventListener('change', (e) => {\n",
              "      resolve(e.target.files);\n",
              "    });\n",
              "  });\n",
              "\n",
              "  const cancel = document.createElement('button');\n",
              "  inputElement.parentElement.appendChild(cancel);\n",
              "  cancel.textContent = 'Cancel upload';\n",
              "  const cancelPromise = new Promise((resolve) => {\n",
              "    cancel.onclick = () => {\n",
              "      resolve(null);\n",
              "    };\n",
              "  });\n",
              "\n",
              "  // Wait for the user to pick the files.\n",
              "  const files = yield {\n",
              "    promise: Promise.race([pickedPromise, cancelPromise]),\n",
              "    response: {\n",
              "      action: 'starting',\n",
              "    }\n",
              "  };\n",
              "\n",
              "  cancel.remove();\n",
              "\n",
              "  // Disable the input element since further picks are not allowed.\n",
              "  inputElement.disabled = true;\n",
              "\n",
              "  if (!files) {\n",
              "    return {\n",
              "      response: {\n",
              "        action: 'complete',\n",
              "      }\n",
              "    };\n",
              "  }\n",
              "\n",
              "  for (const file of files) {\n",
              "    const li = document.createElement('li');\n",
              "    li.append(span(file.name, {fontWeight: 'bold'}));\n",
              "    li.append(span(\n",
              "        `(${file.type || 'n/a'}) - ${file.size} bytes, ` +\n",
              "        `last modified: ${\n",
              "            file.lastModifiedDate ? file.lastModifiedDate.toLocaleDateString() :\n",
              "                                    'n/a'} - `));\n",
              "    const percent = span('0% done');\n",
              "    li.appendChild(percent);\n",
              "\n",
              "    outputElement.appendChild(li);\n",
              "\n",
              "    const fileDataPromise = new Promise((resolve) => {\n",
              "      const reader = new FileReader();\n",
              "      reader.onload = (e) => {\n",
              "        resolve(e.target.result);\n",
              "      };\n",
              "      reader.readAsArrayBuffer(file);\n",
              "    });\n",
              "    // Wait for the data to be ready.\n",
              "    let fileData = yield {\n",
              "      promise: fileDataPromise,\n",
              "      response: {\n",
              "        action: 'continue',\n",
              "      }\n",
              "    };\n",
              "\n",
              "    // Use a chunked sending to avoid message size limits. See b/62115660.\n",
              "    let position = 0;\n",
              "    do {\n",
              "      const length = Math.min(fileData.byteLength - position, MAX_PAYLOAD_SIZE);\n",
              "      const chunk = new Uint8Array(fileData, position, length);\n",
              "      position += length;\n",
              "\n",
              "      const base64 = btoa(String.fromCharCode.apply(null, chunk));\n",
              "      yield {\n",
              "        response: {\n",
              "          action: 'append',\n",
              "          file: file.name,\n",
              "          data: base64,\n",
              "        },\n",
              "      };\n",
              "\n",
              "      let percentDone = fileData.byteLength === 0 ?\n",
              "          100 :\n",
              "          Math.round((position / fileData.byteLength) * 100);\n",
              "      percent.textContent = `${percentDone}% done`;\n",
              "\n",
              "    } while (position < fileData.byteLength);\n",
              "  }\n",
              "\n",
              "  // All done.\n",
              "  yield {\n",
              "    response: {\n",
              "      action: 'complete',\n",
              "    }\n",
              "  };\n",
              "}\n",
              "\n",
              "scope.google = scope.google || {};\n",
              "scope.google.colab = scope.google.colab || {};\n",
              "scope.google.colab._files = {\n",
              "  _uploadFiles,\n",
              "  _uploadFilesContinue,\n",
              "};\n",
              "})(self);\n",
              "</script> "
            ]
          },
          "metadata": {}
        },
        {
          "output_type": "stream",
          "name": "stdout",
          "text": [
            "Saving ec402.csv to ec402 (1).csv\n"
          ]
        }
      ]
    },
    {
      "cell_type": "code",
      "source": [
        "uploaded"
      ],
      "metadata": {
        "colab": {
          "base_uri": "https://localhost:8080/"
        },
        "id": "9KpTfkoRCVAj",
        "outputId": "bb05ba6b-1409-4ecd-e789-106f89d2b52d"
      },
      "execution_count": null,
      "outputs": [
        {
          "output_type": "execute_result",
          "data": {
            "text/plain": [
              "{'ec402 (1).csv': b'id,net,net_num,dengue_risk,income,health,household,eligible,temperature,resistance\\r\\n1,TRUE,1,33,781,56,2,FALSE,21.1,59\\r\\n2,FALSE,0,42,974,57,4,FALSE,26.5,73\\r\\n3,FALSE,0,80,502,15,3,FALSE,25.6,65\\r\\n4,TRUE,1,34,671,20,5,TRUE,21.3,46\\r\\n5,FALSE,0,44,728,17,5,FALSE,19.2,54\\r\\n6,FALSE,0,25,1050,48,1,FALSE,25.3,34\\r\\n7,TRUE,1,19,1146,65,3,FALSE,27.4,45\\r\\n8,FALSE,0,35,1093,75,5,FALSE,29.8,65\\r\\n9,FALSE,0,32,1037,60,3,FALSE,27.6,55\\r\\n10,FALSE,0,40,828,36,3,FALSE,21.3,54\\r\\n11,FALSE,0,30,889,75,6,FALSE,17.4,33\\r\\n12,TRUE,1,14,1133,62,3,FALSE,18.9,39\\r\\n13,TRUE,1,31,807,42,4,FALSE,27.6,37\\r\\n14,FALSE,0,34,950,53,3,FALSE,24,53\\r\\n15,FALSE,0,22,1195,90,1,FALSE,24.5,34\\r\\n16,TRUE,1,54,594,29,5,TRUE,25.5,55\\r\\n17,TRUE,1,23,936,47,2,FALSE,26.1,32\\r\\n18,FALSE,0,41,816,30,1,FALSE,17.7,73\\r\\n19,FALSE,0,37,962,55,2,FALSE,26.7,54\\r\\n20,TRUE,1,65,431,6,6,TRUE,26.8,38\\r\\n21,FALSE,0,59,760,36,5,FALSE,28.7,51\\r\\n22,FALSE,0,59,655,30,4,FALSE,23.6,43\\r\\n23,FALSE,0,41,896,45,3,FALSE,25.9,53\\r\\n24,TRUE,1,21,1033,64,7,FALSE,23.4,51\\r\\n25,FALSE,0,25,1115,62,3,FALSE,27.3,33\\r\\n26,FALSE,0,27,1139,75,4,FALSE,30.7,37\\r\\n27,TRUE,1,23,967,71,3,FALSE,21.1,52\\r\\n28,TRUE,1,26,840,37,3,FALSE,17.8,71\\r\\n29,FALSE,0,35,946,49,2,FALSE,22.7,63\\r\\n30,FALSE,0,50,698,25,2,FALSE,22.4,39\\r\\n31,TRUE,1,50,580,37,6,TRUE,20.3,59\\r\\n32,FALSE,0,50,762,20,5,FALSE,26.2,47\\r\\n33,TRUE,1,29,894,53,4,FALSE,26.7,52\\r\\n34,FALSE,0,30,907,40,4,FALSE,20.3,51\\r\\n35,FALSE,0,66,682,22,1,FALSE,23.2,84\\r\\n36,TRUE,1,27,829,67,3,FALSE,22.5,31\\r\\n37,FALSE,0,51,772,41,4,FALSE,24.5,49\\r\\n38,FALSE,0,48,730,55,2,FALSE,22.9,23\\r\\n39,FALSE,0,32,984,51,2,FALSE,24.4,56\\r\\n40,TRUE,1,21,1016,40,2,FALSE,22.7,63\\r\\n41,FALSE,0,76,641,56,2,FALSE,26.7,68\\r\\n42,FALSE,0,59,656,41,3,FALSE,27.1,21\\r\\n43,TRUE,1,21,963,53,3,FALSE,18.7,53\\r\\n44,TRUE,1,35,840,41,2,FALSE,26.6,70\\r\\n45,FALSE,0,25,1110,78,2,FALSE,23.2,42\\r\\n46,TRUE,1,31,737,76,2,FALSE,16.8,45\\r\\n47,FALSE,0,48,827,52,2,FALSE,25.3,47\\r\\n48,FALSE,0,52,810,48,3,FALSE,26.3,53\\r\\n49,TRUE,1,29,857,46,2,FALSE,24,57\\r\\n50,TRUE,1,13,1307,67,5,FALSE,21.8,66\\r\\n51,TRUE,1,26,915,56,1,FALSE,25.7,46\\r\\n52,FALSE,0,39,826,59,3,FALSE,18,50\\r\\n53,FALSE,0,46,825,41,4,FALSE,18.7,82\\r\\n54,FALSE,0,52,864,49,1,FALSE,29.8,54\\r\\n55,FALSE,0,26,1053,64,3,FALSE,22,50\\r\\n56,FALSE,0,36,822,33,2,FALSE,23.8,29\\r\\n57,FALSE,0,53,631,15,1,FALSE,18.9,48\\r\\n58,FALSE,0,27,1000,52,4,FALSE,22.1,45\\r\\n59,FALSE,0,48,766,60,5,FALSE,20.3,47\\r\\n60,FALSE,0,37,893,52,2,FALSE,24.6,40\\r\\n61,FALSE,0,21,1130,55,3,FALSE,22.1,38\\r\\n62,FALSE,0,19,1222,65,1,FALSE,23,38\\r\\n63,FALSE,0,35,1036,69,2,FALSE,30.8,45\\r\\n64,FALSE,0,49,817,35,2,FALSE,23.6,67\\r\\n65,FALSE,0,61,743,26,4,FALSE,27.7,62\\r\\n66,FALSE,0,19,1293,82,3,FALSE,25.5,43\\r\\n67,FALSE,0,36,732,21,4,FALSE,19.6,24\\r\\n68,FALSE,0,40,869,52,4,FALSE,26.1,36\\r\\n69,TRUE,1,27,735,31,4,FALSE,18.6,41\\r\\n70,TRUE,1,14,1194,70,3,FALSE,19.2,49\\r\\n71,TRUE,1,13,1259,61,4,FALSE,24.9,38\\r\\n72,FALSE,0,61,763,35,3,FALSE,25.7,76\\r\\n73,FALSE,0,43,789,43,4,FALSE,21.4,44\\r\\n74,TRUE,1,15,1235,88,1,FALSE,25.4,31\\r\\n75,FALSE,0,27,1003,39,3,FALSE,23.5,46\\r\\n76,FALSE,0,38,796,43,2,FALSE,20.7,34\\r\\n77,FALSE,0,45,934,64,2,FALSE,28.9,50\\r\\n78,FALSE,0,24,1047,71,3,FALSE,17.2,51\\r\\n79,TRUE,1,30,812,44,2,FALSE,24.4,53\\r\\n80,FALSE,0,26,960,35,1,FALSE,24,25\\r\\n81,FALSE,0,29,1044,58,2,FALSE,26.7,51\\r\\n82,FALSE,0,38,927,55,3,FALSE,24.8,52\\r\\n83,TRUE,1,14,1229,77,3,FALSE,24.4,28\\r\\n84,FALSE,0,31,1152,83,4,FALSE,31.2,61\\r\\n85,TRUE,1,13,1270,78,1,FALSE,18.5,59\\r\\n86,TRUE,1,19,1137,59,3,FALSE,21.1,80\\r\\n87,FALSE,0,45,704,30,7,FALSE,17.1,50\\r\\n88,FALSE,0,49,830,44,5,FALSE,27.3,48\\r\\n89,TRUE,1,58,666,44,5,TRUE,32,49\\r\\n90,FALSE,0,41,929,37,2,FALSE,30.4,49\\r\\n91,FALSE,0,24,1041,69,1,FALSE,21.9,22\\r\\n92,FALSE,0,38,909,67,3,FALSE,27.7,24\\r\\n93,FALSE,0,43,885,35,2,FALSE,29.1,47\\r\\n94,FALSE,0,61,765,45,3,FALSE,31.5,39\\r\\n95,TRUE,1,20,1082,71,2,FALSE,24.4,48\\r\\n96,FALSE,0,30,781,39,2,FALSE,17.9,18\\r\\n97,FALSE,0,27,927,56,4,FALSE,19.2,27\\r\\n98,FALSE,0,27,945,24,1,FALSE,23.4,32\\r\\n99,TRUE,1,13,1422,97,3,FALSE,25.6,61\\r\\n100,TRUE,1,26,969,65,3,FALSE,30,32\\r\\n101,FALSE,0,39,845,35,3,FALSE,25.4,36\\r\\n102,TRUE,1,20,1106,94,2,FALSE,22.9,49\\r\\n103,TRUE,1,44,582,36,3,FALSE,19.9,43\\r\\n104,TRUE,1,20,986,44,6,FALSE,20.9,50\\r\\n105,FALSE,0,42,902,29,3,FALSE,23.4,80\\r\\n106,TRUE,1,24,910,53,5,FALSE,25,32\\r\\n107,FALSE,0,61,711,53,5,FALSE,25.8,43\\r\\n108,TRUE,1,18,982,51,3,FALSE,18.1,40\\r\\n109,FALSE,0,30,935,26,3,FALSE,20.1,69\\r\\n110,FALSE,0,22,1066,55,2,FALSE,20.1,37\\r\\n111,TRUE,1,15,1211,83,5,FALSE,21.5,46\\r\\n112,TRUE,1,42,647,30,2,FALSE,20.6,59\\r\\n113,TRUE,1,30,665,32,1,FALSE,19.2,33\\r\\n114,FALSE,0,29,1053,64,6,FALSE,21.8,71\\r\\n115,FALSE,0,34,1008,66,4,FALSE,26.1,57\\r\\n116,FALSE,0,29,835,13,2,FALSE,20.8,33\\r\\n117,FALSE,0,45,890,56,3,FALSE,26.3,54\\r\\n118,FALSE,0,43,917,43,6,FALSE,30.7,45\\r\\n119,TRUE,1,13,1220,71,3,FALSE,17.7,52\\r\\n120,TRUE,1,23,961,43,2,FALSE,25.6,46\\r\\n121,FALSE,0,33,913,59,3,FALSE,18.2,63\\r\\n122,TRUE,1,40,663,40,2,FALSE,25.3,29\\r\\n123,FALSE,0,33,861,49,2,FALSE,20.2,40\\r\\n124,TRUE,1,24,958,30,2,FALSE,28.6,44\\r\\n125,TRUE,1,58,592,40,2,FALSE,30.3,34\\r\\n126,FALSE,0,32,1002,69,7,FALSE,28.5,33\\r\\n127,TRUE,1,24,959,65,2,FALSE,22.8,47\\r\\n128,FALSE,0,46,826,40,1,FALSE,26.2,46\\r\\n129,FALSE,0,57,695,44,2,FALSE,29.6,12\\r\\n130,FALSE,0,23,1261,91,4,FALSE,26.3,62\\r\\n131,TRUE,1,14,1274,62,3,FALSE,24.1,51\\r\\n132,TRUE,1,32,854,48,5,FALSE,22.5,81\\r\\n133,TRUE,1,16,1246,81,3,FALSE,24,57\\r\\n134,TRUE,1,27,859,51,4,FALSE,23.8,41\\r\\n135,FALSE,0,29,1176,79,3,FALSE,26.1,87\\r\\n136,FALSE,0,43,1048,55,3,FALSE,29.5,87\\r\\n137,TRUE,1,14,1222,73,4,FALSE,23.5,31\\r\\n138,FALSE,0,28,1166,57,4,FALSE,32.1,54\\r\\n139,FALSE,0,40,726,39,6,FALSE,15.6,45\\r\\n140,FALSE,0,39,942,60,3,FALSE,26.2,50\\r\\n141,FALSE,0,42,794,54,2,FALSE,18.2,51\\r\\n142,TRUE,1,15,1046,59,3,FALSE,16.4,30\\r\\n143,FALSE,0,39,887,52,1,FALSE,23.3,52\\r\\n144,FALSE,0,30,1067,55,2,FALSE,25.8,72\\r\\n145,FALSE,0,49,758,43,4,FALSE,22.5,45\\r\\n146,FALSE,0,55,707,47,2,FALSE,22.1,45\\r\\n147,FALSE,0,39,873,44,2,FALSE,19.9,67\\r\\n148,TRUE,1,22,1142,83,1,FALSE,28.4,60\\r\\n149,FALSE,0,30,920,45,2,FALSE,26.1,25\\r\\n150,TRUE,1,20,998,40,4,FALSE,21.3,51\\r\\n151,TRUE,1,22,1124,60,4,FALSE,26.9,71\\r\\n152,FALSE,0,44,852,41,3,FALSE,22.1,67\\r\\n153,TRUE,1,19,1051,71,2,FALSE,18.3,53\\r\\n154,FALSE,0,24,1080,71,2,FALSE,18.4,58\\r\\n155,TRUE,1,11,1396,97,1,FALSE,23.6,31\\r\\n156,TRUE,1,44,750,42,2,FALSE,29.2,52\\r\\n157,TRUE,1,12,1226,73,3,FALSE,17.7,34\\r\\n158,FALSE,0,42,785,34,2,FALSE,22.1,41\\r\\n159,FALSE,0,60,718,23,3,FALSE,25.9,61\\r\\n160,TRUE,1,13,1195,73,2,FALSE,19,32\\r\\n161,FALSE,0,33,1003,54,3,FALSE,27.6,51\\r\\n162,FALSE,0,44,896,33,2,FALSE,28.8,54\\r\\n163,FALSE,0,53,738,33,3,FALSE,24.7,48\\r\\n164,FALSE,0,29,1176,72,2,FALSE,29,73\\r\\n165,FALSE,0,59,595,23,2,FALSE,22.4,33\\r\\n166,TRUE,1,24,885,54,3,FALSE,17.5,56\\r\\n167,FALSE,0,54,698,39,4,FALSE,21.7,46\\r\\n168,FALSE,0,53,725,21,2,FALSE,25.9,44\\r\\n169,FALSE,0,86,353,19,3,FALSE,23.7,54\\r\\n170,TRUE,1,27,827,31,2,FALSE,26,33\\r\\n171,TRUE,1,16,1273,78,3,FALSE,31.7,29\\r\\n172,FALSE,0,28,902,59,2,FALSE,15.8,41\\r\\n173,FALSE,0,41,835,28,5,FALSE,19.7,72\\r\\n174,FALSE,0,35,833,40,4,FALSE,18.8,48\\r\\n175,FALSE,0,73,660,32,3,FALSE,31.8,52\\r\\n176,TRUE,1,27,786,60,3,FALSE,16.9,45\\r\\n177,TRUE,1,50,631,40,2,FALSE,24.4,54\\r\\n178,TRUE,1,21,948,65,3,FALSE,19.6,34\\r\\n179,TRUE,1,22,911,34,5,FALSE,17.9,64\\r\\n180,TRUE,1,12,1287,57,3,FALSE,21.8,56\\r\\n181,TRUE,1,21,987,40,4,FALSE,25.7,36\\r\\n182,TRUE,1,55,529,36,2,FALSE,21.6,48\\r\\n183,FALSE,0,27,1013,48,4,FALSE,21.6,58\\r\\n184,FALSE,0,37,964,62,2,FALSE,25.2,55\\r\\n185,TRUE,1,39,810,34,3,FALSE,28.2,68\\r\\n186,FALSE,0,48,850,58,3,FALSE,27.9,39\\r\\n187,FALSE,0,76,523,29,2,FALSE,22.6,63\\r\\n188,TRUE,1,53,599,18,3,FALSE,24.8,62\\r\\n189,TRUE,1,21,1116,76,5,FALSE,28.1,45\\r\\n190,TRUE,1,27,946,70,5,FALSE,29.1,34\\r\\n191,FALSE,0,17,1258,50,2,FALSE,25.2,32\\r\\n192,FALSE,0,40,904,49,2,FALSE,25,54\\r\\n193,FALSE,0,34,1007,52,7,FALSE,29.8,47\\r\\n194,FALSE,0,53,834,39,3,FALSE,25.6,72\\r\\n195,TRUE,1,37,623,20,5,TRUE,17.7,55\\r\\n196,FALSE,0,36,967,47,3,FALSE,29.4,42\\r\\n197,FALSE,0,41,693,29,3,FALSE,17.1,33\\r\\n198,TRUE,1,28,848,42,3,FALSE,26.2,39\\r\\n199,FALSE,0,75,503,34,2,FALSE,21.6,52\\r\\n200,TRUE,1,15,1113,47,3,FALSE,20.4,41\\r\\n201,TRUE,1,12,1388,86,2,FALSE,25.6,55\\r\\n202,TRUE,1,39,593,28,6,TRUE,18.6,43\\r\\n203,FALSE,0,66,633,34,3,FALSE,25.8,46\\r\\n204,FALSE,0,53,731,46,3,FALSE,24.4,37\\r\\n205,FALSE,0,28,1110,65,2,FALSE,23.8,74\\r\\n206,FALSE,0,54,902,64,5,FALSE,32,52\\r\\n207,TRUE,1,20,1071,67,2,FALSE,23.3,51\\r\\n208,FALSE,0,23,952,33,2,FALSE,18.2,24\\r\\n209,FALSE,0,24,1025,59,2,FALSE,16.2,57\\r\\n210,FALSE,0,33,954,57,2,FALSE,27.3,33\\r\\n211,FALSE,0,57,782,62,3,FALSE,29,35\\r\\n212,FALSE,0,48,899,58,2,FALSE,26.9,60\\r\\n213,TRUE,1,26,896,62,2,FALSE,23.7,41\\r\\n214,TRUE,1,22,1080,93,3,FALSE,30.7,23\\r\\n215,TRUE,1,24,1000,31,1,FALSE,25.1,72\\r\\n216,FALSE,0,26,1000,55,4,FALSE,25.6,14\\r\\n217,TRUE,1,32,875,46,2,FALSE,29.2,56\\r\\n218,FALSE,0,75,501,26,3,FALSE,20.8,62\\r\\n219,TRUE,1,22,999,37,4,FALSE,27.4,39\\r\\n220,TRUE,1,28,995,73,5,FALSE,29.9,54\\r\\n221,FALSE,0,42,877,66,2,FALSE,22.3,54\\r\\n222,TRUE,1,50,573,31,6,TRUE,19.9,62\\r\\n223,FALSE,0,72,606,51,4,FALSE,24.3,54\\r\\n224,FALSE,0,34,906,56,4,FALSE,22.5,44\\r\\n225,FALSE,0,54,859,58,1,FALSE,28.3,60\\r\\n226,TRUE,1,22,878,32,2,FALSE,17.1,59\\r\\n227,FALSE,0,47,754,16,3,FALSE,27.1,35\\r\\n228,TRUE,1,41,529,26,3,FALSE,18.5,28\\r\\n229,FALSE,0,62,724,41,4,FALSE,27.9,50\\r\\n230,FALSE,0,46,873,53,5,FALSE,28.3,44\\r\\n231,TRUE,1,28,821,52,3,FALSE,24.9,34\\r\\n232,TRUE,1,22,983,66,3,FALSE,20.9,49\\r\\n233,TRUE,1,17,1133,69,3,FALSE,26.6,29\\r\\n234,FALSE,0,41,889,53,1,FALSE,25,50\\r\\n235,TRUE,1,19,1082,78,2,FALSE,24.1,39\\r\\n236,TRUE,1,29,695,19,2,FALSE,16,61\\r\\n237,FALSE,0,35,1060,72,2,FALSE,24.4,81\\r\\n238,FALSE,0,32,840,41,4,FALSE,20.3,35\\r\\n239,TRUE,1,19,1121,76,2,FALSE,21.9,62\\r\\n240,TRUE,1,17,1206,76,4,FALSE,24.5,59\\r\\n241,TRUE,1,43,550,24,3,FALSE,17.6,47\\r\\n242,TRUE,1,22,999,89,3,FALSE,20.8,41\\r\\n243,FALSE,0,54,818,52,2,FALSE,23.9,70\\r\\n244,FALSE,0,28,909,63,3,FALSE,20.7,20\\r\\n245,TRUE,1,15,1231,82,2,FALSE,25.6,39\\r\\n246,FALSE,0,39,865,34,4,FALSE,29,28\\r\\n247,TRUE,1,13,1340,65,2,FALSE,22.6,67\\r\\n248,FALSE,0,46,855,66,6,FALSE,24.8,45\\r\\n249,TRUE,1,19,1061,45,6,FALSE,25.2,40\\r\\n250,FALSE,0,68,765,70,4,FALSE,22.8,92\\r\\n251,TRUE,1,61,523,16,2,FALSE,27.9,47\\r\\n252,TRUE,1,13,1232,76,2,FALSE,19.4,41\\r\\n253,FALSE,0,68,705,53,3,FALSE,28.1,52\\r\\n254,TRUE,1,16,1155,75,2,FALSE,24.6,26\\r\\n255,FALSE,0,57,724,51,3,FALSE,22.2,54\\r\\n256,FALSE,0,30,993,45,4,FALSE,26.7,46\\r\\n257,FALSE,0,44,784,46,2,FALSE,19.2,54\\r\\n258,FALSE,0,54,687,21,2,FALSE,25.6,34\\r\\n259,FALSE,0,20,1255,69,3,FALSE,28.1,33\\r\\n260,FALSE,0,29,953,58,5,FALSE,22.3,38\\r\\n261,TRUE,1,19,935,43,5,FALSE,18.4,37\\r\\n262,TRUE,1,43,776,40,5,FALSE,27.7,66\\r\\n263,FALSE,0,44,999,89,3,FALSE,26.3,70\\r\\n264,TRUE,1,38,637,9,6,TRUE,22.7,45\\r\\n265,FALSE,0,36,1041,78,3,FALSE,30.9,43\\r\\n266,FALSE,0,74,541,42,3,FALSE,24.6,43\\r\\n267,FALSE,0,43,816,43,2,FALSE,22.3,49\\r\\n268,TRUE,1,26,994,73,2,FALSE,28.3,49\\r\\n269,FALSE,0,45,919,81,1,FALSE,25.6,52\\r\\n270,TRUE,1,21,966,39,3,FALSE,25,37\\r\\n271,FALSE,0,32,900,50,5,FALSE,22.7,36\\r\\n272,FALSE,0,46,773,32,1,FALSE,19.3,64\\r\\n273,FALSE,0,52,876,61,1,FALSE,31.4,40\\r\\n274,TRUE,1,30,799,34,2,FALSE,23.8,52\\r\\n275,TRUE,1,13,1281,64,4,FALSE,24.2,47\\r\\n276,FALSE,0,29,872,49,4,FALSE,18.3,34\\r\\n277,FALSE,0,36,923,32,6,FALSE,25.6,56\\r\\n278,TRUE,1,25,923,35,3,FALSE,25.4,50\\r\\n279,TRUE,1,25,1127,95,1,FALSE,29.8,67\\r\\n280,TRUE,1,25,933,54,3,FALSE,24.3,49\\r\\n281,TRUE,1,24,884,49,4,FALSE,20.7,43\\r\\n282,TRUE,1,17,1083,54,2,FALSE,18.7,51\\r\\n283,TRUE,1,22,918,53,2,FALSE,22.3,31\\r\\n284,TRUE,1,10,1353,80,2,FALSE,20.1,36\\r\\n285,FALSE,0,61,788,33,1,FALSE,31.4,55\\r\\n286,FALSE,0,42,869,35,2,FALSE,27.8,43\\r\\n287,TRUE,1,17,1215,61,1,FALSE,29,47\\r\\n288,FALSE,0,29,995,61,2,FALSE,23.3,46\\r\\n289,FALSE,0,43,864,31,1,FALSE,29.2,39\\r\\n290,FALSE,0,34,780,29,3,FALSE,21.7,19\\r\\n291,FALSE,0,57,691,33,2,FALSE,22.7,52\\r\\n292,FALSE,0,87,397,15,1,FALSE,27,58\\r\\n293,TRUE,1,12,1376,81,1,FALSE,30,30\\r\\n294,FALSE,0,34,996,59,5,FALSE,23.3,68\\r\\n295,TRUE,1,21,947,57,4,FALSE,17.3,53\\r\\n296,TRUE,1,17,1246,74,4,FALSE,24.8,66\\r\\n297,FALSE,0,23,1156,50,6,FALSE,29.8,34\\r\\n298,FALSE,0,35,967,41,1,FALSE,27.9,50\\r\\n299,TRUE,1,20,951,48,1,FALSE,18.9,46\\r\\n300,TRUE,1,18,1088,67,4,FALSE,18.7,58\\r\\n301,FALSE,0,30,1013,80,4,FALSE,25.2,40\\r\\n302,TRUE,1,42,696,34,1,FALSE,26.1,47\\r\\n303,FALSE,0,36,833,33,4,FALSE,25.8,23\\r\\n304,FALSE,0,55,663,53,4,FALSE,20.3,37\\r\\n305,FALSE,0,39,909,49,3,FALSE,25.7,49\\r\\n306,FALSE,0,26,1009,72,3,FALSE,19.5,38\\r\\n307,TRUE,1,19,1016,59,2,FALSE,20.1,47\\r\\n308,FALSE,0,30,1066,81,1,FALSE,28.1,41\\r\\n309,TRUE,1,43,795,55,3,FALSE,29.6,56\\r\\n310,FALSE,0,35,849,33,3,FALSE,18.1,64\\r\\n311,FALSE,0,29,1018,80,2,FALSE,24.5,36\\r\\n312,FALSE,0,27,991,44,3,FALSE,22.1,43\\r\\n313,FALSE,0,56,778,35,4,FALSE,25,68\\r\\n314,TRUE,1,18,1000,56,1,FALSE,22.6,17\\r\\n315,TRUE,1,30,708,46,2,FALSE,18.2,43\\r\\n316,FALSE,0,86,442,28,4,FALSE,24.8,76\\r\\n317,FALSE,0,63,782,47,4,FALSE,25.8,78\\r\\n318,FALSE,0,27,1105,63,2,FALSE,27.6,50\\r\\n319,FALSE,0,27,1070,52,2,FALSE,28.9,36\\r\\n320,TRUE,1,45,617,25,4,FALSE,23.2,50\\r\\n321,TRUE,1,33,684,18,4,FALSE,22.9,38\\r\\n322,TRUE,1,26,945,65,2,FALSE,20.9,68\\r\\n323,TRUE,1,10,1398,100,2,FALSE,21.7,36\\r\\n324,TRUE,1,20,1058,56,4,FALSE,24.2,53\\r\\n325,FALSE,0,75,613,27,1,FALSE,29.9,56\\r\\n326,FALSE,0,42,788,23,1,FALSE,24.6,37\\r\\n327,TRUE,1,24,1005,63,9,FALSE,24,60\\r\\n328,FALSE,0,41,692,26,1,FALSE,17.1,37\\r\\n329,FALSE,0,67,773,60,2,FALSE,30.6,56\\r\\n330,FALSE,0,41,863,43,5,FALSE,21.7,63\\r\\n331,FALSE,0,33,918,55,3,FALSE,24.6,34\\r\\n332,FALSE,0,50,768,54,2,FALSE,18.8,63\\r\\n333,FALSE,0,47,790,41,4,FALSE,24.9,41\\r\\n334,TRUE,1,42,713,38,4,FALSE,26.2,52\\r\\n335,TRUE,1,18,1174,67,2,FALSE,25.9,50\\r\\n336,FALSE,0,26,941,43,3,FALSE,17.5,42\\r\\n337,FALSE,0,29,1000,57,4,FALSE,22.6,51\\r\\n338,FALSE,0,28,845,21,3,FALSE,19.7,30\\r\\n339,FALSE,0,35,952,39,3,FALSE,28.1,46\\r\\n340,TRUE,1,19,1217,90,6,FALSE,27.9,59\\r\\n341,FALSE,0,46,708,34,3,FALSE,23.8,17\\r\\n342,FALSE,0,23,1052,61,1,FALSE,21.6,27\\r\\n343,FALSE,0,57,546,24,3,FALSE,17.8,31\\r\\n344,FALSE,0,41,752,33,2,FALSE,22.8,25\\r\\n345,FALSE,0,37,1011,49,3,FALSE,30.7,53\\r\\n346,FALSE,0,47,808,17,2,FALSE,30.8,34\\r\\n347,FALSE,0,25,932,54,6,FALSE,19.4,17\\r\\n348,FALSE,0,57,760,30,2,FALSE,30.9,39\\r\\n349,FALSE,0,33,964,46,2,FALSE,27.4,42\\r\\n350,FALSE,0,26,1078,71,3,FALSE,20.9,60\\r\\n351,FALSE,0,21,1134,81,2,FALSE,19.9,32\\r\\n352,TRUE,1,36,806,45,6,FALSE,25.1,64\\r\\n353,FALSE,0,47,797,28,3,FALSE,24.6,53\\r\\n354,FALSE,0,45,842,20,2,FALSE,27.6,53\\r\\n355,FALSE,0,24,949,27,3,FALSE,18.3,36\\r\\n356,FALSE,0,55,785,51,7,FALSE,21.3,75\\r\\n357,FALSE,0,66,688,39,3,FALSE,29.2,45\\r\\n358,TRUE,1,19,1000,81,3,FALSE,20.2,22\\r\\n359,FALSE,0,67,507,15,2,FALSE,20.1,45\\r\\n360,TRUE,1,21,1027,51,4,FALSE,29.9,21\\r\\n361,FALSE,0,53,774,43,2,FALSE,26.8,43\\r\\n362,TRUE,1,20,1117,72,2,FALSE,28.5,42\\r\\n363,FALSE,0,43,964,43,5,FALSE,31.1,57\\r\\n364,TRUE,1,48,679,32,2,FALSE,25.9,62\\r\\n365,FALSE,0,40,927,61,2,FALSE,28.2,37\\r\\n366,FALSE,0,43,848,47,4,FALSE,21.9,59\\r\\n367,TRUE,1,23,1134,85,2,FALSE,27.7,68\\r\\n368,FALSE,0,44,914,62,1,FALSE,30.3,37\\r\\n369,TRUE,1,22,1019,56,3,FALSE,26.7,38\\r\\n370,TRUE,1,28,879,49,3,FALSE,25.1,57\\r\\n371,FALSE,0,26,1087,63,3,FALSE,24.3,50\\r\\n372,FALSE,0,47,802,42,2,FALSE,22.6,55\\r\\n373,TRUE,1,25,815,19,5,FALSE,16.5,67\\r\\n374,FALSE,0,53,857,68,3,FALSE,27.6,53\\r\\n375,FALSE,0,55,896,51,3,FALSE,32,62\\r\\n376,TRUE,1,27,911,40,6,FALSE,25.6,56\\r\\n377,FALSE,0,46,880,40,4,FALSE,28.6,54\\r\\n378,FALSE,0,35,839,49,2,FALSE,17.4,53\\r\\n379,FALSE,0,39,968,41,2,FALSE,27.5,66\\r\\n380,FALSE,0,27,920,51,6,FALSE,18.8,34\\r\\n381,TRUE,1,15,1178,79,3,FALSE,22.7,32\\r\\n382,TRUE,1,32,756,44,4,FALSE,20.6,56\\r\\n383,TRUE,1,20,941,29,2,FALSE,20.5,46\\r\\n384,FALSE,0,32,1061,54,4,FALSE,31.2,49\\r\\n385,FALSE,0,29,1020,56,3,FALSE,22.9,58\\r\\n386,TRUE,1,45,605,22,5,TRUE,21.1,58\\r\\n387,FALSE,0,51,850,40,2,FALSE,31.4,44\\r\\n388,FALSE,0,59,655,21,2,FALSE,24.7,43\\r\\n389,FALSE,0,30,939,36,1,FALSE,23,49\\r\\n390,FALSE,0,65,758,50,2,FALSE,28.2,62\\r\\n391,TRUE,1,14,1277,60,6,FALSE,25.6,54\\r\\n392,FALSE,0,63,776,64,2,FALSE,25.8,68\\r\\n393,TRUE,1,29,936,62,4,FALSE,30.4,47\\r\\n394,FALSE,0,63,686,50,4,FALSE,22.1,63\\r\\n395,TRUE,1,23,1083,70,1,FALSE,27.4,60\\r\\n396,TRUE,1,26,819,59,2,FALSE,16.6,56\\r\\n397,FALSE,0,57,624,36,2,FALSE,17.5,53\\r\\n398,FALSE,0,52,629,15,1,FALSE,19.2,44\\r\\n399,FALSE,0,30,1031,65,1,FALSE,27.1,46\\r\\n400,FALSE,0,36,999,65,7,FALSE,27.6,51\\r\\n401,TRUE,1,53,509,22,7,TRUE,21.1,48\\r\\n402,TRUE,1,19,1035,54,2,FALSE,18.1,61\\r\\n403,TRUE,1,48,707,51,5,FALSE,28.9,46\\r\\n404,TRUE,1,17,1062,67,3,FALSE,18.2,47\\r\\n405,FALSE,0,24,1121,60,2,FALSE,25.8,41\\r\\n406,FALSE,0,51,693,43,3,FALSE,19.3,46\\r\\n407,FALSE,0,48,834,61,4,FALSE,25.1,47\\r\\n408,FALSE,0,28,992,37,1,FALSE,31.4,15\\r\\n409,FALSE,0,37,853,53,2,FALSE,24.1,29\\r\\n410,FALSE,0,65,673,37,4,FALSE,27.2,47\\r\\n411,FALSE,0,35,952,53,2,FALSE,26.9,44\\r\\n412,FALSE,0,26,1084,62,4,FALSE,28.3,31\\r\\n413,FALSE,0,23,1118,75,2,FALSE,26.8,20\\r\\n414,FALSE,0,60,784,42,3,FALSE,31.9,43\\r\\n415,FALSE,0,28,1065,59,2,FALSE,24.2,57\\r\\n416,TRUE,1,19,1061,67,2,FALSE,16.2,72\\r\\n417,FALSE,0,78,462,12,6,TRUE,25.1,47\\r\\n418,FALSE,0,58,782,58,2,FALSE,23.5,68\\r\\n419,FALSE,0,54,779,45,3,FALSE,26.4,49\\r\\n420,TRUE,1,23,1038,83,1,FALSE,24.8,49\\r\\n421,TRUE,1,26,1036,77,3,FALSE,29.5,52\\r\\n422,FALSE,0,48,814,54,3,FALSE,26.4,35\\r\\n423,FALSE,0,26,1181,77,3,FALSE,29.6,47\\r\\n424,FALSE,0,64,736,44,2,FALSE,27.1,60\\r\\n425,FALSE,0,28,1024,57,5,FALSE,26.8,37\\r\\n426,FALSE,0,43,889,51,3,FALSE,27.6,43\\r\\n427,FALSE,0,42,714,20,2,FALSE,21.1,32\\r\\n428,FALSE,0,52,680,12,2,FALSE,21.6,53\\r\\n429,FALSE,0,76,557,18,2,FALSE,28,54\\r\\n430,TRUE,1,56,550,39,5,TRUE,21.7,57\\r\\n431,FALSE,0,28,1051,76,6,FALSE,27.3,31\\r\\n432,FALSE,0,57,739,31,3,FALSE,26.9,49\\r\\n433,FALSE,0,22,1039,51,2,FALSE,18.4,34\\r\\n434,TRUE,1,11,1357,87,8,FALSE,20.4,48\\r\\n435,TRUE,1,26,1096,78,2,FALSE,30.7,66\\r\\n436,FALSE,0,31,861,43,3,FALSE,19.2,41\\r\\n437,FALSE,0,63,738,51,1,FALSE,26.7,58\\r\\n438,FALSE,0,18,1312,71,3,FALSE,27.8,37\\r\\n439,FALSE,0,28,1102,63,1,FALSE,29.8,41\\r\\n440,FALSE,0,74,608,42,2,FALSE,26.7,54\\r\\n441,FALSE,0,43,838,42,2,FALSE,26.4,38\\r\\n442,FALSE,0,25,1031,56,3,FALSE,23.9,24\\r\\n443,FALSE,0,37,913,44,4,FALSE,22.3,65\\r\\n444,FALSE,0,44,840,48,2,FALSE,23.6,53\\r\\n445,TRUE,1,13,1200,70,5,FALSE,18,39\\r\\n446,FALSE,0,29,903,55,4,FALSE,22.3,20\\r\\n447,FALSE,0,29,1099,67,4,FALSE,23.9,74\\r\\n448,FALSE,0,56,961,68,2,FALSE,28.4,95\\r\\n449,FALSE,0,34,977,73,2,FALSE,24.2,51\\r\\n450,FALSE,0,25,1018,57,3,FALSE,16.1,59\\r\\n451,TRUE,1,25,879,36,3,FALSE,19.4,65\\r\\n452,FALSE,0,27,1071,48,2,FALSE,29.5,38\\r\\n453,TRUE,1,19,967,42,2,FALSE,17.9,43\\r\\n454,FALSE,0,24,1018,71,1,FALSE,21,23\\r\\n455,TRUE,1,26,901,44,2,FALSE,26.7,37\\r\\n456,TRUE,1,50,676,36,5,TRUE,27.7,56\\r\\n457,FALSE,0,42,872,64,4,FALSE,24.4,44\\r\\n458,TRUE,1,27,750,31,4,FALSE,18.9,45\\r\\n459,FALSE,0,71,588,29,2,FALSE,26.8,46\\r\\n460,FALSE,0,28,934,46,1,FALSE,23.7,22\\r\\n461,FALSE,0,61,716,19,6,FALSE,27.3,59\\r\\n462,FALSE,0,25,991,60,3,FALSE,20.1,27\\r\\n463,TRUE,1,30,778,62,3,FALSE,20.8,45\\r\\n464,FALSE,0,34,811,45,2,FALSE,17.3,41\\r\\n465,FALSE,0,34,955,78,3,FALSE,22.8,45\\r\\n466,FALSE,0,84,449,13,2,FALSE,26.1,68\\r\\n467,TRUE,1,19,1021,52,2,FALSE,21.9,39\\r\\n468,FALSE,0,66,596,57,4,FALSE,21.7,37\\r\\n469,FALSE,0,25,1137,74,2,FALSE,30.1,26\\r\\n470,FALSE,0,37,759,20,4,FALSE,19.9,36\\r\\n471,TRUE,1,27,916,64,1,FALSE,29.1,31\\r\\n472,FALSE,0,37,967,94,4,FALSE,21.9,53\\r\\n473,FALSE,0,40,918,72,3,FALSE,26.8,36\\r\\n474,TRUE,1,31,808,18,4,FALSE,27.6,52\\r\\n475,FALSE,0,36,813,56,3,FALSE,16.6,46\\r\\n476,FALSE,0,32,887,65,3,FALSE,22,28\\r\\n477,TRUE,1,16,1127,72,3,FALSE,20.3,37\\r\\n478,TRUE,1,43,678,53,1,FALSE,20.5,60\\r\\n479,FALSE,0,28,1183,65,2,FALSE,31.3,60\\r\\n480,TRUE,1,53,537,34,4,FALSE,15.8,76\\r\\n481,TRUE,1,18,1170,61,2,FALSE,28.6,48\\r\\n482,FALSE,0,51,591,27,4,FALSE,17.8,27\\r\\n483,FALSE,0,36,877,29,2,FALSE,26.6,37\\r\\n484,FALSE,0,48,782,53,4,FALSE,21.1,53\\r\\n485,FALSE,0,33,1130,87,5,FALSE,27.8,74\\r\\n486,FALSE,0,55,799,42,1,FALSE,28.8,49\\r\\n487,FALSE,0,64,789,59,1,FALSE,28.6,64\\r\\n488,TRUE,1,19,1067,57,4,FALSE,21.9,58\\r\\n489,TRUE,1,17,1188,82,3,FALSE,27.5,31\\r\\n490,FALSE,0,52,823,35,4,FALSE,30.2,45\\r\\n491,FALSE,0,27,986,27,6,FALSE,19.4,66\\r\\n492,FALSE,0,67,646,41,1,FALSE,23.5,60\\r\\n493,FALSE,0,62,575,46,3,FALSE,15.7,54\\r\\n494,FALSE,0,51,806,37,4,FALSE,26.1,54\\r\\n495,TRUE,1,27,841,46,1,FALSE,24.1,41\\r\\n496,TRUE,1,22,815,7,7,FALSE,20.3,29\\r\\n497,FALSE,0,59,884,61,2,FALSE,31.5,66\\r\\n498,FALSE,0,58,677,35,1,FALSE,26.8,28\\r\\n499,FALSE,0,35,804,31,4,FALSE,21.1,34\\r\\n500,FALSE,0,23,1228,78,4,FALSE,26.2,56\\r\\n501,FALSE,0,27,924,38,2,FALSE,21.7,30\\r\\n502,FALSE,0,45,685,35,2,FALSE,16.9,40\\r\\n503,TRUE,1,12,1222,79,2,FALSE,17.4,31\\r\\n504,TRUE,1,18,1077,62,1,FALSE,19.4,56\\r\\n505,FALSE,0,27,1060,59,2,FALSE,23.3,54\\r\\n506,TRUE,1,24,953,47,2,FALSE,23.7,54\\r\\n507,FALSE,0,44,710,31,3,FALSE,16.1,54\\r\\n508,FALSE,0,25,1155,61,3,FALSE,26.7,55\\r\\n509,FALSE,0,27,1059,48,5,FALSE,23.8,57\\r\\n510,FALSE,0,26,946,60,2,FALSE,20.7,20\\r\\n511,TRUE,1,28,951,67,3,FALSE,28.8,46\\r\\n512,FALSE,0,32,895,49,1,FALSE,19.8,49\\r\\n513,TRUE,1,16,1257,53,5,FALSE,27.9,58\\r\\n514,FALSE,0,23,1184,71,2,FALSE,28.3,31\\r\\n515,FALSE,0,34,900,53,4,FALSE,23.1,41\\r\\n516,FALSE,0,42,786,30,2,FALSE,24.6,33\\r\\n517,FALSE,0,48,950,60,3,FALSE,30.3,62\\r\\n518,FALSE,0,24,1105,66,4,FALSE,19.1,65\\r\\n519,TRUE,1,20,1045,79,1,FALSE,19.2,59\\r\\n520,TRUE,1,34,696,37,4,FALSE,23.8,31\\r\\n521,TRUE,1,25,931,58,2,FALSE,23,54\\r\\n522,TRUE,1,31,682,25,2,FALSE,15.6,64\\r\\n523,FALSE,0,52,915,71,2,FALSE,31.1,50\\r\\n524,FALSE,0,32,961,52,1,FALSE,26.2,40\\r\\n525,FALSE,0,26,911,54,3,FALSE,16.4,32\\r\\n526,FALSE,0,46,789,38,4,FALSE,25.1,38\\r\\n527,FALSE,0,50,762,35,5,FALSE,21.9,58\\r\\n528,TRUE,1,19,1125,72,1,FALSE,26.3,42\\r\\n529,TRUE,1,55,658,34,7,TRUE,30.8,51\\r\\n530,FALSE,0,62,743,49,2,FALSE,24.9,66\\r\\n531,TRUE,1,61,625,28,5,TRUE,31.6,56\\r\\n532,TRUE,1,21,1119,63,4,FALSE,25.3,67\\r\\n533,FALSE,0,53,531,21,3,FALSE,15.9,24\\r\\n534,TRUE,1,14,1184,77,4,FALSE,19.3,44\\r\\n535,FALSE,0,56,708,47,1,FALSE,22.4,49\\r\\n536,FALSE,0,25,1066,58,4,FALSE,20.1,56\\r\\n537,TRUE,1,32,683,15,2,FALSE,24.3,31\\r\\n538,FALSE,0,90,413,41,4,FALSE,29.8,59\\r\\n539,FALSE,0,53,811,43,3,FALSE,27.6,52\\r\\n540,TRUE,1,19,1198,75,2,FALSE,28.5,51\\r\\n541,TRUE,1,62,538,19,4,FALSE,27.8,55\\r\\n542,FALSE,0,60,618,27,1,FALSE,21.3,46\\r\\n543,TRUE,1,17,1101,58,4,FALSE,18.4,61\\r\\n544,FALSE,0,23,1223,67,2,FALSE,26.6,57\\r\\n545,FALSE,0,39,1049,91,4,FALSE,30.9,46\\r\\n546,FALSE,0,77,519,29,6,TRUE,23.5,62\\r\\n547,FALSE,0,58,759,50,1,FALSE,26.1,52\\r\\n548,TRUE,1,15,1169,83,4,FALSE,17.1,57\\r\\n549,TRUE,1,26,766,55,4,FALSE,16.4,39\\r\\n550,TRUE,1,20,1140,77,2,FALSE,24,70\\r\\n551,FALSE,0,51,727,36,2,FALSE,22.2,48\\r\\n552,FALSE,0,54,869,66,2,FALSE,28.1,59\\r\\n553,FALSE,0,47,834,65,3,FALSE,23.7,46\\r\\n554,TRUE,1,29,743,55,5,FALSE,17.9,44\\r\\n555,TRUE,1,11,1402,100,3,FALSE,21.1,59\\r\\n556,FALSE,0,35,900,65,3,FALSE,24.9,25\\r\\n557,TRUE,1,22,934,47,3,FALSE,19.3,54\\r\\n558,FALSE,0,67,585,24,3,FALSE,22.3,53\\r\\n559,FALSE,0,20,1160,71,3,FALSE,26.3,10\\r\\n560,FALSE,0,26,1035,58,1,FALSE,20.1,53\\r\\n561,FALSE,0,22,1117,51,1,FALSE,28.5,17\\r\\n562,TRUE,1,18,1016,51,5,FALSE,16.9,57\\r\\n563,TRUE,1,16,1177,86,4,FALSE,21.2,41\\r\\n564,FALSE,0,42,879,58,2,FALSE,26.3,38\\r\\n565,TRUE,1,29,763,35,3,FALSE,21.4,48\\r\\n566,TRUE,1,13,1469,99,3,FALSE,27.7,67\\r\\n567,TRUE,1,27,852,63,2,FALSE,22.6,39\\r\\n568,TRUE,1,29,838,50,4,FALSE,23.8,55\\r\\n569,TRUE,1,14,1321,98,3,FALSE,24.4,52\\r\\n570,FALSE,0,75,516,32,5,TRUE,27.3,31\\r\\n571,FALSE,0,46,648,33,3,FALSE,18.4,23\\r\\n572,TRUE,1,14,1123,64,5,FALSE,20.8,20\\r\\n573,TRUE,1,15,1226,86,3,FALSE,19.7,55\\r\\n574,FALSE,0,25,977,47,3,FALSE,18.2,47\\r\\n575,TRUE,1,25,1078,81,6,FALSE,26.4,73\\r\\n576,FALSE,0,54,805,64,4,FALSE,24.4,56\\r\\n577,FALSE,0,57,836,33,3,FALSE,31.8,59\\r\\n578,FALSE,0,29,1074,54,1,FALSE,26,66\\r\\n579,FALSE,0,59,649,34,3,FALSE,23.1,41\\r\\n580,FALSE,0,38,949,48,3,FALSE,27,55\\r\\n581,FALSE,0,51,790,35,5,FALSE,24.5,60\\r\\n582,TRUE,1,20,1134,60,4,FALSE,25.9,67\\r\\n583,TRUE,1,52,569,49,4,FALSE,19.1,58\\r\\n584,FALSE,0,43,796,50,2,FALSE,18.9,53\\r\\n585,TRUE,1,23,985,53,5,FALSE,28.4,35\\r\\n586,FALSE,0,22,1121,66,2,FALSE,18.7,58\\r\\n587,FALSE,0,58,763,41,2,FALSE,26.9,55\\r\\n588,TRUE,1,28,788,38,3,FALSE,18.8,56\\r\\n589,TRUE,1,38,690,41,6,TRUE,20.7,54\\r\\n590,FALSE,0,24,1064,64,3,FALSE,19.8,45\\r\\n591,TRUE,1,31,910,64,3,FALSE,30.7,47\\r\\n592,TRUE,1,30,848,54,1,FALSE,24,57\\r\\n593,TRUE,1,47,578,33,6,TRUE,20.7,50\\r\\n594,TRUE,1,28,795,42,1,FALSE,23,36\\r\\n595,FALSE,0,40,751,36,1,FALSE,17.7,44\\r\\n596,FALSE,0,47,855,65,5,FALSE,28.5,29\\r\\n597,FALSE,0,36,897,49,3,FALSE,26.1,34\\r\\n598,TRUE,1,22,1024,62,2,FALSE,25.8,46\\r\\n599,TRUE,1,15,1142,85,5,FALSE,20.1,22\\r\\n600,FALSE,0,28,962,48,1,FALSE,25.1,24\\r\\n601,FALSE,0,45,837,21,2,FALSE,25.2,63\\r\\n602,FALSE,0,50,777,37,4,FALSE,26.4,40\\r\\n603,FALSE,0,38,743,41,2,FALSE,19.7,22\\r\\n604,TRUE,1,26,779,26,2,FALSE,18.7,46\\r\\n605,TRUE,1,46,684,32,2,FALSE,24.1,66\\r\\n606,FALSE,0,34,860,37,4,FALSE,18.7,57\\r\\n607,FALSE,0,26,1094,52,2,FALSE,25.7,54\\r\\n608,FALSE,0,47,796,34,4,FALSE,21.7,64\\r\\n609,FALSE,0,51,719,45,2,FALSE,22.8,37\\r\\n610,TRUE,1,25,951,58,2,FALSE,23.2,58\\r\\n611,FALSE,0,26,1065,68,3,FALSE,24.1,39\\r\\n612,TRUE,1,37,665,27,1,FALSE,21.2,48\\r\\n613,FALSE,0,46,938,52,1,FALSE,26,79\\r\\n614,FALSE,0,47,750,42,7,FALSE,18.1,61\\r\\n615,TRUE,1,16,1163,65,3,FALSE,20.9,58\\r\\n616,FALSE,0,27,967,56,4,FALSE,21.2,32\\r\\n617,TRUE,1,23,902,60,5,FALSE,19.8,37\\r\\n618,TRUE,1,28,1090,80,4,FALSE,30.7,80\\r\\n619,FALSE,0,38,802,46,6,FALSE,20.9,32\\r\\n620,FALSE,0,27,1019,54,1,FALSE,22.6,51\\r\\n621,FALSE,0,61,742,8,5,FALSE,30.6,60\\r\\n622,TRUE,1,28,851,34,5,FALSE,23.6,62\\r\\n623,FALSE,0,33,923,45,4,FALSE,20.3,63\\r\\n624,FALSE,0,27,963,53,2,FALSE,18.4,45\\r\\n625,FALSE,0,21,1243,76,1,FALSE,28.2,36\\r\\n626,FALSE,0,27,1050,68,2,FALSE,23.1,43\\r\\n627,FALSE,0,50,691,37,2,FALSE,21.3,35\\r\\n628,FALSE,0,46,818,36,4,FALSE,23.9,56\\r\\n629,FALSE,0,35,974,55,2,FALSE,23.8,63\\r\\n630,TRUE,1,53,576,23,2,FALSE,19.5,77\\r\\n631,TRUE,1,28,965,61,4,FALSE,30.3,53\\r\\n632,FALSE,0,22,1096,61,4,FALSE,22,35\\r\\n633,TRUE,1,19,1091,44,3,FALSE,24.6,62\\r\\n634,TRUE,1,46,724,30,4,FALSE,28.3,60\\r\\n635,TRUE,1,23,959,48,1,FALSE,24.2,44\\r\\n636,TRUE,1,27,834,48,2,FALSE,25.7,26\\r\\n637,FALSE,0,24,1132,56,6,FALSE,23.8,58\\r\\n638,FALSE,0,48,969,83,4,FALSE,28.6,63\\r\\n639,TRUE,1,28,820,54,4,FALSE,21.9,43\\r\\n640,TRUE,1,17,1164,78,3,FALSE,21.8,55\\r\\n641,TRUE,1,26,795,49,3,FALSE,18.2,44\\r\\n642,TRUE,1,27,913,44,4,FALSE,25.9,57\\r\\n643,TRUE,1,16,1254,72,5,FALSE,29.3,46\\r\\n644,TRUE,1,17,1036,58,2,FALSE,17.9,43\\r\\n645,FALSE,0,23,1193,83,1,FALSE,24.6,49\\r\\n646,FALSE,0,43,938,46,3,FALSE,31.8,44\\r\\n647,TRUE,1,19,938,40,4,FALSE,18.6,39\\r\\n648,FALSE,0,63,762,51,1,FALSE,30.8,43\\r\\n649,FALSE,0,35,1014,54,2,FALSE,30.4,47\\r\\n650,TRUE,1,21,1036,48,3,FALSE,25.5,51\\r\\n651,TRUE,1,41,737,40,4,FALSE,23.3,69\\r\\n652,FALSE,0,28,803,17,5,FALSE,17.5,29\\r\\n653,FALSE,0,29,993,63,3,FALSE,22.9,45\\r\\n654,TRUE,1,18,1074,59,3,FALSE,19.1,56\\r\\n655,TRUE,1,50,674,33,4,FALSE,24.4,72\\r\\n656,FALSE,0,46,709,23,5,FALSE,18.4,54\\r\\n657,FALSE,0,35,994,62,5,FALSE,27.6,47\\r\\n658,FALSE,0,40,880,61,1,FALSE,23.8,43\\r\\n659,FALSE,0,64,718,32,3,FALSE,29.1,53\\r\\n660,FALSE,0,53,763,44,2,FALSE,22.1,61\\r\\n661,TRUE,1,24,853,43,4,FALSE,18.7,45\\r\\n662,FALSE,0,77,399,17,4,FALSE,18.6,50\\r\\n663,TRUE,1,30,875,54,1,FALSE,27.6,51\\r\\n664,FALSE,0,32,1004,37,4,FALSE,27.7,58\\r\\n665,TRUE,1,25,999,64,2,FALSE,25.3,63\\r\\n666,FALSE,0,38,846,47,1,FALSE,20.1,52\\r\\n667,TRUE,1,24,942,53,5,FALSE,23.1,47\\r\\n668,TRUE,1,23,998,71,2,FALSE,20.4,67\\r\\n669,FALSE,0,71,550,34,3,FALSE,22.6,50\\r\\n670,FALSE,0,25,1036,46,2,FALSE,17.7,70\\r\\n671,TRUE,1,27,941,64,1,FALSE,27.7,47\\r\\n672,FALSE,0,24,1041,45,3,FALSE,19.1,56\\r\\n673,FALSE,0,71,512,31,1,FALSE,24.8,26\\r\\n674,TRUE,1,21,989,75,2,FALSE,18.9,46\\r\\n675,TRUE,1,19,1137,67,3,FALSE,26.9,47\\r\\n676,FALSE,0,47,696,34,3,FALSE,19.8,37\\r\\n677,FALSE,0,29,954,52,4,FALSE,23.9,33\\r\\n678,FALSE,0,33,928,45,2,FALSE,21.1,61\\r\\n679,TRUE,1,56,612,29,3,FALSE,27,60\\r\\n680,TRUE,1,22,878,45,3,FALSE,19.7,29\\r\\n681,FALSE,0,47,652,8,4,FALSE,16.5,54\\r\\n682,FALSE,0,24,1079,50,4,FALSE,25.3,32\\r\\n683,TRUE,1,19,1144,78,4,FALSE,28.7,33\\r\\n684,FALSE,0,39,853,45,5,FALSE,21.3,55\\r\\n685,TRUE,1,25,1006,77,6,FALSE,29.1,38\\r\\n686,TRUE,1,28,798,43,3,FALSE,17.8,61\\r\\n687,FALSE,0,36,840,37,3,FALSE,20.8,48\\r\\n688,FALSE,0,41,1030,85,2,FALSE,29.6,55\\r\\n689,FALSE,0,21,1036,47,3,FALSE,16.6,40\\r\\n690,FALSE,0,46,820,58,2,FALSE,25.9,32\\r\\n691,FALSE,0,50,803,47,1,FALSE,22.7,60\\r\\n692,FALSE,0,30,955,63,3,FALSE,20.1,51\\r\\n693,TRUE,1,20,990,42,3,FALSE,22.6,44\\r\\n694,TRUE,1,19,1065,56,2,FALSE,22,49\\r\\n695,FALSE,0,51,793,50,2,FALSE,21.2,66\\r\\n696,FALSE,0,32,861,19,3,FALSE,24,38\\r\\n697,FALSE,0,51,759,57,2,FALSE,23.6,37\\r\\n698,FALSE,0,34,931,49,1,FALSE,25.8,39\\r\\n699,FALSE,0,53,569,18,3,FALSE,18.6,25\\r\\n700,TRUE,1,24,895,34,2,FALSE,19.8,59\\r\\n701,FALSE,0,27,1066,95,4,FALSE,19.6,50\\r\\n702,TRUE,1,26,918,51,2,FALSE,24.3,51\\r\\n703,FALSE,0,22,1265,75,1,FALSE,29.3,47\\r\\n704,TRUE,1,29,654,22,5,TRUE,16.8,40\\r\\n705,TRUE,1,16,1131,58,2,FALSE,23.9,36\\r\\n706,FALSE,0,37,1050,53,3,FALSE,31.8,60\\r\\n707,TRUE,1,27,812,43,3,FALSE,25.3,28\\r\\n708,FALSE,0,48,844,45,2,FALSE,26.2,54\\r\\n709,TRUE,1,20,1031,65,2,FALSE,23.4,37\\r\\n710,FALSE,0,66,580,20,3,FALSE,22.2,52\\r\\n711,FALSE,0,52,667,37,3,FALSE,20.5,37\\r\\n712,TRUE,1,27,934,64,3,FALSE,28.1,40\\r\\n713,FALSE,0,28,1045,45,3,FALSE,22.6,72\\r\\n714,TRUE,1,37,844,45,4,FALSE,29.9,57\\r\\n715,FALSE,0,61,579,29,3,FALSE,24.9,18\\r\\n716,TRUE,1,31,841,62,2,FALSE,24.8,49\\r\\n717,TRUE,1,16,1158,69,1,FALSE,22.8,41\\r\\n718,FALSE,0,55,639,54,1,FALSE,19,32\\r\\n719,FALSE,0,22,1188,63,7,FALSE,24,51\\r\\n720,FALSE,0,56,767,27,1,FALSE,28.8,49\\r\\n721,FALSE,0,24,1180,63,3,FALSE,28.7,43\\r\\n722,TRUE,1,23,1005,51,4,FALSE,20.5,75\\r\\n723,FALSE,0,22,1053,61,4,FALSE,22.1,16\\r\\n724,TRUE,1,18,1125,86,5,FALSE,18.8,59\\r\\n725,FALSE,0,21,1315,87,3,FALSE,29.5,44\\r\\n726,FALSE,0,52,794,36,4,FALSE,25.9,57\\r\\n727,FALSE,0,28,968,64,4,FALSE,20.7,41\\r\\n728,FALSE,0,35,1070,87,3,FALSE,31.9,39\\r\\n729,FALSE,0,47,751,22,4,FALSE,28.1,24\\r\\n730,TRUE,1,33,799,34,1,FALSE,28.3,45\\r\\n731,TRUE,1,24,962,50,3,FALSE,19.2,82\\r\\n732,FALSE,0,34,861,23,5,FALSE,19.9,61\\r\\n733,FALSE,0,44,951,56,3,FALSE,26.8,71\\r\\n734,FALSE,0,59,820,57,5,FALSE,28.6,60\\r\\n735,TRUE,1,26,820,36,2,FALSE,17.3,64\\r\\n736,TRUE,1,21,1171,77,2,FALSE,28.3,60\\r\\n737,FALSE,0,77,495,27,4,FALSE,23,54\\r\\n738,TRUE,1,17,1084,75,7,FALSE,19.7,39\\r\\n739,FALSE,0,72,613,19,2,FALSE,31.7,40\\r\\n740,TRUE,1,19,1037,48,1,FALSE,26.1,25\\r\\n741,FALSE,0,25,1141,78,7,FALSE,25.5,48\\r\\n742,TRUE,1,29,945,54,2,FALSE,28.8,60\\r\\n743,FALSE,0,26,1130,74,1,FALSE,23.3,62\\r\\n744,TRUE,1,26,968,48,3,FALSE,28.7,49\\r\\n745,FALSE,0,29,948,64,2,FALSE,21.2,40\\r\\n746,FALSE,0,62,898,49,3,FALSE,30.4,94\\r\\n747,FALSE,0,35,1020,64,4,FALSE,27.5,58\\r\\n748,FALSE,0,41,753,18,1,FALSE,15.9,67\\r\\n749,FALSE,0,49,807,40,4,FALSE,27.1,43\\r\\n750,TRUE,1,24,826,53,6,FALSE,15.8,47\\r\\n751,TRUE,1,14,1204,58,2,FALSE,20.2,54\\r\\n752,FALSE,0,26,1102,88,2,FALSE,17.1,71\\r\\n753,TRUE,1,26,785,44,2,FALSE,18.5,43\\r\\n754,TRUE,1,20,1064,76,1,FALSE,19.8,60\\r\\n755,FALSE,0,32,949,36,3,FALSE,31.7,18\\r\\n756,TRUE,1,23,1015,71,3,FALSE,26.3,41\\r\\n757,TRUE,1,29,849,41,3,FALSE,29.8,30\\r\\n758,TRUE,1,31,798,29,5,FALSE,23.3,63\\r\\n759,FALSE,0,56,836,65,1,FALSE,29.9,45\\r\\n760,FALSE,0,23,1126,71,2,FALSE,22.8,42\\r\\n761,TRUE,1,23,921,54,3,FALSE,17.2,67\\r\\n762,FALSE,0,49,745,47,2,FALSE,17.4,63\\r\\n763,FALSE,0,43,744,26,3,FALSE,22.1,35\\r\\n764,TRUE,1,28,920,58,3,FALSE,26.8,54\\r\\n765,TRUE,1,45,710,54,3,FALSE,30.1,30\\r\\n766,FALSE,0,30,976,57,2,FALSE,25.2,41\\r\\n767,FALSE,0,43,954,56,2,FALSE,26.2,70\\r\\n768,FALSE,0,31,1047,75,3,FALSE,23.1,68\\r\\n769,FALSE,0,44,992,58,4,FALSE,31.1,63\\r\\n770,TRUE,1,49,495,5,3,FALSE,21.6,40\\r\\n771,TRUE,1,25,691,24,5,TRUE,17.1,21\\r\\n772,FALSE,0,20,1119,61,4,FALSE,20.4,31\\r\\n773,FALSE,0,44,928,44,3,FALSE,28.7,61\\r\\n774,FALSE,0,44,717,22,4,FALSE,19.9,44\\r\\n775,TRUE,1,25,771,49,1,FALSE,20.4,17\\r\\n776,FALSE,0,80,383,6,2,FALSE,22.4,45\\r\\n777,FALSE,0,71,558,13,2,FALSE,21.8,67\\r\\n778,FALSE,0,42,903,44,3,FALSE,26.3,57\\r\\n779,TRUE,1,29,685,26,3,FALSE,19.3,36\\r\\n780,FALSE,0,50,598,25,4,FALSE,18,26\\r\\n781,FALSE,0,42,876,64,2,FALSE,25.8,36\\r\\n782,FALSE,0,43,960,47,4,FALSE,32.1,48\\r\\n783,FALSE,0,26,1153,55,1,FALSE,28.2,60\\r\\n784,FALSE,0,23,992,68,3,FALSE,17.8,20\\r\\n785,TRUE,1,31,782,33,4,FALSE,21.8,62\\r\\n786,TRUE,1,22,1046,70,3,FALSE,25.2,48\\r\\n787,FALSE,0,41,851,41,2,FALSE,22.4,56\\r\\n788,FALSE,0,36,845,61,1,FALSE,22.6,24\\r\\n789,TRUE,1,51,432,13,2,FALSE,17.6,38\\r\\n790,TRUE,1,53,644,28,5,TRUE,31.3,41\\r\\n791,TRUE,1,37,689,44,5,TRUE,18.1,62\\r\\n792,TRUE,1,16,1274,79,3,FALSE,25.2,62\\r\\n793,FALSE,0,68,724,46,2,FALSE,30.3,54\\r\\n794,FALSE,0,77,431,12,3,FALSE,17.9,70\\r\\n795,FALSE,0,51,661,18,4,FALSE,20.9,40\\r\\n796,FALSE,0,39,984,66,3,FALSE,26.3,62\\r\\n797,FALSE,0,75,480,26,1,FALSE,21.9,47\\r\\n798,FALSE,0,55,839,59,2,FALSE,31.4,38\\r\\n799,FALSE,0,32,999,51,2,FALSE,24.7,61\\r\\n800,FALSE,0,52,880,60,2,FALSE,26.6,67\\r\\n801,FALSE,0,43,877,78,3,FALSE,20.3,60\\r\\n802,FALSE,0,26,1016,70,2,FALSE,19.8,40\\r\\n803,TRUE,1,27,915,52,1,FALSE,28.5,41\\r\\n804,TRUE,1,29,895,55,1,FALSE,24.4,67\\r\\n805,FALSE,0,43,774,38,2,FALSE,19.6,53\\r\\n806,TRUE,1,25,938,57,6,FALSE,22.4,59\\r\\n807,FALSE,0,28,974,52,3,FALSE,22.1,43\\r\\n808,TRUE,1,22,1059,64,3,FALSE,23.6,65\\r\\n809,FALSE,0,35,855,54,4,FALSE,21.1,36\\r\\n810,FALSE,0,47,914,38,3,FALSE,30.8,56\\r\\n811,FALSE,0,33,856,34,1,FALSE,22.3,36\\r\\n812,TRUE,1,15,1078,47,4,FALSE,23.9,13\\r\\n813,TRUE,1,24,795,54,2,FALSE,17.6,29\\r\\n814,TRUE,1,11,1404,87,5,FALSE,22.8,50\\r\\n815,TRUE,1,27,792,39,4,FALSE,16.7,60\\r\\n816,FALSE,0,31,871,70,2,FALSE,20.2,23\\r\\n817,FALSE,0,48,650,34,2,FALSE,18.6,30\\r\\n818,FALSE,0,59,796,51,1,FALSE,25.4,72\\r\\n819,FALSE,0,28,974,48,3,FALSE,23.4,42\\r\\n820,FALSE,0,66,657,43,3,FALSE,24.7,55\\r\\n821,TRUE,1,29,919,79,4,FALSE,28.6,40\\r\\n822,TRUE,1,13,1293,86,2,FALSE,23.4,43\\r\\n823,FALSE,0,56,760,39,3,FALSE,26.9,49\\r\\n824,TRUE,1,22,972,70,7,FALSE,19.8,48\\r\\n825,FALSE,0,34,881,47,4,FALSE,21.3,45\\r\\n826,FALSE,0,15,1392,89,1,FALSE,22.3,41\\r\\n827,FALSE,0,56,499,28,3,FALSE,18.4,5\\r\\n828,TRUE,1,27,995,52,1,FALSE,26.5,74\\r\\n829,FALSE,0,68,527,19,2,FALSE,16.1,73\\r\\n830,FALSE,0,29,1021,56,4,FALSE,29,32\\r\\n831,TRUE,1,26,870,48,1,FALSE,22.8,45\\r\\n832,TRUE,1,16,1202,70,4,FALSE,21.4,67\\r\\n833,TRUE,1,22,899,38,3,FALSE,16.4,62\\r\\n834,FALSE,0,44,958,68,4,FALSE,26.7,65\\r\\n835,FALSE,0,52,797,32,3,FALSE,31.1,33\\r\\n836,FALSE,0,41,956,51,3,FALSE,23.4,84\\r\\n837,TRUE,1,17,1203,61,4,FALSE,31.8,32\\r\\n838,FALSE,0,74,633,37,3,FALSE,28.5,58\\r\\n839,FALSE,0,47,768,16,2,FALSE,24.9,50\\r\\n840,FALSE,0,51,767,39,1,FALSE,25.6,42\\r\\n841,TRUE,1,51,664,47,6,TRUE,28.4,42\\r\\n842,FALSE,0,49,723,45,4,FALSE,22.1,34\\r\\n843,TRUE,1,21,1058,51,3,FALSE,21.7,70\\r\\n844,FALSE,0,37,825,23,1,FALSE,21.5,49\\r\\n845,FALSE,0,26,997,55,3,FALSE,18.8,51\\r\\n846,FALSE,0,47,861,47,2,FALSE,27.4,51\\r\\n847,TRUE,1,23,1034,67,5,FALSE,27.3,42\\r\\n848,TRUE,1,16,1170,73,1,FALSE,25.1,32\\r\\n849,TRUE,1,14,1311,96,2,FALSE,23.4,51\\r\\n850,FALSE,0,53,754,51,1,FALSE,28.9,18\\r\\n851,FALSE,0,28,1014,62,2,FALSE,26,28\\r\\n852,TRUE,1,10,1292,67,4,FALSE,17.9,33\\r\\n853,TRUE,1,45,643,28,7,TRUE,27.7,33\\r\\n854,TRUE,1,12,1321,97,4,FALSE,18.7,49\\r\\n855,FALSE,0,35,961,52,3,FALSE,22.1,70\\r\\n856,FALSE,0,28,885,47,3,FALSE,20.2,26\\r\\n857,TRUE,1,22,1051,64,6,FALSE,25.3,54\\r\\n858,TRUE,1,24,943,66,1,FALSE,20.1,60\\r\\n859,TRUE,1,26,828,59,1,FALSE,21.4,34\\r\\n860,TRUE,1,20,1061,58,5,FALSE,23.8,47\\r\\n861,FALSE,0,64,649,62,3,FALSE,19.3,59\\r\\n862,FALSE,0,44,891,47,1,FALSE,28.8,44\\r\\n863,FALSE,0,29,1042,77,3,FALSE,24.6,45\\r\\n864,FALSE,0,56,857,49,3,FALSE,31.7,52\\r\\n865,TRUE,1,17,1185,67,3,FALSE,27.2,47\\r\\n866,FALSE,0,26,1069,83,2,FALSE,22.6,40\\r\\n867,FALSE,0,25,1008,42,2,FALSE,20.1,46\\r\\n868,TRUE,1,20,1002,50,1,FALSE,15.6,74\\r\\n869,TRUE,1,20,1109,66,3,FALSE,24.1,60\\r\\n870,TRUE,1,24,1003,72,3,FALSE,28.1,35\\r\\n871,TRUE,1,15,1046,56,2,FALSE,17.1,30\\r\\n872,FALSE,0,29,927,26,2,FALSE,23,43\\r\\n873,TRUE,1,47,753,41,4,FALSE,28.7,66\\r\\n874,FALSE,0,66,604,26,3,FALSE,23.5,52\\r\\n875,FALSE,0,39,767,14,5,FALSE,22,38\\r\\n876,FALSE,0,40,926,79,3,FALSE,21.3,60\\r\\n877,TRUE,1,81,336,20,1,FALSE,29.2,46\\r\\n878,FALSE,0,26,1036,52,4,FALSE,25.3,32\\r\\n879,FALSE,0,23,1129,75,5,FALSE,20.4,54\\r\\n880,TRUE,1,29,973,49,3,FALSE,30,69\\r\\n881,TRUE,1,34,789,45,1,FALSE,25,54\\r\\n882,FALSE,0,25,1177,73,5,FALSE,28,50\\r\\n883,FALSE,0,25,1083,77,3,FALSE,22.1,38\\r\\n884,FALSE,0,58,671,12,2,FALSE,24.2,56\\r\\n885,FALSE,0,57,537,13,4,FALSE,18.3,33\\r\\n886,TRUE,1,18,998,48,5,FALSE,21.1,24\\r\\n887,TRUE,1,55,587,12,3,FALSE,28.9,47\\r\\n888,TRUE,1,29,884,46,2,FALSE,27.8,47\\r\\n889,FALSE,0,52,877,53,2,FALSE,24.6,81\\r\\n890,FALSE,0,31,954,50,2,FALSE,27.3,31\\r\\n891,TRUE,1,25,884,56,3,FALSE,20.4,50\\r\\n892,TRUE,1,20,975,59,4,FALSE,15.6,59\\r\\n893,TRUE,1,23,1007,58,3,FALSE,23,62\\r\\n894,TRUE,1,27,798,30,3,FALSE,21.6,47\\r\\n895,FALSE,0,24,974,48,4,FALSE,17.5,37\\r\\n896,FALSE,0,45,711,31,4,FALSE,18.1,47\\r\\n897,FALSE,0,48,798,39,1,FALSE,19.5,75\\r\\n898,TRUE,1,51,594,35,2,FALSE,23,54\\r\\n899,FALSE,0,28,945,51,1,FALSE,24.4,19\\r\\n900,TRUE,1,25,990,50,4,FALSE,24.4,68\\r\\n901,FALSE,0,44,808,39,5,FALSE,21.4,55\\r\\n902,FALSE,0,60,754,40,3,FALSE,29,47\\r\\n903,FALSE,0,56,752,43,4,FALSE,26.4,47\\r\\n904,FALSE,0,41,860,36,3,FALSE,25.7,46\\r\\n905,TRUE,1,24,841,31,3,FALSE,17.9,51\\r\\n906,TRUE,1,27,820,33,3,FALSE,24.2,41\\r\\n907,FALSE,0,21,1113,51,4,FALSE,18.5,51\\r\\n908,TRUE,1,28,876,63,5,FALSE,26.9,35\\r\\n909,TRUE,1,13,1441,99,4,FALSE,31.2,50\\r\\n910,FALSE,0,20,1301,78,1,FALSE,24.3,63\\r\\n911,TRUE,1,20,920,29,1,FALSE,15.9,55\\r\\n912,TRUE,1,15,1252,71,1,FALSE,22.5,62\\r\\n913,FALSE,0,52,711,43,5,FALSE,23.8,32\\r\\n914,FALSE,0,43,869,59,3,FALSE,24,48\\r\\n915,TRUE,1,25,896,49,2,FALSE,20.8,56\\r\\n916,FALSE,0,47,719,26,6,FALSE,23.3,33\\r\\n917,FALSE,0,39,1001,61,3,FALSE,26.6,69\\r\\n918,TRUE,1,24,1034,63,3,FALSE,31.4,33\\r\\n919,TRUE,1,20,1046,62,2,FALSE,23.2,50\\r\\n920,FALSE,0,34,937,77,2,FALSE,21,50\\r\\n921,FALSE,0,46,808,59,4,FALSE,21.7,49\\r\\n922,FALSE,0,45,889,42,1,FALSE,30.1,45\\r\\n923,FALSE,0,36,882,37,2,FALSE,22.2,54\\r\\n924,TRUE,1,24,851,56,4,FALSE,20.2,33\\r\\n925,FALSE,0,35,829,35,4,FALSE,22.9,30\\r\\n926,TRUE,1,16,1286,87,4,FALSE,30.2,38\\r\\n927,FALSE,0,80,463,24,2,FALSE,25.4,47\\r\\n928,FALSE,0,53,903,64,3,FALSE,28.6,65\\r\\n929,TRUE,1,19,1142,67,2,FALSE,23.4,70\\r\\n930,TRUE,1,41,721,40,4,FALSE,25.2,52\\r\\n931,FALSE,0,31,913,48,5,FALSE,20.2,53\\r\\n932,TRUE,1,12,1288,74,2,FALSE,20.8,44\\r\\n933,FALSE,0,51,613,24,4,FALSE,15.6,48\\r\\n934,TRUE,1,24,809,34,3,FALSE,19.9,28\\r\\n935,FALSE,0,51,858,43,6,FALSE,29.8,52\\r\\n936,FALSE,0,58,543,11,2,FALSE,17.8,40\\r\\n937,TRUE,1,14,1410,87,3,FALSE,30.7,52\\r\\n938,TRUE,1,28,682,27,5,TRUE,16.7,43\\r\\n939,TRUE,1,19,1170,81,5,FALSE,29.1,38\\r\\n940,FALSE,0,40,889,75,1,FALSE,22.6,45\\r\\n941,FALSE,0,24,1044,38,6,FALSE,23,42\\r\\n942,FALSE,0,56,850,51,3,FALSE,29.1,63\\r\\n943,TRUE,1,28,954,52,2,FALSE,29.8,51\\r\\n944,TRUE,1,28,842,54,3,FALSE,22.3,54\\r\\n945,TRUE,1,27,829,30,1,FALSE,27.4,30\\r\\n946,FALSE,0,68,658,41,2,FALSE,23.5,69\\r\\n947,FALSE,0,36,775,6,2,FALSE,19.5,50\\r\\n948,FALSE,0,26,979,60,2,FALSE,19.5,36\\r\\n949,FALSE,0,22,1194,80,3,FALSE,22.9,52\\r\\n950,FALSE,0,45,853,33,2,FALSE,25.4,60\\r\\n951,FALSE,0,37,1013,81,3,FALSE,31.9,28\\r\\n952,FALSE,0,69,657,26,2,FALSE,25.4,71\\r\\n953,FALSE,0,28,1000,55,6,FALSE,23.4,45\\r\\n954,TRUE,1,25,1042,64,1,FALSE,28.7,63\\r\\n955,TRUE,1,24,997,61,2,FALSE,26.5,49\\r\\n956,TRUE,1,28,931,61,6,FALSE,29.2,43\\r\\n957,FALSE,0,28,1069,70,3,FALSE,30.9,22\\r\\n958,TRUE,1,21,860,41,1,FALSE,17.7,32\\r\\n959,FALSE,0,49,718,30,3,FALSE,21.2,47\\r\\n960,TRUE,1,25,849,38,3,FALSE,17.9,59\\r\\n961,FALSE,0,28,965,50,3,FALSE,25.3,21\\r\\n962,FALSE,0,23,1106,71,3,FALSE,16.1,67\\r\\n963,FALSE,0,23,1218,79,3,FALSE,23.4,67\\r\\n964,TRUE,1,28,801,52,2,FALSE,23.4,32\\r\\n965,FALSE,0,51,725,43,5,FALSE,20.1,54\\r\\n966,FALSE,0,34,1003,73,3,FALSE,29.1,33\\r\\n967,TRUE,1,18,1054,63,3,FALSE,18.9,46\\r\\n968,TRUE,1,32,834,56,1,FALSE,23.7,61\\r\\n969,FALSE,0,37,954,53,4,FALSE,25,60\\r\\n970,TRUE,1,18,971,50,3,FALSE,17.8,36\\r\\n971,FALSE,0,22,1209,62,4,FALSE,28.7,42\\r\\n972,TRUE,1,30,662,39,1,FALSE,17.6,34\\r\\n973,TRUE,1,21,980,51,4,FALSE,21.1,52\\r\\n974,TRUE,1,17,1094,64,2,FALSE,23.2,26\\r\\n975,FALSE,0,25,959,46,2,FALSE,23.1,11\\r\\n976,FALSE,0,42,823,49,3,FALSE,17.7,68\\r\\n977,TRUE,1,22,1178,81,6,FALSE,26.8,79\\r\\n978,FALSE,0,45,768,38,1,FALSE,22.4,41\\r\\n979,FALSE,0,67,622,35,2,FALSE,23,58\\r\\n980,TRUE,1,24,1017,42,3,FALSE,31.3,48\\r\\n981,FALSE,0,38,1021,57,3,FALSE,28.4,68\\r\\n982,TRUE,1,19,1021,61,4,FALSE,16.9,55\\r\\n983,TRUE,1,78,301,24,5,TRUE,22.8,50\\r\\n984,FALSE,0,32,797,16,3,FALSE,22.8,22\\r\\n985,FALSE,0,31,981,60,5,FALSE,21.5,63\\r\\n986,FALSE,0,31,865,51,4,FALSE,18.2,43\\r\\n987,TRUE,1,20,1027,66,2,FALSE,24.9,28\\r\\n988,FALSE,0,55,804,39,2,FALSE,30.3,45\\r\\n989,FALSE,0,57,803,56,2,FALSE,29.3,46\\r\\n990,TRUE,1,24,1060,81,3,FALSE,26.3,62\\r\\n991,FALSE,0,62,726,58,1,FALSE,29.5,31\\r\\n992,FALSE,0,39,921,59,2,FALSE,27.3,40\\r\\n993,TRUE,1,18,1150,79,3,FALSE,20.7,68\\r\\n994,FALSE,0,49,819,29,2,FALSE,24.6,67\\r\\n995,TRUE,1,30,843,42,3,FALSE,23.8,64\\r\\n996,FALSE,0,17,1299,78,4,FALSE,16.2,71\\r\\n997,TRUE,1,16,1131,65,3,FALSE,20.5,50\\r\\n998,FALSE,0,60,649,21,2,FALSE,25.8,39\\r\\n999,FALSE,0,28,990,55,4,FALSE,20.8,55\\r\\n1000,FALSE,0,28,1042,37,1,FALSE,25,62\\r\\n1001,FALSE,0,66,822,67,2,FALSE,27.7,81\\r\\n1002,FALSE,0,46,676,32,3,FALSE,21.4,20\\r\\n1003,FALSE,0,42,779,62,2,FALSE,16.1,51\\r\\n1004,TRUE,1,14,1164,47,4,FALSE,17.2,57\\r\\n1005,FALSE,0,45,844,44,4,FALSE,25.9,47\\r\\n1006,TRUE,1,15,1107,52,3,FALSE,23.4,26\\r\\n1007,FALSE,0,23,1198,69,4,FALSE,24.1,58\\r\\n1008,FALSE,0,36,813,16,2,FALSE,23.3,37\\r\\n1009,FALSE,0,34,1047,69,1,FALSE,28.7,55\\r\\n1010,FALSE,0,47,797,25,3,FALSE,23.6,60\\r\\n1011,FALSE,0,31,990,72,3,FALSE,20.2,66\\r\\n1012,FALSE,0,53,585,36,2,FALSE,17.4,26\\r\\n1013,TRUE,1,16,1288,91,2,FALSE,24.7,63\\r\\n1014,FALSE,0,72,628,30,3,FALSE,31.9,37\\r\\n1015,FALSE,0,47,733,28,1,FALSE,25,30\\r\\n1016,FALSE,0,44,928,66,4,FALSE,24.8,66\\r\\n1017,FALSE,0,49,788,43,3,FALSE,21.3,64\\r\\n1018,FALSE,0,24,1040,54,3,FALSE,20.7,44\\r\\n1019,FALSE,0,65,628,31,3,FALSE,22.4,58\\r\\n1020,FALSE,0,51,710,48,2,FALSE,21.5,36\\r\\n1021,FALSE,0,46,825,52,3,FALSE,24.3,45\\r\\n1022,FALSE,0,68,692,46,4,FALSE,29.8,46\\r\\n1023,TRUE,1,16,1131,50,3,FALSE,22.5,44\\r\\n1024,TRUE,1,27,1041,91,2,FALSE,28.5,58\\r\\n1025,TRUE,1,16,1227,62,4,FALSE,22.8,69\\r\\n1026,FALSE,0,49,777,43,2,FALSE,24.9,41\\r\\n1027,FALSE,0,60,741,55,3,FALSE,26.6,47\\r\\n1028,FALSE,0,50,908,54,3,FALSE,27.4,70\\r\\n1029,TRUE,1,22,1010,73,2,FALSE,23.6,43\\r\\n1030,FALSE,0,25,955,62,3,FALSE,21.6,11\\r\\n1031,FALSE,0,25,1050,29,2,FALSE,23.7,55\\r\\n1032,TRUE,1,13,1220,70,3,FALSE,21.4,35\\r\\n1033,FALSE,0,36,765,53,3,FALSE,16.3,34\\r\\n1034,FALSE,0,28,1146,64,1,FALSE,27.8,67\\r\\n1035,TRUE,1,32,807,36,3,FALSE,20.2,82\\r\\n1036,FALSE,0,31,991,52,3,FALSE,29.2,33\\r\\n1037,FALSE,0,68,745,53,2,FALSE,29.3,62\\r\\n1038,FALSE,0,79,455,10,3,FALSE,26.4,46\\r\\n1039,FALSE,0,49,879,57,3,FALSE,28.8,50\\r\\n1040,FALSE,0,59,730,32,3,FALSE,24.7,65\\r\\n1041,TRUE,1,15,1159,79,4,FALSE,16.9,51\\r\\n1042,FALSE,0,40,824,41,4,FALSE,24.1,36\\r\\n1043,TRUE,1,24,1049,69,3,FALSE,29.8,41\\r\\n1044,TRUE,1,26,876,46,3,FALSE,21.4,57\\r\\n1045,FALSE,0,32,843,36,2,FALSE,24.6,15\\r\\n1046,FALSE,0,26,992,39,1,FALSE,18.6,63\\r\\n1047,FALSE,0,31,968,68,2,FALSE,26.7,26\\r\\n1048,FALSE,0,29,1056,70,1,FALSE,26.1,48\\r\\n1049,TRUE,1,28,684,19,5,TRUE,16.3,45\\r\\n1050,FALSE,0,49,924,63,7,FALSE,27.8,66\\r\\n1051,TRUE,1,18,1195,71,4,FALSE,27.2,50\\r\\n1052,FALSE,0,51,768,39,4,FALSE,24.6,49\\r\\n1053,FALSE,0,39,819,32,5,FALSE,19.6,57\\r\\n1054,FALSE,0,64,711,39,3,FALSE,30.9,36\\r\\n1055,FALSE,0,44,798,40,3,FALSE,22.8,45\\r\\n1056,FALSE,0,29,1052,59,2,FALSE,24.3,64\\r\\n1057,TRUE,1,43,742,27,3,FALSE,29.3,57\\r\\n1058,FALSE,0,39,886,44,2,FALSE,28.4,30\\r\\n1059,FALSE,0,50,830,47,2,FALSE,25.9,57\\r\\n1060,FALSE,0,34,854,49,4,FALSE,22.6,28\\r\\n1061,FALSE,0,36,989,52,4,FALSE,31.3,39\\r\\n1062,TRUE,1,15,1150,61,2,FALSE,17.1,65\\r\\n1063,FALSE,0,54,637,35,2,FALSE,24.3,16\\r\\n1064,FALSE,0,53,614,17,2,FALSE,22.4,23\\r\\n1065,FALSE,0,27,1009,68,1,FALSE,16.2,66\\r\\n1066,TRUE,1,21,888,48,4,FALSE,18.2,36\\r\\n1067,FALSE,0,42,824,26,3,FALSE,21.2,65\\r\\n1068,TRUE,1,28,761,22,2,FALSE,21.9,45\\r\\n1069,FALSE,0,46,975,66,6,FALSE,31.9,54\\r\\n1070,FALSE,0,49,733,32,3,FALSE,19.3,59\\r\\n1071,FALSE,0,27,1007,47,4,FALSE,24.1,39\\r\\n1072,FALSE,0,66,584,14,4,FALSE,25.1,43\\r\\n1073,FALSE,0,29,1010,67,5,FALSE,25,42\\r\\n1074,TRUE,1,19,1131,79,4,FALSE,17.6,87\\r\\n1075,FALSE,0,27,1036,60,3,FALSE,22.9,49\\r\\n1076,TRUE,1,24,973,35,3,FALSE,27.5,54\\r\\n1077,TRUE,1,13,1157,44,2,FALSE,17.2,43\\r\\n1078,TRUE,1,15,1084,61,1,FALSE,16.6,44\\r\\n1079,FALSE,0,33,1020,51,3,FALSE,26.1,67\\r\\n1080,FALSE,0,35,896,49,2,FALSE,23.3,43\\r\\n1081,FALSE,0,46,795,29,2,FALSE,25.1,48\\r\\n1082,TRUE,1,22,970,51,2,FALSE,22.3,53\\r\\n1083,FALSE,0,25,1025,47,2,FALSE,22,42\\r\\n1084,FALSE,0,53,797,26,3,FALSE,24.1,75\\r\\n1085,FALSE,0,34,875,26,4,FALSE,27.1,28\\r\\n1086,TRUE,1,37,699,29,2,FALSE,18.1,76\\r\\n1087,FALSE,0,29,939,55,1,FALSE,20.3,43\\r\\n1088,FALSE,0,35,1052,71,1,FALSE,26.7,67\\r\\n1089,FALSE,0,42,750,47,4,FALSE,22.6,20\\r\\n1090,FALSE,0,42,912,52,3,FALSE,25.1,61\\r\\n1091,TRUE,1,25,920,38,4,FALSE,23.6,60\\r\\n1092,FALSE,0,29,955,71,1,FALSE,22,30\\r\\n1093,FALSE,0,41,765,16,1,FALSE,23.6,37\\r\\n1094,FALSE,0,44,786,56,1,FALSE,19.1,50\\r\\n1095,FALSE,0,46,875,52,4,FALSE,24.6,64\\r\\n1096,TRUE,1,30,817,62,4,FALSE,25.4,37\\r\\n1097,FALSE,0,30,1012,49,7,FALSE,28.2,44\\r\\n1098,TRUE,1,28,926,44,3,FALSE,25.5,70\\r\\n1099,FALSE,0,24,1014,62,2,FALSE,18.7,32\\r\\n1100,FALSE,0,63,674,18,2,FALSE,25.7,61\\r\\n1101,TRUE,1,32,903,48,4,FALSE,31.2,54\\r\\n1102,FALSE,0,49,912,76,4,FALSE,32,32\\r\\n1103,FALSE,0,15,1379,73,2,FALSE,24.1,38\\r\\n1104,FALSE,0,35,1050,77,4,FALSE,27.3,59\\r\\n1105,TRUE,1,26,953,72,5,FALSE,25.3,51\\r\\n1106,TRUE,1,30,941,59,3,FALSE,27.9,68\\r\\n1107,TRUE,1,23,885,45,3,FALSE,20.8,39\\r\\n1108,TRUE,1,26,800,57,5,FALSE,21.6,24\\r\\n1109,TRUE,1,31,909,47,6,FALSE,29,62\\r\\n1110,TRUE,1,16,1242,83,3,FALSE,28.4,39\\r\\n1111,TRUE,1,16,1072,62,1,FALSE,16.7,49\\r\\n1112,FALSE,0,34,942,53,4,FALSE,19.9,72\\r\\n1113,FALSE,0,48,730,16,3,FALSE,23.8,44\\r\\n1114,FALSE,0,35,970,66,2,FALSE,21,69\\r\\n1115,FALSE,0,67,503,17,2,FALSE,22,32\\r\\n1116,TRUE,1,17,1076,56,2,FALSE,16.1,61\\r\\n1117,FALSE,0,32,1048,66,3,FALSE,28.1,51\\r\\n1118,TRUE,1,20,1082,56,5,FALSE,28.6,37\\r\\n1119,TRUE,1,17,1086,68,2,FALSE,22.8,30\\r\\n1120,FALSE,0,27,1076,56,3,FALSE,26.8,49\\r\\n1121,TRUE,1,31,853,37,2,FALSE,28.9,51\\r\\n1122,FALSE,0,66,572,38,2,FALSE,19.7,51\\r\\n1123,FALSE,0,63,642,42,4,FALSE,21.4,55\\r\\n1124,FALSE,0,41,935,72,2,FALSE,27.5,41\\r\\n1125,FALSE,0,28,1088,70,2,FALSE,28.2,40\\r\\n1126,TRUE,1,48,679,40,1,FALSE,27.4,51\\r\\n1127,FALSE,0,29,961,39,5,FALSE,24.3,40\\r\\n1128,FALSE,0,50,924,45,3,FALSE,30.7,65\\r\\n1129,FALSE,0,81,536,16,1,FALSE,31.9,50\\r\\n1130,TRUE,1,20,1154,89,3,FALSE,28.9,39\\r\\n1131,TRUE,1,23,917,72,3,FALSE,22.7,22\\r\\n1132,FALSE,0,19,1333,85,4,FALSE,27.9,39\\r\\n1133,TRUE,1,22,1054,67,4,FALSE,21.2,76\\r\\n1134,FALSE,0,51,714,45,3,FALSE,21.4,40\\r\\n1135,FALSE,0,55,757,46,4,FALSE,27.9,36\\r\\n1136,FALSE,0,45,789,58,4,FALSE,18.2,57\\r\\n1137,TRUE,1,10,1418,90,2,FALSE,20.9,54\\r\\n1138,FALSE,0,68,583,22,2,FALSE,22.6,58\\r\\n1139,FALSE,0,53,756,55,3,FALSE,23.7,44\\r\\n1140,FALSE,0,39,831,45,2,FALSE,17.9,63\\r\\n1141,FALSE,0,69,444,19,4,FALSE,19.1,31\\r\\n1142,TRUE,1,57,636,45,2,FALSE,29.7,47\\r\\n1143,FALSE,0,56,770,43,1,FALSE,29.3,38\\r\\n1144,FALSE,0,32,1012,43,6,FALSE,27.8,57\\r\\n1145,TRUE,1,20,990,70,2,FALSE,18.1,49\\r\\n1146,FALSE,0,63,703,44,2,FALSE,23.6,63\\r\\n1147,FALSE,0,49,793,44,3,FALSE,18.7,76\\r\\n1148,TRUE,1,19,1177,54,3,FALSE,31.2,50\\r\\n1149,FALSE,0,60,591,15,2,FALSE,22.4,40\\r\\n1150,FALSE,0,24,955,34,2,FALSE,18.5,36\\r\\n1151,TRUE,1,25,828,57,5,FALSE,17.1,44\\r\\n1152,FALSE,0,44,854,63,3,FALSE,23.7,47\\r\\n1153,TRUE,1,17,1275,82,4,FALSE,25.6,75\\r\\n1154,TRUE,1,15,1145,56,5,FALSE,24,32\\r\\n1155,FALSE,0,19,1092,61,3,FALSE,16.6,32\\r\\n1156,FALSE,0,34,777,7,2,FALSE,19.8,42\\r\\n1157,FALSE,0,61,778,36,1,FALSE,30.1,56\\r\\n1158,FALSE,0,45,762,29,4,FALSE,19.4,59\\r\\n1159,TRUE,1,26,952,72,3,FALSE,27.7,35\\r\\n1160,FALSE,0,68,586,25,2,FALSE,24.4,49\\r\\n1161,FALSE,0,27,956,54,2,FALSE,18.6,47\\r\\n1162,FALSE,0,67,657,21,2,FALSE,26,64\\r\\n1163,TRUE,1,23,1138,81,3,FALSE,29.5,63\\r\\n1164,FALSE,0,59,628,29,2,FALSE,21.6,43\\r\\n1165,TRUE,1,20,1040,58,1,FALSE,23.7,48\\r\\n1166,TRUE,1,19,1210,53,1,FALSE,31.1,57\\r\\n1167,TRUE,1,24,866,83,4,FALSE,18.9,24\\r\\n1168,FALSE,0,54,805,44,2,FALSE,29.7,43\\r\\n1169,TRUE,1,28,920,50,2,FALSE,26.7,56\\r\\n1170,FALSE,0,27,1042,41,6,FALSE,27.3,40\\r\\n1171,TRUE,1,27,781,35,3,FALSE,20.3,47\\r\\n1172,TRUE,1,18,997,50,2,FALSE,17.9,47\\r\\n1173,TRUE,1,22,949,45,3,FALSE,23,37\\r\\n1174,TRUE,1,34,649,32,5,TRUE,20.9,34\\r\\n1175,TRUE,1,19,1019,66,2,FALSE,19.9,45\\r\\n1176,FALSE,0,52,674,38,3,FALSE,19.8,43\\r\\n1177,TRUE,1,30,760,39,4,FALSE,18.9,59\\r\\n1178,TRUE,1,33,905,48,2,FALSE,28.9,69\\r\\n1179,FALSE,0,61,550,16,1,FALSE,18.4,47\\r\\n1180,TRUE,1,43,752,69,3,FALSE,25.4,53\\r\\n1181,TRUE,1,20,1066,69,1,FALSE,24,47\\r\\n1182,TRUE,1,17,1197,80,2,FALSE,23.9,56\\r\\n1183,TRUE,1,22,1013,59,4,FALSE,23.8,51\\r\\n1184,FALSE,0,28,1025,55,5,FALSE,24.3,51\\r\\n1185,FALSE,0,55,781,40,4,FALSE,24.8,63\\r\\n1186,FALSE,0,39,815,34,1,FALSE,24.2,34\\r\\n1187,FALSE,0,68,729,27,2,FALSE,30.3,68\\r\\n1188,TRUE,1,21,958,51,4,FALSE,18.9,52\\r\\n1189,TRUE,1,21,985,63,4,FALSE,18.9,50\\r\\n1190,TRUE,1,22,947,56,3,FALSE,22.4,40\\r\\n1191,FALSE,0,28,892,32,1,FALSE,19,45\\r\\n1192,TRUE,1,22,919,51,3,FALSE,18.5,53\\r\\n1193,FALSE,0,50,574,28,3,FALSE,17.2,19\\r\\n1194,TRUE,1,18,1094,53,4,FALSE,25.6,39\\r\\n1195,FALSE,0,57,827,51,1,FALSE,29.6,56\\r\\n1196,FALSE,0,31,1065,67,2,FALSE,30.2,43\\r\\n1197,FALSE,0,21,1124,70,5,FALSE,19.8,36\\r\\n1198,TRUE,1,28,853,62,1,FALSE,25,39\\r\\n1199,TRUE,1,21,994,53,6,FALSE,20.9,51\\r\\n1200,FALSE,0,45,703,29,2,FALSE,22.3,25\\r\\n1201,TRUE,1,21,1068,71,5,FALSE,22.2,60\\r\\n1202,FALSE,0,23,1064,79,5,FALSE,22.7,17\\r\\n1203,TRUE,1,23,905,51,3,FALSE,20.4,41\\r\\n1204,FALSE,0,56,690,24,4,FALSE,26.2,37\\r\\n1205,FALSE,0,34,851,62,3,FALSE,20.1,30\\r\\n1206,FALSE,0,37,899,59,7,FALSE,25.9,33\\r\\n1207,TRUE,1,29,939,59,1,FALSE,29.4,51\\r\\n1208,FALSE,0,22,1020,45,2,FALSE,16.2,46\\r\\n1209,FALSE,0,74,477,35,4,FALSE,20.6,43\\r\\n1210,TRUE,1,30,712,41,3,FALSE,24.7,15\\r\\n1211,FALSE,0,28,938,45,3,FALSE,22.4,29\\r\\n1212,FALSE,0,50,793,58,8,FALSE,23.7,46\\r\\n1213,FALSE,0,46,743,39,2,FALSE,22.4,35\\r\\n1214,TRUE,1,19,1067,70,3,FALSE,23.6,36\\r\\n1215,FALSE,0,73,604,29,1,FALSE,26.3,62\\r\\n1216,FALSE,0,29,1029,55,4,FALSE,26.2,50\\r\\n1217,FALSE,0,32,899,41,2,FALSE,24.6,33\\r\\n1218,TRUE,1,24,900,41,4,FALSE,24.3,41\\r\\n1219,FALSE,0,36,948,60,2,FALSE,25.9,44\\r\\n1220,FALSE,0,28,1047,65,5,FALSE,26.9,38\\r\\n1221,TRUE,1,25,863,32,2,FALSE,25.9,34\\r\\n1222,FALSE,0,28,1065,90,3,FALSE,22.3,47\\r\\n1223,FALSE,0,56,785,44,1,FALSE,26.6,58\\r\\n1224,FALSE,0,22,1099,50,5,FALSE,19.8,51\\r\\n1225,TRUE,1,16,1088,45,6,FALSE,19.3,45\\r\\n1226,FALSE,0,29,1089,92,1,FALSE,25,53\\r\\n1227,FALSE,0,31,958,47,3,FALSE,22.2,59\\r\\n1228,TRUE,1,13,1243,83,2,FALSE,19.2,46\\r\\n1229,FALSE,0,29,1034,78,5,FALSE,21.8,54\\r\\n1230,TRUE,1,29,757,44,3,FALSE,23.1,32\\r\\n1231,FALSE,0,46,912,68,1,FALSE,28.8,44\\r\\n1232,TRUE,1,20,1091,71,2,FALSE,27.1,42\\r\\n1233,TRUE,1,18,1060,62,2,FALSE,19.6,50\\r\\n1234,TRUE,1,27,888,61,3,FALSE,22.7,53\\r\\n1235,TRUE,1,27,741,14,2,FALSE,19.1,46\\r\\n1236,TRUE,1,24,1022,57,1,FALSE,30.4,37\\r\\n1237,FALSE,0,19,1179,59,1,FALSE,22.9,35\\r\\n1238,FALSE,0,38,925,34,4,FALSE,27.4,51\\r\\n1239,TRUE,1,55,581,32,5,TRUE,22.6,67\\r\\n1240,FALSE,0,25,1095,79,2,FALSE,23.1,37\\r\\n1241,FALSE,0,47,798,58,1,FALSE,22.7,42\\r\\n1242,FALSE,0,39,870,37,2,FALSE,23.7,52\\r\\n1243,TRUE,1,21,885,27,3,FALSE,19.9,40\\r\\n1244,FALSE,0,53,708,37,3,FALSE,21.6,49\\r\\n1245,FALSE,0,25,1111,64,4,FALSE,25.2,47\\r\\n1246,TRUE,1,18,1135,67,2,FALSE,27.7,37\\r\\n1247,FALSE,0,66,507,13,3,FALSE,16.4,59\\r\\n1248,FALSE,0,50,670,27,1,FALSE,16.3,59\\r\\n1249,FALSE,0,25,1090,65,2,FALSE,19.9,62\\r\\n1250,FALSE,0,53,862,48,4,FALSE,28,65\\r\\n1251,TRUE,1,25,879,59,4,FALSE,20.8,41\\r\\n1252,TRUE,1,21,950,45,3,FALSE,21.1,41\\r\\n1253,FALSE,0,43,747,32,3,FALSE,18.2,51\\r\\n1254,FALSE,0,57,788,51,1,FALSE,26.3,56\\r\\n1255,TRUE,1,25,811,23,2,FALSE,21.6,43\\r\\n1256,TRUE,1,23,897,54,5,FALSE,19.7,42\\r\\n1257,TRUE,1,22,837,41,1,FALSE,16.8,39\\r\\n1258,TRUE,1,15,1334,90,2,FALSE,24.2,68\\r\\n1259,TRUE,1,38,723,43,6,FALSE,31.4,13\\r\\n1260,FALSE,0,50,752,34,3,FALSE,24.3,45\\r\\n1261,FALSE,0,27,1007,63,2,FALSE,20.2,48\\r\\n1262,TRUE,1,23,981,67,3,FALSE,26.8,33\\r\\n1263,FALSE,0,38,988,65,1,FALSE,27.8,53\\r\\n1264,FALSE,0,31,948,55,2,FALSE,28.1,20\\r\\n1265,TRUE,1,20,1104,68,4,FALSE,22.7,61\\r\\n1266,TRUE,1,20,923,66,1,FALSE,18.4,24\\r\\n1267,FALSE,0,58,655,19,3,FALSE,29.5,17\\r\\n1268,FALSE,0,59,705,35,5,FALSE,27.6,37\\r\\n1269,FALSE,0,33,908,44,1,FALSE,22,50\\r\\n1270,FALSE,0,38,855,36,6,FALSE,24.9,38\\r\\n1271,FALSE,0,44,734,47,1,FALSE,18.4,40\\r\\n1272,TRUE,1,28,919,61,4,FALSE,26.8,52\\r\\n1273,FALSE,0,31,933,39,3,FALSE,26.3,33\\r\\n1274,TRUE,1,23,867,32,3,FALSE,20.1,46\\r\\n1275,TRUE,1,48,649,16,5,TRUE,27.4,55\\r\\n1276,FALSE,0,61,826,49,3,FALSE,28.9,70\\r\\n1277,TRUE,1,23,1028,58,4,FALSE,26.3,54\\r\\n1278,FALSE,0,66,766,46,3,FALSE,28.1,72\\r\\n1279,FALSE,0,38,881,47,2,FALSE,22.5,54\\r\\n1280,TRUE,1,28,889,51,2,FALSE,27.2,48\\r\\n1281,FALSE,0,44,766,32,2,FALSE,27.6,16\\r\\n1282,FALSE,0,19,1171,79,4,FALSE,20.1,30\\r\\n1283,FALSE,0,27,1151,68,3,FALSE,31.8,43\\r\\n1284,FALSE,0,47,881,50,4,FALSE,27.1,58\\r\\n1285,TRUE,1,17,1169,79,3,FALSE,24.5,43\\r\\n1286,TRUE,1,29,862,33,2,FALSE,27,55\\r\\n1287,FALSE,0,26,1026,64,4,FALSE,22.5,33\\r\\n1288,TRUE,1,42,771,76,3,FALSE,26.8,44\\r\\n1289,FALSE,0,25,1200,66,2,FALSE,30.7,51\\r\\n1290,FALSE,0,28,935,29,3,FALSE,22.8,43\\r\\n1291,FALSE,0,39,850,45,4,FALSE,21.9,49\\r\\n1292,FALSE,0,52,824,68,3,FALSE,27.4,38\\r\\n1293,FALSE,0,28,1133,68,2,FALSE,28.7,53\\r\\n1294,TRUE,1,30,937,69,4,FALSE,30.7,46\\r\\n1295,FALSE,0,54,766,26,2,FALSE,28.1,47\\r\\n1296,FALSE,0,63,666,33,2,FALSE,31.3,20\\r\\n1297,TRUE,1,27,906,48,4,FALSE,29.2,38\\r\\n1298,TRUE,1,29,706,15,4,FALSE,23.3,27\\r\\n1299,FALSE,0,35,784,24,4,FALSE,22.1,25\\r\\n1300,TRUE,1,22,952,67,3,FALSE,20.4,41\\r\\n1301,FALSE,0,32,846,48,1,FALSE,17.7,45\\r\\n1302,FALSE,0,40,893,52,3,FALSE,24.1,52\\r\\n1303,FALSE,0,47,831,52,3,FALSE,21.9,63\\r\\n1304,TRUE,1,17,1111,79,4,FALSE,18.8,54\\r\\n1305,FALSE,0,57,848,64,4,FALSE,27.8,62\\r\\n1306,FALSE,0,29,1048,35,3,FALSE,30.8,40\\r\\n1307,FALSE,0,62,633,19,1,FALSE,25.4,43\\r\\n1308,FALSE,0,64,794,44,2,FALSE,30.9,63\\r\\n1309,FALSE,0,32,885,30,4,FALSE,22.2,48\\r\\n1310,FALSE,0,62,530,26,1,FALSE,20.8,24\\r\\n1311,FALSE,0,30,1016,70,2,FALSE,27.3,36\\r\\n1312,FALSE,0,28,1027,74,2,FALSE,19.1,62\\r\\n1313,FALSE,0,54,649,35,4,FALSE,20.1,39\\r\\n1314,TRUE,1,27,970,66,2,FALSE,27.7,52\\r\\n1315,TRUE,1,26,719,22,4,FALSE,15.7,48\\r\\n1316,TRUE,1,20,1020,64,1,FALSE,22.1,41\\r\\n1317,FALSE,0,22,1149,80,4,FALSE,21.7,43\\r\\n1318,TRUE,1,37,773,41,2,FALSE,26.6,53\\r\\n1319,TRUE,1,44,743,47,3,FALSE,28.4,51\\r\\n1320,FALSE,0,62,765,70,1,FALSE,23.9,65\\r\\n1321,TRUE,1,32,771,57,4,FALSE,22.6,45\\r\\n1322,FALSE,0,43,812,56,2,FALSE,23.4,35\\r\\n1323,FALSE,0,55,848,44,5,FALSE,31.5,50\\r\\n1324,FALSE,0,41,887,48,2,FALSE,24,57\\r\\n1325,FALSE,0,32,910,44,6,FALSE,15.6,80\\r\\n1326,FALSE,0,46,836,48,2,FALSE,26.7,41\\r\\n1327,FALSE,0,58,769,55,3,FALSE,28.1,43\\r\\n1328,FALSE,0,64,634,21,3,FALSE,23.3,60\\r\\n1329,FALSE,0,58,792,52,1,FALSE,25.8,66\\r\\n1330,FALSE,0,28,992,70,3,FALSE,21.7,38\\r\\n1331,FALSE,0,24,1109,69,3,FALSE,19.7,57\\r\\n1332,FALSE,0,68,676,37,2,FALSE,30.8,40\\r\\n1333,TRUE,1,19,1112,65,3,FALSE,27.1,34\\r\\n1334,FALSE,0,24,1026,42,3,FALSE,18.2,56\\r\\n1335,TRUE,1,33,768,35,3,FALSE,24.6,49\\r\\n1336,FALSE,0,54,801,37,2,FALSE,28.3,53\\r\\n1337,TRUE,1,17,1089,61,4,FALSE,20.6,39\\r\\n1338,FALSE,0,55,717,22,4,FALSE,20.4,73\\r\\n1339,FALSE,0,42,996,61,4,FALSE,30.9,57\\r\\n1340,TRUE,1,12,1227,65,3,FALSE,16.5,42\\r\\n1341,FALSE,0,37,1011,63,2,FALSE,28,57\\r\\n1342,FALSE,0,30,938,44,3,FALSE,25.8,31\\r\\n1343,FALSE,0,28,963,57,2,FALSE,20.3,46\\r\\n1344,FALSE,0,37,908,39,2,FALSE,22.2,67\\r\\n1345,FALSE,0,48,801,37,3,FALSE,25.9,45\\r\\n1346,TRUE,1,26,827,39,6,FALSE,17.6,60\\r\\n1347,TRUE,1,23,888,44,2,FALSE,19.8,45\\r\\n1348,FALSE,0,56,715,63,3,FALSE,27.4,15\\r\\n1349,TRUE,1,30,840,65,3,FALSE,26.4,35\\r\\n1350,TRUE,1,28,832,53,3,FALSE,21.6,51\\r\\n1351,FALSE,0,58,701,28,1,FALSE,21.8,68\\r\\n1352,TRUE,1,37,706,34,1,FALSE,25.1,39\\r\\n1353,FALSE,0,49,719,23,1,FALSE,21.2,51\\r\\n1354,TRUE,1,25,1025,66,1,FALSE,32,34\\r\\n1355,FALSE,0,62,719,35,1,FALSE,31.7,33\\r\\n1356,FALSE,0,30,932,50,3,FALSE,23.7,37\\r\\n1357,TRUE,1,25,932,66,2,FALSE,18.7,67\\r\\n1358,TRUE,1,24,1043,72,4,FALSE,25.3,61\\r\\n1359,FALSE,0,70,661,35,2,FALSE,28.6,56\\r\\n1360,FALSE,0,29,988,47,3,FALSE,21.7,63\\r\\n1361,FALSE,0,56,809,57,3,FALSE,29.3,42\\r\\n1362,FALSE,0,23,1199,63,2,FALSE,24.9,58\\r\\n1363,FALSE,0,18,1188,69,4,FALSE,16.9,51\\r\\n1364,TRUE,1,16,995,38,3,FALSE,17.7,33\\r\\n1365,FALSE,0,40,784,59,2,FALSE,18.4,36\\r\\n1366,TRUE,1,27,745,28,2,FALSE,18.3,48\\r\\n1367,FALSE,0,44,791,49,2,FALSE,20.2,50\\r\\n1368,FALSE,0,33,952,46,3,FALSE,26.6,43\\r\\n1369,FALSE,0,29,946,59,2,FALSE,22,34\\r\\n1370,FALSE,0,44,657,33,2,FALSE,19.2,18\\r\\n1371,FALSE,0,66,588,26,2,FALSE,22.1,54\\r\\n1372,FALSE,0,32,860,60,2,FALSE,16.9,43\\r\\n1373,TRUE,1,17,1213,77,2,FALSE,26.2,55\\r\\n1374,FALSE,0,37,867,55,3,FALSE,25.3,26\\r\\n1375,TRUE,1,23,1032,51,4,FALSE,31.9,30\\r\\n1376,FALSE,0,44,882,59,4,FALSE,26.2,46\\r\\n1377,FALSE,0,41,827,38,2,FALSE,26.9,28\\r\\n1378,FALSE,0,40,805,21,6,FALSE,28.5,20\\r\\n1379,FALSE,0,44,941,49,1,FALSE,29.1,59\\r\\n1380,FALSE,0,28,1026,61,3,FALSE,20.7,60\\r\\n1381,FALSE,0,31,883,33,3,FALSE,23.4,33\\r\\n1382,TRUE,1,23,861,42,2,FALSE,19.2,44\\r\\n1383,FALSE,0,22,1103,65,5,FALSE,21.8,32\\r\\n1384,FALSE,0,36,932,62,1,FALSE,23.2,52\\r\\n1385,FALSE,0,38,878,38,5,FALSE,24.4,47\\r\\n1386,TRUE,1,25,830,50,2,FALSE,20.1,35\\r\\n1387,TRUE,1,15,1095,38,2,FALSE,21.9,37\\r\\n1388,FALSE,0,41,747,52,5,FALSE,18.3,33\\r\\n1389,FALSE,0,69,581,17,1,FALSE,24.8,54\\r\\n1390,FALSE,0,38,898,48,2,FALSE,23.3,56\\r\\n1391,FALSE,0,58,740,52,7,FALSE,24.4,53\\r\\n1392,FALSE,0,22,1139,85,4,FALSE,20.6,36\\r\\n1393,FALSE,0,43,762,42,3,FALSE,23.9,23\\r\\n1394,TRUE,1,60,514,25,2,FALSE,23.7,55\\r\\n1395,TRUE,1,20,1085,56,3,FALSE,26.8,45\\r\\n1396,TRUE,1,42,764,57,4,FALSE,27.8,47\\r\\n1397,TRUE,1,23,1059,61,3,FALSE,25.9,62\\r\\n1398,FALSE,0,29,877,58,3,FALSE,17.8,35\\r\\n1399,FALSE,0,63,708,38,1,FALSE,24.8,64\\r\\n1400,TRUE,1,25,783,27,2,FALSE,19.2,42\\r\\n1401,TRUE,1,31,690,49,2,FALSE,18.4,38\\r\\n1402,TRUE,1,22,1065,83,2,FALSE,26.6,45\\r\\n1403,FALSE,0,25,1205,59,1,FALSE,30.2,53\\r\\n1404,FALSE,0,22,1182,68,3,FALSE,24.2,45\\r\\n1405,FALSE,0,30,940,47,2,FALSE,24.3,35\\r\\n1406,FALSE,0,26,1027,53,4,FALSE,21.8,44\\r\\n1407,FALSE,0,28,850,48,3,FALSE,19.6,12\\r\\n1408,FALSE,0,35,887,54,6,FALSE,22.3,40\\r\\n1409,FALSE,0,74,550,35,1,FALSE,23.6,54\\r\\n1410,TRUE,1,36,680,13,6,TRUE,24.2,45\\r\\n1411,FALSE,0,22,1146,73,4,FALSE,19.6,57\\r\\n1412,FALSE,0,34,889,62,5,FALSE,18.3,54\\r\\n1413,TRUE,1,42,750,33,3,FALSE,28.1,57\\r\\n1414,FALSE,0,49,918,44,2,FALSE,31.8,57\\r\\n1415,TRUE,1,16,1284,95,2,FALSE,31.5,23\\r\\n1416,FALSE,0,33,1044,54,4,FALSE,31.2,48\\r\\n1417,FALSE,0,19,1161,47,3,FALSE,15.6,70\\r\\n1418,FALSE,0,28,952,58,2,FALSE,20.8,41\\r\\n1419,TRUE,1,17,1057,58,4,FALSE,16.2,54\\r\\n1420,TRUE,1,22,948,30,2,FALSE,22.7,50\\r\\n1421,FALSE,0,60,638,49,4,FALSE,18.2,55\\r\\n1422,TRUE,1,31,880,51,3,FALSE,30.8,44\\r\\n1423,FALSE,0,51,786,28,3,FALSE,29.2,39\\r\\n1424,TRUE,1,19,1202,77,5,FALSE,30.5,49\\r\\n1425,FALSE,0,30,1008,53,3,FALSE,25.4,51\\r\\n1426,FALSE,0,39,849,61,1,FALSE,20.6,45\\r\\n1427,TRUE,1,21,1002,44,3,FALSE,23.6,48\\r\\n1428,FALSE,0,27,949,43,7,FALSE,18.5,53\\r\\n1429,TRUE,1,10,1291,68,5,FALSE,18.2,37\\r\\n1430,FALSE,0,46,766,26,3,FALSE,19.7,64\\r\\n1431,TRUE,1,28,881,64,5,FALSE,18.4,78\\r\\n1432,FALSE,0,47,905,34,2,FALSE,28.3,68\\r\\n1433,FALSE,0,40,900,51,4,FALSE,26.9,41\\r\\n1434,FALSE,0,26,892,41,4,FALSE,18.1,22\\r\\n1435,FALSE,0,39,829,54,2,FALSE,19.3,48\\r\\n1436,FALSE,0,47,866,38,2,FALSE,26.7,60\\r\\n1437,FALSE,0,34,918,23,3,FALSE,24.4,58\\r\\n1438,TRUE,1,10,1236,43,5,FALSE,17.8,30\\r\\n1439,FALSE,0,33,900,50,3,FALSE,24.4,32\\r\\n1440,TRUE,1,21,935,59,3,FALSE,17.7,49\\r\\n1441,FALSE,0,22,1178,74,2,FALSE,20.8,56\\r\\n1442,FALSE,0,47,861,59,3,FALSE,23.6,60\\r\\n1443,FALSE,0,22,1191,69,1,FALSE,22.9,59\\r\\n1444,TRUE,1,28,842,51,3,FALSE,25.3,34\\r\\n1445,TRUE,1,24,918,42,4,FALSE,27.1,29\\r\\n1446,TRUE,1,27,869,60,4,FALSE,27.5,19\\r\\n1447,TRUE,1,27,981,67,1,FALSE,28.3,55\\r\\n1448,FALSE,0,29,1019,57,3,FALSE,23.3,59\\r\\n1449,TRUE,1,21,1021,57,3,FALSE,22,52\\r\\n1450,TRUE,1,21,1041,82,2,FALSE,24.7,33\\r\\n1451,FALSE,0,53,874,55,3,FALSE,27,70\\r\\n1452,TRUE,1,21,1054,60,4,FALSE,26.9,42\\r\\n1453,FALSE,0,37,1016,62,4,FALSE,25.9,72\\r\\n1454,FALSE,0,33,1045,61,1,FALSE,28.8,55\\r\\n1455,FALSE,0,61,826,46,3,FALSE,30.7,64\\r\\n1456,FALSE,0,37,827,47,4,FALSE,18.4,52\\r\\n1457,FALSE,0,25,955,37,2,FALSE,17.7,47\\r\\n1458,TRUE,1,21,955,70,4,FALSE,20,33\\r\\n1459,FALSE,0,29,992,56,4,FALSE,25.2,40\\r\\n1460,TRUE,1,21,978,58,1,FALSE,20.2,47\\r\\n1461,FALSE,0,46,734,38,6,FALSE,18.7,52\\r\\n1462,FALSE,0,26,957,35,4,FALSE,19.2,47\\r\\n1463,FALSE,0,44,809,46,4,FALSE,22.9,45\\r\\n1464,FALSE,0,60,737,33,2,FALSE,28,50\\r\\n1465,TRUE,1,15,1091,62,1,FALSE,16,40\\r\\n1466,FALSE,0,28,961,49,5,FALSE,21.4,40\\r\\n1467,FALSE,0,45,792,57,5,FALSE,24.2,27\\r\\n1468,TRUE,1,39,688,28,2,FALSE,22.2,59\\r\\n1469,FALSE,0,47,909,46,3,FALSE,31.3,48\\r\\n1470,TRUE,1,30,892,51,3,FALSE,29.6,46\\r\\n1471,FALSE,0,43,799,37,4,FALSE,24.3,37\\r\\n1472,FALSE,0,19,1286,90,1,FALSE,24,44\\r\\n1473,FALSE,0,45,917,63,4,FALSE,31.4,32\\r\\n1474,FALSE,0,46,769,38,2,FALSE,24.7,33\\r\\n1475,TRUE,1,20,1007,64,3,FALSE,24.3,21\\r\\n1476,FALSE,0,52,883,53,4,FALSE,29.1,61\\r\\n1477,FALSE,0,61,632,26,3,FALSE,22.3,49\\r\\n1478,TRUE,1,14,1090,39,9,FALSE,18.2,32\\r\\n1479,TRUE,1,28,1002,63,4,FALSE,29.6,64\\r\\n1480,TRUE,1,20,1157,59,4,FALSE,29.9,56\\r\\n1481,FALSE,0,26,1101,78,4,FALSE,21.9,58\\r\\n1482,TRUE,1,19,1114,79,1,FALSE,24.9,44\\r\\n1483,FALSE,0,45,814,16,4,FALSE,28.4,42\\r\\n1484,FALSE,0,56,683,28,4,FALSE,23.4,46\\r\\n1485,TRUE,1,64,391,31,7,TRUE,17,53\\r\\n1486,FALSE,0,63,652,25,1,FALSE,23.4,59\\r\\n1487,FALSE,0,42,901,48,4,FALSE,22.9,70\\r\\n1488,FALSE,0,38,947,70,3,FALSE,26.7,40\\r\\n1489,FALSE,0,32,886,32,3,FALSE,25,33\\r\\n1490,TRUE,1,21,947,77,4,FALSE,16.1,49\\r\\n1491,TRUE,1,42,836,51,1,FALSE,25.6,90\\r\\n1492,FALSE,0,61,624,16,1,FALSE,24.8,42\\r\\n1493,TRUE,1,22,980,48,8,FALSE,20.8,64\\r\\n1494,FALSE,0,32,980,53,4,FALSE,26.2,44\\r\\n1495,FALSE,0,50,753,38,2,FALSE,24.2,41\\r\\n1496,TRUE,1,17,1088,62,4,FALSE,21.4,38\\r\\n1497,TRUE,1,11,1355,88,7,FALSE,19.3,45\\r\\n1498,FALSE,0,32,970,47,2,FALSE,21.7,71\\r\\n1499,FALSE,0,26,1173,89,3,FALSE,25.9,52\\r\\n1500,FALSE,0,55,783,43,3,FALSE,26.4,54\\r\\n1501,TRUE,1,26,984,66,5,FALSE,25.6,59\\r\\n1502,FALSE,0,55,908,57,7,FALSE,29.3,77\\r\\n1503,TRUE,1,26,879,33,3,FALSE,22.9,58\\r\\n1504,FALSE,0,41,784,52,2,FALSE,22.1,28\\r\\n1505,FALSE,0,23,1049,55,4,FALSE,20.2,33\\r\\n1506,TRUE,1,11,1246,78,3,FALSE,18.1,25\\r\\n1507,FALSE,0,23,934,36,3,FALSE,21.1,8\\r\\n1508,FALSE,0,46,838,31,3,FALSE,24.3,66\\r\\n1509,FALSE,0,29,1046,57,3,FALSE,28.5,41\\r\\n1510,TRUE,1,25,921,60,3,FALSE,21.4,53\\r\\n1511,FALSE,0,70,578,33,3,FALSE,21.1,64\\r\\n1512,TRUE,1,13,1218,60,6,FALSE,20.4,40\\r\\n1513,FALSE,0,39,890,58,4,FALSE,23.7,46\\r\\n1514,FALSE,0,38,905,73,2,FALSE,21.2,53\\r\\n1515,TRUE,1,34,847,55,3,FALSE,28.6,51\\r\\n1516,TRUE,1,36,798,29,3,FALSE,32.2,37\\r\\n1517,FALSE,0,65,692,16,1,FALSE,28.8,58\\r\\n1518,FALSE,0,31,1039,69,2,FALSE,25.8,55\\r\\n1519,FALSE,0,24,1044,52,3,FALSE,20.9,44\\r\\n1520,TRUE,1,21,1047,48,2,FALSE,29.3,31\\r\\n1521,FALSE,0,53,652,31,4,FALSE,16.7,56\\r\\n1522,FALSE,0,41,861,40,1,FALSE,20.7,68\\r\\n1523,FALSE,0,45,777,42,4,FALSE,17.3,67\\r\\n1524,TRUE,1,28,922,45,3,FALSE,26.9,60\\r\\n1525,TRUE,1,16,1189,79,4,FALSE,23.9,41\\r\\n1526,TRUE,1,26,897,45,1,FALSE,26.4,40\\r\\n1527,FALSE,0,37,859,39,1,FALSE,24.2,39\\r\\n1528,TRUE,1,21,1056,69,3,FALSE,25.9,42\\r\\n1529,FALSE,0,27,1053,71,3,FALSE,20.7,58\\r\\n1530,FALSE,0,62,677,44,2,FALSE,23.7,51\\r\\n1531,FALSE,0,53,576,21,4,FALSE,19.7,22\\r\\n1532,FALSE,0,66,510,37,4,FALSE,21.1,22\\r\\n1533,TRUE,1,34,611,23,5,TRUE,16.3,47\\r\\n1534,FALSE,0,40,891,52,3,FALSE,24.4,50\\r\\n1535,FALSE,0,45,792,40,3,FALSE,29,15\\r\\n1536,FALSE,0,28,829,33,2,FALSE,15.7,36\\r\\n1537,FALSE,0,61,736,45,2,FALSE,27.7,48\\r\\n1538,FALSE,0,42,1036,57,2,FALSE,32.2,68\\r\\n1539,FALSE,0,21,1153,83,5,FALSE,24,19\\r\\n1540,FALSE,0,50,663,43,3,FALSE,19.6,30\\r\\n1541,FALSE,0,20,1225,71,1,FALSE,25.3,33\\r\\n1542,FALSE,0,28,1025,60,4,FALSE,23.9,50\\r\\n1543,FALSE,0,42,936,40,2,FALSE,29.8,52\\r\\n1544,TRUE,1,29,781,15,3,FALSE,26.1,43\\r\\n1545,TRUE,1,14,1141,55,3,FALSE,21.4,25\\r\\n1546,FALSE,0,62,619,43,2,FALSE,21.9,39\\r\\n1547,TRUE,1,29,863,61,1,FALSE,27.2,40\\r\\n1548,TRUE,1,53,552,18,3,FALSE,25.2,45\\r\\n1549,TRUE,1,20,1066,67,3,FALSE,19.4,70\\r\\n1550,TRUE,1,25,883,55,6,FALSE,22.7,38\\r\\n1551,TRUE,1,61,637,58,6,TRUE,30.6,49\\r\\n1552,FALSE,0,49,844,71,1,FALSE,26.8,38\\r\\n1553,FALSE,0,51,759,67,3,FALSE,23.9,30\\r\\n1554,TRUE,1,47,724,43,2,FALSE,28.3,56\\r\\n1555,FALSE,0,41,823,40,2,FALSE,25.4,33\\r\\n1556,FALSE,0,30,1024,38,2,FALSE,21.4,86\\r\\n1557,FALSE,0,33,1066,64,4,FALSE,30.9,49\\r\\n1558,FALSE,0,46,714,20,2,FALSE,20,48\\r\\n1559,FALSE,0,27,991,41,2,FALSE,22,47\\r\\n1560,FALSE,0,49,871,62,7,FALSE,22.9,73\\r\\n1561,TRUE,1,19,1217,69,4,FALSE,30.5,57\\r\\n1562,FALSE,0,44,745,55,2,FALSE,17.4,44\\r\\n1563,TRUE,1,21,1000,58,4,FALSE,25.8,31\\r\\n1564,FALSE,0,27,1085,53,2,FALSE,29.5,33\\r\\n1565,TRUE,1,22,1036,59,3,FALSE,29,37\\r\\n1566,FALSE,0,52,664,16,2,FALSE,17.5,65\\r\\n1567,FALSE,0,66,694,63,1,FALSE,26.7,45\\r\\n1568,TRUE,1,26,873,58,5,FALSE,22.9,37\\r\\n1569,TRUE,1,24,874,31,1,FALSE,19.3,59\\r\\n1570,FALSE,0,38,924,56,5,FALSE,21.8,66\\r\\n1571,FALSE,0,41,968,63,2,FALSE,31.4,38\\r\\n1572,FALSE,0,25,1139,78,1,FALSE,25.7,41\\r\\n1573,FALSE,0,42,852,47,4,FALSE,22.8,52\\r\\n1574,FALSE,0,46,672,29,2,FALSE,16.1,48\\r\\n1575,FALSE,0,66,633,39,1,FALSE,23.2,53\\r\\n1576,TRUE,1,40,701,16,4,FALSE,22.8,72\\r\\n1577,TRUE,1,19,1109,84,1,FALSE,23.3,47\\r\\n1578,FALSE,0,49,872,55,3,FALSE,29.3,44\\r\\n1579,FALSE,0,56,800,50,2,FALSE,27.3,54\\r\\n1580,TRUE,1,22,973,55,3,FALSE,22.3,47\\r\\n1581,TRUE,1,25,1082,68,3,FALSE,31,56\\r\\n1582,FALSE,0,57,743,40,1,FALSE,27.2,44\\r\\n1583,FALSE,0,20,1113,56,2,FALSE,16.1,54\\r\\n1584,TRUE,1,17,1045,94,1,FALSE,17.8,26\\r\\n1585,TRUE,1,36,705,15,4,FALSE,24.9,48\\r\\n1586,TRUE,1,14,1333,77,3,FALSE,30,40\\r\\n1587,FALSE,0,26,925,31,3,FALSE,19.8,31\\r\\n1588,FALSE,0,48,698,48,2,FALSE,18.1,42\\r\\n1589,TRUE,1,22,988,53,3,FALSE,22.3,53\\r\\n1590,TRUE,1,17,1121,74,2,FALSE,19.7,49\\r\\n1591,TRUE,1,46,734,53,4,FALSE,27.2,57\\r\\n1592,FALSE,0,50,780,15,5,FALSE,25.3,61\\r\\n1593,FALSE,0,38,972,61,3,FALSE,26.1,59\\r\\n1594,FALSE,0,21,1162,86,3,FALSE,20.3,43\\r\\n1595,TRUE,1,21,1074,71,2,FALSE,29.1,29\\r\\n1596,FALSE,0,50,882,66,1,FALSE,29.6,44\\r\\n1597,FALSE,0,59,576,16,3,FALSE,15.8,64\\r\\n1598,FALSE,0,57,586,7,2,FALSE,20.1,46\\r\\n1599,FALSE,0,21,1130,65,4,FALSE,23.6,25\\r\\n1600,TRUE,1,15,1173,52,2,FALSE,20.3,54\\r\\n1601,FALSE,0,44,781,45,3,FALSE,19.8,52\\r\\n1602,FALSE,0,30,832,42,1,FALSE,15.8,42\\r\\n1603,FALSE,0,25,1032,71,2,FALSE,17.5,50\\r\\n1604,TRUE,1,22,979,53,4,FALSE,19.5,67\\r\\n1605,TRUE,1,51,670,16,4,FALSE,28.2,66\\r\\n1606,FALSE,0,25,1006,45,1,FALSE,20.5,41\\r\\n1607,FALSE,0,23,1197,76,5,FALSE,26.1,48\\r\\n1608,FALSE,0,35,962,73,1,FALSE,28.1,27\\r\\n1609,FALSE,0,40,879,21,3,FALSE,29.9,37\\r\\n1610,FALSE,0,38,1029,62,3,FALSE,26.9,76\\r\\n1611,TRUE,1,25,915,43,3,FALSE,21.3,69\\r\\n1612,FALSE,0,25,1136,82,4,FALSE,24.3,44\\r\\n1613,FALSE,0,34,843,63,3,FALSE,18.4,38\\r\\n1614,FALSE,0,41,864,33,7,FALSE,30.1,29\\r\\n1615,TRUE,1,27,1000,81,7,FALSE,23.1,77\\r\\n1616,TRUE,1,19,1154,63,2,FALSE,28.2,49\\r\\n1617,FALSE,0,26,1076,46,3,FALSE,28.4,39\\r\\n1618,FALSE,0,29,1136,66,2,FALSE,29.7,63\\r\\n1619,TRUE,1,13,1355,79,3,FALSE,31.3,32\\r\\n1620,FALSE,0,29,1084,62,2,FALSE,27.1,58\\r\\n1621,FALSE,0,34,1048,64,1,FALSE,26.6,68\\r\\n1622,FALSE,0,21,1186,59,1,FALSE,24.9,45\\r\\n1623,FALSE,0,50,791,35,1,FALSE,22.2,68\\r\\n1624,FALSE,0,77,541,33,4,FALSE,25.4,57\\r\\n1625,FALSE,0,50,749,35,3,FALSE,25.4,38\\r\\n1626,FALSE,0,51,849,51,4,FALSE,27,56\\r\\n1627,FALSE,0,39,790,48,3,FALSE,19.4,38\\r\\n1628,FALSE,0,48,720,53,2,FALSE,19.4,40\\r\\n1629,FALSE,0,32,913,37,3,FALSE,21.3,58\\r\\n1630,TRUE,1,19,1043,62,5,FALSE,21.7,41\\r\\n1631,FALSE,0,24,1152,81,4,FALSE,24.2,47\\r\\n1632,FALSE,0,24,1133,64,3,FALSE,22.2,62\\r\\n1633,FALSE,0,22,1067,49,3,FALSE,22.1,31\\r\\n1634,FALSE,0,55,712,17,3,FALSE,21.7,70\\r\\n1635,TRUE,1,26,1075,74,5,FALSE,28.1,76\\r\\n1636,TRUE,1,20,1232,93,5,FALSE,31.3,56\\r\\n1637,FALSE,0,53,812,28,2,FALSE,29.4,54\\r\\n1638,FALSE,0,35,943,41,2,FALSE,28.1,41\\r\\n1639,TRUE,1,49,599,31,1,FALSE,22.3,54\\r\\n1640,TRUE,1,23,854,32,4,FALSE,19.1,41\\r\\n1641,FALSE,0,30,1087,63,1,FALSE,30.3,52\\r\\n1642,TRUE,1,15,1250,88,4,FALSE,26,38\\r\\n1643,FALSE,0,59,777,49,4,FALSE,26.7,59\\r\\n1644,FALSE,0,44,958,53,5,FALSE,30.1,57\\r\\n1645,TRUE,1,59,511,30,3,FALSE,20.2,65\\r\\n1646,FALSE,0,54,925,52,5,FALSE,30.7,75\\r\\n1647,TRUE,1,22,1013,68,4,FALSE,26.1,39\\r\\n1648,TRUE,1,17,1070,54,5,FALSE,17.4,61\\r\\n1649,TRUE,1,22,922,47,2,FALSE,24.1,28\\r\\n1650,FALSE,0,32,1086,76,1,FALSE,31.6,41\\r\\n1651,FALSE,0,44,869,51,2,FALSE,23.7,61\\r\\n1652,FALSE,0,64,486,28,4,FALSE,16.4,37\\r\\n1653,TRUE,1,21,966,70,2,FALSE,17.4,52\\r\\n1654,FALSE,0,26,997,57,2,FALSE,21.1,35\\r\\n1655,FALSE,0,32,910,48,1,FALSE,22.3,42\\r\\n1656,FALSE,0,46,887,61,3,FALSE,27.6,47\\r\\n1657,TRUE,1,25,964,53,1,FALSE,28.8,39\\r\\n1658,TRUE,1,16,1095,56,5,FALSE,24.9,20\\r\\n1659,TRUE,1,20,1122,63,1,FALSE,27.5,51\\r\\n1660,FALSE,0,16,1247,75,4,FALSE,15.6,54\\r\\n1661,FALSE,0,40,860,48,4,FALSE,23,50\\r\\n1662,TRUE,1,38,743,33,1,FALSE,28.1,41\\r\\n1663,TRUE,1,21,1062,55,2,FALSE,23.4,60\\r\\n1664,TRUE,1,36,648,26,3,FALSE,17.1,63\\r\\n1665,TRUE,1,24,892,49,4,FALSE,26.6,14\\r\\n1666,TRUE,1,17,1152,75,2,FALSE,18.6,63\\r\\n1667,TRUE,1,19,1082,62,5,FALSE,27.6,23\\r\\n1668,FALSE,0,25,1016,40,2,FALSE,22.4,43\\r\\n1669,FALSE,0,29,972,30,3,FALSE,28.1,32\\r\\n1670,TRUE,1,17,1250,62,2,FALSE,32.2,39\\r\\n1671,TRUE,1,41,745,43,3,FALSE,24.3,66\\r\\n1672,FALSE,0,60,708,72,3,FALSE,20.1,55\\r\\n1673,FALSE,0,33,1078,54,1,FALSE,32.2,55\\r\\n1674,TRUE,1,20,842,49,4,FALSE,16.3,19\\r\\n1675,TRUE,1,23,904,53,2,FALSE,18.8,50\\r\\n1676,TRUE,1,29,740,36,3,FALSE,17.4,56\\r\\n1677,FALSE,0,50,726,43,3,FALSE,18.4,60\\r\\n1678,FALSE,0,26,1119,67,3,FALSE,29.8,34\\r\\n1679,FALSE,0,34,921,55,3,FALSE,19.9,61\\r\\n1680,TRUE,1,15,1112,78,2,FALSE,19.9,28\\r\\n1681,FALSE,0,58,750,22,2,FALSE,25.2,72\\r\\n1682,FALSE,0,41,935,52,3,FALSE,31.2,36\\r\\n1683,TRUE,1,63,575,16,8,TRUE,30.9,58\\r\\n1684,FALSE,0,49,688,22,2,FALSE,19.2,52\\r\\n1685,FALSE,0,31,935,48,2,FALSE,25.8,33\\r\\n1686,FALSE,0,30,1046,46,1,FALSE,26.8,64\\r\\n1687,TRUE,1,18,1028,58,3,FALSE,17.5,48\\r\\n1688,FALSE,0,40,861,60,3,FALSE,19.6,59\\r\\n1689,FALSE,0,42,905,50,4,FALSE,26.7,51\\r\\n1690,FALSE,0,61,713,27,6,FALSE,25.9,60\\r\\n1691,TRUE,1,23,1054,77,3,FALSE,27.3,48\\r\\n1692,FALSE,0,56,650,32,1,FALSE,17.4,63\\r\\n1693,FALSE,0,28,860,25,2,FALSE,17.1,43\\r\\n1694,TRUE,1,17,1075,72,5,FALSE,16.2,55\\r\\n1695,FALSE,0,50,803,51,4,FALSE,24.2,53\\r\\n1696,TRUE,1,17,1221,66,4,FALSE,26.2,59\\r\\n1697,TRUE,1,23,1068,74,5,FALSE,29.4,39\\r\\n1698,FALSE,0,26,1114,55,3,FALSE,26.4,50\\r\\n1699,FALSE,0,32,1005,60,3,FALSE,28.3,39\\r\\n1700,FALSE,0,77,436,26,2,FALSE,18.3,60\\r\\n1701,FALSE,0,45,833,34,4,FALSE,27.9,39\\r\\n1702,FALSE,0,35,941,45,1,FALSE,21,72\\r\\n1703,TRUE,1,22,1015,69,3,FALSE,20.7,59\\r\\n1704,TRUE,1,44,648,45,5,TRUE,22.5,47\\r\\n1705,TRUE,1,18,1131,39,4,FALSE,24.1,64\\r\\n1706,TRUE,1,15,1238,84,4,FALSE,22.4,46\\r\\n1707,FALSE,0,68,585,46,1,FALSE,20.2,55\\r\\n1708,FALSE,0,37,983,67,3,FALSE,26.4,55\\r\\n1709,TRUE,1,46,635,36,7,TRUE,22.8,54\\r\\n1710,TRUE,1,16,1128,70,3,FALSE,20.7,39\\r\\n1711,FALSE,0,73,430,17,2,FALSE,21.6,30\\r\\n1712,TRUE,1,17,1077,75,1,FALSE,21.2,24\\r\\n1713,FALSE,0,47,771,47,1,FALSE,22.8,41\\r\\n1714,FALSE,0,54,803,62,5,FALSE,24.2,57\\r\\n1715,TRUE,1,25,816,52,2,FALSE,17.3,44\\r\\n1716,FALSE,0,44,751,45,5,FALSE,21.8,31\\r\\n1717,FALSE,0,47,984,49,3,FALSE,30.6,78\\r\\n1718,FALSE,0,40,833,43,3,FALSE,19.9,57\\r\\n1719,TRUE,1,16,1296,80,6,FALSE,25.6,75\\r\\n1720,FALSE,0,28,1014,70,1,FALSE,18.1,65\\r\\n1721,TRUE,1,23,893,54,4,FALSE,20.1,39\\r\\n1722,TRUE,1,26,861,46,2,FALSE,22.8,42\\r\\n1723,TRUE,1,14,1222,86,3,FALSE,22.8,27\\r\\n1724,FALSE,0,34,923,44,2,FALSE,22.4,58\\r\\n1725,FALSE,0,50,843,59,1,FALSE,22.3,70\\r\\n1726,TRUE,1,42,745,37,4,FALSE,32,35\\r\\n1727,FALSE,0,37,771,42,2,FALSE,19.4,31\\r\\n1728,TRUE,1,16,1247,75,3,FALSE,24.4,60\\r\\n1729,TRUE,1,22,930,43,3,FALSE,24.2,26\\r\\n1730,TRUE,1,18,1080,51,2,FALSE,17.9,74\\r\\n1731,TRUE,1,29,832,57,7,FALSE,22.2,56\\r\\n1732,TRUE,1,26,770,36,3,FALSE,22.2,24\\r\\n1733,FALSE,0,26,972,45,1,FALSE,17.1,53\\r\\n1734,FALSE,0,41,786,44,5,FALSE,18.7,49\\r\\n1735,FALSE,0,36,857,62,5,FALSE,25.6,13\\r\\n1736,FALSE,0,37,989,50,3,FALSE,30.6,47\\r\\n1737,FALSE,0,83,444,29,2,FALSE,27.9,39\\r\\n1738,TRUE,1,26,829,49,4,FALSE,21.8,35\\r\\n1739,FALSE,0,39,954,70,6,FALSE,25.7,51\\r\\n1740,FALSE,0,53,824,34,4,FALSE,27.9,60\\r\\n1741,TRUE,1,19,1149,69,1,FALSE,21.7,72\\r\\n1742,TRUE,1,16,1146,74,6,FALSE,26.9,11\\r\\n1743,TRUE,1,27,780,48,3,FALSE,16.3,58\\r\\n1744,FALSE,0,35,847,36,1,FALSE,23.4,34\\r\\n1745,TRUE,1,49,570,12,2,FALSE,20.9,64\\r\\n1746,FALSE,0,31,970,49,1,FALSE,24.3,52\\r\\n1747,FALSE,0,67,592,37,4,FALSE,18.8,68\\r\\n1748,TRUE,1,18,961,27,4,FALSE,22.1,27\\r\\n1749,FALSE,0,49,906,49,5,FALSE,30.7,55\\r\\n1750,FALSE,0,17,1325,92,2,FALSE,21.4,52\\r\\n1751,FALSE,0,46,879,33,6,FALSE,27.4,62\\r\\n1752,TRUE,1,13,1339,77,4,FALSE,27.7,44\\r\\n'}"
            ]
          },
          "metadata": {},
          "execution_count": 57
        }
      ]
    },
    {
      "cell_type": "code",
      "source": [
        "df = pd.read_csv(list(uploaded.keys())[0])"
      ],
      "metadata": {
        "id": "djv-WynJ9Trx"
      },
      "execution_count": null,
      "outputs": []
    },
    {
      "cell_type": "code",
      "source": [
        "df"
      ],
      "metadata": {
        "colab": {
          "base_uri": "https://localhost:8080/",
          "height": 423
        },
        "id": "jMb4Qr3z5x5u",
        "outputId": "9f505108-15aa-48c5-d89d-366f6a2e80f8"
      },
      "execution_count": null,
      "outputs": [
        {
          "output_type": "execute_result",
          "data": {
            "text/plain": [
              "        id    net  net_num  dengue_risk  income  health  household  eligible  \\\n",
              "0        1   True        1           33     781      56          2     False   \n",
              "1        2  False        0           42     974      57          4     False   \n",
              "2        3  False        0           80     502      15          3     False   \n",
              "3        4   True        1           34     671      20          5      True   \n",
              "4        5  False        0           44     728      17          5     False   \n",
              "...    ...    ...      ...          ...     ...     ...        ...       ...   \n",
              "1747  1748   True        1           18     961      27          4     False   \n",
              "1748  1749  False        0           49     906      49          5     False   \n",
              "1749  1750  False        0           17    1325      92          2     False   \n",
              "1750  1751  False        0           46     879      33          6     False   \n",
              "1751  1752   True        1           13    1339      77          4     False   \n",
              "\n",
              "      temperature  resistance  \n",
              "0            21.1          59  \n",
              "1            26.5          73  \n",
              "2            25.6          65  \n",
              "3            21.3          46  \n",
              "4            19.2          54  \n",
              "...           ...         ...  \n",
              "1747         22.1          27  \n",
              "1748         30.7          55  \n",
              "1749         21.4          52  \n",
              "1750         27.4          62  \n",
              "1751         27.7          44  \n",
              "\n",
              "[1752 rows x 10 columns]"
            ],
            "text/html": [
              "\n",
              "  <div id=\"df-ff53952d-f640-43cf-ae21-b5bdca66af1c\" class=\"colab-df-container\">\n",
              "    <div>\n",
              "<style scoped>\n",
              "    .dataframe tbody tr th:only-of-type {\n",
              "        vertical-align: middle;\n",
              "    }\n",
              "\n",
              "    .dataframe tbody tr th {\n",
              "        vertical-align: top;\n",
              "    }\n",
              "\n",
              "    .dataframe thead th {\n",
              "        text-align: right;\n",
              "    }\n",
              "</style>\n",
              "<table border=\"1\" class=\"dataframe\">\n",
              "  <thead>\n",
              "    <tr style=\"text-align: right;\">\n",
              "      <th></th>\n",
              "      <th>id</th>\n",
              "      <th>net</th>\n",
              "      <th>net_num</th>\n",
              "      <th>dengue_risk</th>\n",
              "      <th>income</th>\n",
              "      <th>health</th>\n",
              "      <th>household</th>\n",
              "      <th>eligible</th>\n",
              "      <th>temperature</th>\n",
              "      <th>resistance</th>\n",
              "    </tr>\n",
              "  </thead>\n",
              "  <tbody>\n",
              "    <tr>\n",
              "      <th>0</th>\n",
              "      <td>1</td>\n",
              "      <td>True</td>\n",
              "      <td>1</td>\n",
              "      <td>33</td>\n",
              "      <td>781</td>\n",
              "      <td>56</td>\n",
              "      <td>2</td>\n",
              "      <td>False</td>\n",
              "      <td>21.1</td>\n",
              "      <td>59</td>\n",
              "    </tr>\n",
              "    <tr>\n",
              "      <th>1</th>\n",
              "      <td>2</td>\n",
              "      <td>False</td>\n",
              "      <td>0</td>\n",
              "      <td>42</td>\n",
              "      <td>974</td>\n",
              "      <td>57</td>\n",
              "      <td>4</td>\n",
              "      <td>False</td>\n",
              "      <td>26.5</td>\n",
              "      <td>73</td>\n",
              "    </tr>\n",
              "    <tr>\n",
              "      <th>2</th>\n",
              "      <td>3</td>\n",
              "      <td>False</td>\n",
              "      <td>0</td>\n",
              "      <td>80</td>\n",
              "      <td>502</td>\n",
              "      <td>15</td>\n",
              "      <td>3</td>\n",
              "      <td>False</td>\n",
              "      <td>25.6</td>\n",
              "      <td>65</td>\n",
              "    </tr>\n",
              "    <tr>\n",
              "      <th>3</th>\n",
              "      <td>4</td>\n",
              "      <td>True</td>\n",
              "      <td>1</td>\n",
              "      <td>34</td>\n",
              "      <td>671</td>\n",
              "      <td>20</td>\n",
              "      <td>5</td>\n",
              "      <td>True</td>\n",
              "      <td>21.3</td>\n",
              "      <td>46</td>\n",
              "    </tr>\n",
              "    <tr>\n",
              "      <th>4</th>\n",
              "      <td>5</td>\n",
              "      <td>False</td>\n",
              "      <td>0</td>\n",
              "      <td>44</td>\n",
              "      <td>728</td>\n",
              "      <td>17</td>\n",
              "      <td>5</td>\n",
              "      <td>False</td>\n",
              "      <td>19.2</td>\n",
              "      <td>54</td>\n",
              "    </tr>\n",
              "    <tr>\n",
              "      <th>...</th>\n",
              "      <td>...</td>\n",
              "      <td>...</td>\n",
              "      <td>...</td>\n",
              "      <td>...</td>\n",
              "      <td>...</td>\n",
              "      <td>...</td>\n",
              "      <td>...</td>\n",
              "      <td>...</td>\n",
              "      <td>...</td>\n",
              "      <td>...</td>\n",
              "    </tr>\n",
              "    <tr>\n",
              "      <th>1747</th>\n",
              "      <td>1748</td>\n",
              "      <td>True</td>\n",
              "      <td>1</td>\n",
              "      <td>18</td>\n",
              "      <td>961</td>\n",
              "      <td>27</td>\n",
              "      <td>4</td>\n",
              "      <td>False</td>\n",
              "      <td>22.1</td>\n",
              "      <td>27</td>\n",
              "    </tr>\n",
              "    <tr>\n",
              "      <th>1748</th>\n",
              "      <td>1749</td>\n",
              "      <td>False</td>\n",
              "      <td>0</td>\n",
              "      <td>49</td>\n",
              "      <td>906</td>\n",
              "      <td>49</td>\n",
              "      <td>5</td>\n",
              "      <td>False</td>\n",
              "      <td>30.7</td>\n",
              "      <td>55</td>\n",
              "    </tr>\n",
              "    <tr>\n",
              "      <th>1749</th>\n",
              "      <td>1750</td>\n",
              "      <td>False</td>\n",
              "      <td>0</td>\n",
              "      <td>17</td>\n",
              "      <td>1325</td>\n",
              "      <td>92</td>\n",
              "      <td>2</td>\n",
              "      <td>False</td>\n",
              "      <td>21.4</td>\n",
              "      <td>52</td>\n",
              "    </tr>\n",
              "    <tr>\n",
              "      <th>1750</th>\n",
              "      <td>1751</td>\n",
              "      <td>False</td>\n",
              "      <td>0</td>\n",
              "      <td>46</td>\n",
              "      <td>879</td>\n",
              "      <td>33</td>\n",
              "      <td>6</td>\n",
              "      <td>False</td>\n",
              "      <td>27.4</td>\n",
              "      <td>62</td>\n",
              "    </tr>\n",
              "    <tr>\n",
              "      <th>1751</th>\n",
              "      <td>1752</td>\n",
              "      <td>True</td>\n",
              "      <td>1</td>\n",
              "      <td>13</td>\n",
              "      <td>1339</td>\n",
              "      <td>77</td>\n",
              "      <td>4</td>\n",
              "      <td>False</td>\n",
              "      <td>27.7</td>\n",
              "      <td>44</td>\n",
              "    </tr>\n",
              "  </tbody>\n",
              "</table>\n",
              "<p>1752 rows × 10 columns</p>\n",
              "</div>\n",
              "    <div class=\"colab-df-buttons\">\n",
              "\n",
              "  <div class=\"colab-df-container\">\n",
              "    <button class=\"colab-df-convert\" onclick=\"convertToInteractive('df-ff53952d-f640-43cf-ae21-b5bdca66af1c')\"\n",
              "            title=\"Convert this dataframe to an interactive table.\"\n",
              "            style=\"display:none;\">\n",
              "\n",
              "  <svg xmlns=\"http://www.w3.org/2000/svg\" height=\"24px\" viewBox=\"0 -960 960 960\">\n",
              "    <path d=\"M120-120v-720h720v720H120Zm60-500h600v-160H180v160Zm220 220h160v-160H400v160Zm0 220h160v-160H400v160ZM180-400h160v-160H180v160Zm440 0h160v-160H620v160ZM180-180h160v-160H180v160Zm440 0h160v-160H620v160Z\"/>\n",
              "  </svg>\n",
              "    </button>\n",
              "\n",
              "  <style>\n",
              "    .colab-df-container {\n",
              "      display:flex;\n",
              "      gap: 12px;\n",
              "    }\n",
              "\n",
              "    .colab-df-convert {\n",
              "      background-color: #E8F0FE;\n",
              "      border: none;\n",
              "      border-radius: 50%;\n",
              "      cursor: pointer;\n",
              "      display: none;\n",
              "      fill: #1967D2;\n",
              "      height: 32px;\n",
              "      padding: 0 0 0 0;\n",
              "      width: 32px;\n",
              "    }\n",
              "\n",
              "    .colab-df-convert:hover {\n",
              "      background-color: #E2EBFA;\n",
              "      box-shadow: 0px 1px 2px rgba(60, 64, 67, 0.3), 0px 1px 3px 1px rgba(60, 64, 67, 0.15);\n",
              "      fill: #174EA6;\n",
              "    }\n",
              "\n",
              "    .colab-df-buttons div {\n",
              "      margin-bottom: 4px;\n",
              "    }\n",
              "\n",
              "    [theme=dark] .colab-df-convert {\n",
              "      background-color: #3B4455;\n",
              "      fill: #D2E3FC;\n",
              "    }\n",
              "\n",
              "    [theme=dark] .colab-df-convert:hover {\n",
              "      background-color: #434B5C;\n",
              "      box-shadow: 0px 1px 3px 1px rgba(0, 0, 0, 0.15);\n",
              "      filter: drop-shadow(0px 1px 2px rgba(0, 0, 0, 0.3));\n",
              "      fill: #FFFFFF;\n",
              "    }\n",
              "  </style>\n",
              "\n",
              "    <script>\n",
              "      const buttonEl =\n",
              "        document.querySelector('#df-ff53952d-f640-43cf-ae21-b5bdca66af1c button.colab-df-convert');\n",
              "      buttonEl.style.display =\n",
              "        google.colab.kernel.accessAllowed ? 'block' : 'none';\n",
              "\n",
              "      async function convertToInteractive(key) {\n",
              "        const element = document.querySelector('#df-ff53952d-f640-43cf-ae21-b5bdca66af1c');\n",
              "        const dataTable =\n",
              "          await google.colab.kernel.invokeFunction('convertToInteractive',\n",
              "                                                    [key], {});\n",
              "        if (!dataTable) return;\n",
              "\n",
              "        const docLinkHtml = 'Like what you see? Visit the ' +\n",
              "          '<a target=\"_blank\" href=https://colab.research.google.com/notebooks/data_table.ipynb>data table notebook</a>'\n",
              "          + ' to learn more about interactive tables.';\n",
              "        element.innerHTML = '';\n",
              "        dataTable['output_type'] = 'display_data';\n",
              "        await google.colab.output.renderOutput(dataTable, element);\n",
              "        const docLink = document.createElement('div');\n",
              "        docLink.innerHTML = docLinkHtml;\n",
              "        element.appendChild(docLink);\n",
              "      }\n",
              "    </script>\n",
              "  </div>\n",
              "\n",
              "\n",
              "<div id=\"df-898e49c0-34e2-450a-8b75-5f8050f32d0c\">\n",
              "  <button class=\"colab-df-quickchart\" onclick=\"quickchart('df-898e49c0-34e2-450a-8b75-5f8050f32d0c')\"\n",
              "            title=\"Suggest charts\"\n",
              "            style=\"display:none;\">\n",
              "\n",
              "<svg xmlns=\"http://www.w3.org/2000/svg\" height=\"24px\"viewBox=\"0 0 24 24\"\n",
              "     width=\"24px\">\n",
              "    <g>\n",
              "        <path d=\"M19 3H5c-1.1 0-2 .9-2 2v14c0 1.1.9 2 2 2h14c1.1 0 2-.9 2-2V5c0-1.1-.9-2-2-2zM9 17H7v-7h2v7zm4 0h-2V7h2v10zm4 0h-2v-4h2v4z\"/>\n",
              "    </g>\n",
              "</svg>\n",
              "  </button>\n",
              "\n",
              "<style>\n",
              "  .colab-df-quickchart {\n",
              "      --bg-color: #E8F0FE;\n",
              "      --fill-color: #1967D2;\n",
              "      --hover-bg-color: #E2EBFA;\n",
              "      --hover-fill-color: #174EA6;\n",
              "      --disabled-fill-color: #AAA;\n",
              "      --disabled-bg-color: #DDD;\n",
              "  }\n",
              "\n",
              "  [theme=dark] .colab-df-quickchart {\n",
              "      --bg-color: #3B4455;\n",
              "      --fill-color: #D2E3FC;\n",
              "      --hover-bg-color: #434B5C;\n",
              "      --hover-fill-color: #FFFFFF;\n",
              "      --disabled-bg-color: #3B4455;\n",
              "      --disabled-fill-color: #666;\n",
              "  }\n",
              "\n",
              "  .colab-df-quickchart {\n",
              "    background-color: var(--bg-color);\n",
              "    border: none;\n",
              "    border-radius: 50%;\n",
              "    cursor: pointer;\n",
              "    display: none;\n",
              "    fill: var(--fill-color);\n",
              "    height: 32px;\n",
              "    padding: 0;\n",
              "    width: 32px;\n",
              "  }\n",
              "\n",
              "  .colab-df-quickchart:hover {\n",
              "    background-color: var(--hover-bg-color);\n",
              "    box-shadow: 0 1px 2px rgba(60, 64, 67, 0.3), 0 1px 3px 1px rgba(60, 64, 67, 0.15);\n",
              "    fill: var(--button-hover-fill-color);\n",
              "  }\n",
              "\n",
              "  .colab-df-quickchart-complete:disabled,\n",
              "  .colab-df-quickchart-complete:disabled:hover {\n",
              "    background-color: var(--disabled-bg-color);\n",
              "    fill: var(--disabled-fill-color);\n",
              "    box-shadow: none;\n",
              "  }\n",
              "\n",
              "  .colab-df-spinner {\n",
              "    border: 2px solid var(--fill-color);\n",
              "    border-color: transparent;\n",
              "    border-bottom-color: var(--fill-color);\n",
              "    animation:\n",
              "      spin 1s steps(1) infinite;\n",
              "  }\n",
              "\n",
              "  @keyframes spin {\n",
              "    0% {\n",
              "      border-color: transparent;\n",
              "      border-bottom-color: var(--fill-color);\n",
              "      border-left-color: var(--fill-color);\n",
              "    }\n",
              "    20% {\n",
              "      border-color: transparent;\n",
              "      border-left-color: var(--fill-color);\n",
              "      border-top-color: var(--fill-color);\n",
              "    }\n",
              "    30% {\n",
              "      border-color: transparent;\n",
              "      border-left-color: var(--fill-color);\n",
              "      border-top-color: var(--fill-color);\n",
              "      border-right-color: var(--fill-color);\n",
              "    }\n",
              "    40% {\n",
              "      border-color: transparent;\n",
              "      border-right-color: var(--fill-color);\n",
              "      border-top-color: var(--fill-color);\n",
              "    }\n",
              "    60% {\n",
              "      border-color: transparent;\n",
              "      border-right-color: var(--fill-color);\n",
              "    }\n",
              "    80% {\n",
              "      border-color: transparent;\n",
              "      border-right-color: var(--fill-color);\n",
              "      border-bottom-color: var(--fill-color);\n",
              "    }\n",
              "    90% {\n",
              "      border-color: transparent;\n",
              "      border-bottom-color: var(--fill-color);\n",
              "    }\n",
              "  }\n",
              "</style>\n",
              "\n",
              "  <script>\n",
              "    async function quickchart(key) {\n",
              "      const quickchartButtonEl =\n",
              "        document.querySelector('#' + key + ' button');\n",
              "      quickchartButtonEl.disabled = true;  // To prevent multiple clicks.\n",
              "      quickchartButtonEl.classList.add('colab-df-spinner');\n",
              "      try {\n",
              "        const charts = await google.colab.kernel.invokeFunction(\n",
              "            'suggestCharts', [key], {});\n",
              "      } catch (error) {\n",
              "        console.error('Error during call to suggestCharts:', error);\n",
              "      }\n",
              "      quickchartButtonEl.classList.remove('colab-df-spinner');\n",
              "      quickchartButtonEl.classList.add('colab-df-quickchart-complete');\n",
              "    }\n",
              "    (() => {\n",
              "      let quickchartButtonEl =\n",
              "        document.querySelector('#df-898e49c0-34e2-450a-8b75-5f8050f32d0c button');\n",
              "      quickchartButtonEl.style.display =\n",
              "        google.colab.kernel.accessAllowed ? 'block' : 'none';\n",
              "    })();\n",
              "  </script>\n",
              "</div>\n",
              "\n",
              "  <div id=\"id_cf0fb6c9-22f2-4d9b-b2a7-b3aecb44243e\">\n",
              "    <style>\n",
              "      .colab-df-generate {\n",
              "        background-color: #E8F0FE;\n",
              "        border: none;\n",
              "        border-radius: 50%;\n",
              "        cursor: pointer;\n",
              "        display: none;\n",
              "        fill: #1967D2;\n",
              "        height: 32px;\n",
              "        padding: 0 0 0 0;\n",
              "        width: 32px;\n",
              "      }\n",
              "\n",
              "      .colab-df-generate:hover {\n",
              "        background-color: #E2EBFA;\n",
              "        box-shadow: 0px 1px 2px rgba(60, 64, 67, 0.3), 0px 1px 3px 1px rgba(60, 64, 67, 0.15);\n",
              "        fill: #174EA6;\n",
              "      }\n",
              "\n",
              "      [theme=dark] .colab-df-generate {\n",
              "        background-color: #3B4455;\n",
              "        fill: #D2E3FC;\n",
              "      }\n",
              "\n",
              "      [theme=dark] .colab-df-generate:hover {\n",
              "        background-color: #434B5C;\n",
              "        box-shadow: 0px 1px 3px 1px rgba(0, 0, 0, 0.15);\n",
              "        filter: drop-shadow(0px 1px 2px rgba(0, 0, 0, 0.3));\n",
              "        fill: #FFFFFF;\n",
              "      }\n",
              "    </style>\n",
              "    <button class=\"colab-df-generate\" onclick=\"generateWithVariable('df')\"\n",
              "            title=\"Generate code using this dataframe.\"\n",
              "            style=\"display:none;\">\n",
              "\n",
              "  <svg xmlns=\"http://www.w3.org/2000/svg\" height=\"24px\"viewBox=\"0 0 24 24\"\n",
              "       width=\"24px\">\n",
              "    <path d=\"M7,19H8.4L18.45,9,17,7.55,7,17.6ZM5,21V16.75L18.45,3.32a2,2,0,0,1,2.83,0l1.4,1.43a1.91,1.91,0,0,1,.58,1.4,1.91,1.91,0,0,1-.58,1.4L9.25,21ZM18.45,9,17,7.55Zm-12,3A5.31,5.31,0,0,0,4.9,8.1,5.31,5.31,0,0,0,1,6.5,5.31,5.31,0,0,0,4.9,4.9,5.31,5.31,0,0,0,6.5,1,5.31,5.31,0,0,0,8.1,4.9,5.31,5.31,0,0,0,12,6.5,5.46,5.46,0,0,0,6.5,12Z\"/>\n",
              "  </svg>\n",
              "    </button>\n",
              "    <script>\n",
              "      (() => {\n",
              "      const buttonEl =\n",
              "        document.querySelector('#id_cf0fb6c9-22f2-4d9b-b2a7-b3aecb44243e button.colab-df-generate');\n",
              "      buttonEl.style.display =\n",
              "        google.colab.kernel.accessAllowed ? 'block' : 'none';\n",
              "\n",
              "      buttonEl.onclick = () => {\n",
              "        google.colab.notebook.generateWithVariable('df');\n",
              "      }\n",
              "      })();\n",
              "    </script>\n",
              "  </div>\n",
              "\n",
              "    </div>\n",
              "  </div>\n"
            ],
            "application/vnd.google.colaboratory.intrinsic+json": {
              "type": "dataframe",
              "variable_name": "df",
              "summary": "{\n  \"name\": \"df\",\n  \"rows\": 1752,\n  \"fields\": [\n    {\n      \"column\": \"id\",\n      \"properties\": {\n        \"dtype\": \"number\",\n        \"std\": 505,\n        \"min\": 1,\n        \"max\": 1752,\n        \"num_unique_values\": 1752,\n        \"samples\": [\n          323,\n          409,\n          406\n        ],\n        \"semantic_type\": \"\",\n        \"description\": \"\"\n      }\n    },\n    {\n      \"column\": \"net\",\n      \"properties\": {\n        \"dtype\": \"boolean\",\n        \"num_unique_values\": 2,\n        \"samples\": [\n          false,\n          true\n        ],\n        \"semantic_type\": \"\",\n        \"description\": \"\"\n      }\n    },\n    {\n      \"column\": \"net_num\",\n      \"properties\": {\n        \"dtype\": \"number\",\n        \"std\": 0,\n        \"min\": 0,\n        \"max\": 1,\n        \"num_unique_values\": 2,\n        \"samples\": [\n          0,\n          1\n        ],\n        \"semantic_type\": \"\",\n        \"description\": \"\"\n      }\n    },\n    {\n      \"column\": \"dengue_risk\",\n      \"properties\": {\n        \"dtype\": \"number\",\n        \"std\": 15,\n        \"min\": 10,\n        \"max\": 90,\n        \"num_unique_values\": 77,\n        \"samples\": [\n          44,\n          49\n        ],\n        \"semantic_type\": \"\",\n        \"description\": \"\"\n      }\n    },\n    {\n      \"column\": \"income\",\n      \"properties\": {\n        \"dtype\": \"number\",\n        \"std\": 188,\n        \"min\": 301,\n        \"max\": 1469,\n        \"num_unique_values\": 702,\n        \"samples\": [\n          871,\n          987\n        ],\n        \"semantic_type\": \"\",\n        \"description\": \"\"\n      }\n    },\n    {\n      \"column\": \"health\",\n      \"properties\": {\n        \"dtype\": \"number\",\n        \"std\": 18,\n        \"min\": 5,\n        \"max\": 100,\n        \"num_unique_values\": 96,\n        \"samples\": [\n          38,\n          74\n        ],\n        \"semantic_type\": \"\",\n        \"description\": \"\"\n      }\n    },\n    {\n      \"column\": \"household\",\n      \"properties\": {\n        \"dtype\": \"number\",\n        \"std\": 1,\n        \"min\": 1,\n        \"max\": 9,\n        \"num_unique_values\": 9,\n        \"samples\": [\n          9,\n          4\n        ],\n        \"semantic_type\": \"\",\n        \"description\": \"\"\n      }\n    },\n    {\n      \"column\": \"eligible\",\n      \"properties\": {\n        \"dtype\": \"boolean\",\n        \"num_unique_values\": 2,\n        \"samples\": [\n          true,\n          false\n        ],\n        \"semantic_type\": \"\",\n        \"description\": \"\"\n      }\n    },\n    {\n      \"column\": \"temperature\",\n      \"properties\": {\n        \"dtype\": \"number\",\n        \"std\": 4.107322239498044,\n        \"min\": 15.6,\n        \"max\": 32.2,\n        \"num_unique_values\": 167,\n        \"samples\": [\n          23.7,\n          16.9\n        ],\n        \"semantic_type\": \"\",\n        \"description\": \"\"\n      }\n    },\n    {\n      \"column\": \"resistance\",\n      \"properties\": {\n        \"dtype\": \"number\",\n        \"std\": 13,\n        \"min\": 5,\n        \"max\": 95,\n        \"num_unique_values\": 82,\n        \"samples\": [\n          66,\n          59\n        ],\n        \"semantic_type\": \"\",\n        \"description\": \"\"\n      }\n    }\n  ]\n}"
            }
          },
          "metadata": {},
          "execution_count": 59
        }
      ]
    },
    {
      "cell_type": "code",
      "source": [
        "# Checking for any null values in the column\n",
        "df.isnull().sum()"
      ],
      "metadata": {
        "colab": {
          "base_uri": "https://localhost:8080/"
        },
        "id": "NWPEN_oz8YOL",
        "outputId": "695fe698-a07f-4f10-ee7f-64384d34bdff"
      },
      "execution_count": null,
      "outputs": [
        {
          "output_type": "execute_result",
          "data": {
            "text/plain": [
              "id             0\n",
              "net            0\n",
              "net_num        0\n",
              "dengue_risk    0\n",
              "income         0\n",
              "health         0\n",
              "household      0\n",
              "eligible       0\n",
              "temperature    0\n",
              "resistance     0\n",
              "dtype: int64"
            ]
          },
          "metadata": {},
          "execution_count": 60
        }
      ]
    },
    {
      "cell_type": "code",
      "source": [
        "#Multiplying thr income column with 10 to get the exact figure of the income in a new column inr_income\n",
        "df['inr_income'] = df['income'] * 10\n",
        "df"
      ],
      "metadata": {
        "colab": {
          "base_uri": "https://localhost:8080/",
          "height": 423
        },
        "id": "Q89cbkNs_sxY",
        "outputId": "26419412-9ee1-41ca-f9e7-5d2d62d73959"
      },
      "execution_count": null,
      "outputs": [
        {
          "output_type": "execute_result",
          "data": {
            "text/plain": [
              "        id    net  net_num  dengue_risk  income  health  household  eligible  \\\n",
              "0        1   True        1           33     781      56          2     False   \n",
              "1        2  False        0           42     974      57          4     False   \n",
              "2        3  False        0           80     502      15          3     False   \n",
              "3        4   True        1           34     671      20          5      True   \n",
              "4        5  False        0           44     728      17          5     False   \n",
              "...    ...    ...      ...          ...     ...     ...        ...       ...   \n",
              "1747  1748   True        1           18     961      27          4     False   \n",
              "1748  1749  False        0           49     906      49          5     False   \n",
              "1749  1750  False        0           17    1325      92          2     False   \n",
              "1750  1751  False        0           46     879      33          6     False   \n",
              "1751  1752   True        1           13    1339      77          4     False   \n",
              "\n",
              "      temperature  resistance  inr_income  \n",
              "0            21.1          59        7810  \n",
              "1            26.5          73        9740  \n",
              "2            25.6          65        5020  \n",
              "3            21.3          46        6710  \n",
              "4            19.2          54        7280  \n",
              "...           ...         ...         ...  \n",
              "1747         22.1          27        9610  \n",
              "1748         30.7          55        9060  \n",
              "1749         21.4          52       13250  \n",
              "1750         27.4          62        8790  \n",
              "1751         27.7          44       13390  \n",
              "\n",
              "[1752 rows x 11 columns]"
            ],
            "text/html": [
              "\n",
              "  <div id=\"df-0853a14a-4991-4575-9d86-bf7fa9a51bbf\" class=\"colab-df-container\">\n",
              "    <div>\n",
              "<style scoped>\n",
              "    .dataframe tbody tr th:only-of-type {\n",
              "        vertical-align: middle;\n",
              "    }\n",
              "\n",
              "    .dataframe tbody tr th {\n",
              "        vertical-align: top;\n",
              "    }\n",
              "\n",
              "    .dataframe thead th {\n",
              "        text-align: right;\n",
              "    }\n",
              "</style>\n",
              "<table border=\"1\" class=\"dataframe\">\n",
              "  <thead>\n",
              "    <tr style=\"text-align: right;\">\n",
              "      <th></th>\n",
              "      <th>id</th>\n",
              "      <th>net</th>\n",
              "      <th>net_num</th>\n",
              "      <th>dengue_risk</th>\n",
              "      <th>income</th>\n",
              "      <th>health</th>\n",
              "      <th>household</th>\n",
              "      <th>eligible</th>\n",
              "      <th>temperature</th>\n",
              "      <th>resistance</th>\n",
              "      <th>inr_income</th>\n",
              "    </tr>\n",
              "  </thead>\n",
              "  <tbody>\n",
              "    <tr>\n",
              "      <th>0</th>\n",
              "      <td>1</td>\n",
              "      <td>True</td>\n",
              "      <td>1</td>\n",
              "      <td>33</td>\n",
              "      <td>781</td>\n",
              "      <td>56</td>\n",
              "      <td>2</td>\n",
              "      <td>False</td>\n",
              "      <td>21.1</td>\n",
              "      <td>59</td>\n",
              "      <td>7810</td>\n",
              "    </tr>\n",
              "    <tr>\n",
              "      <th>1</th>\n",
              "      <td>2</td>\n",
              "      <td>False</td>\n",
              "      <td>0</td>\n",
              "      <td>42</td>\n",
              "      <td>974</td>\n",
              "      <td>57</td>\n",
              "      <td>4</td>\n",
              "      <td>False</td>\n",
              "      <td>26.5</td>\n",
              "      <td>73</td>\n",
              "      <td>9740</td>\n",
              "    </tr>\n",
              "    <tr>\n",
              "      <th>2</th>\n",
              "      <td>3</td>\n",
              "      <td>False</td>\n",
              "      <td>0</td>\n",
              "      <td>80</td>\n",
              "      <td>502</td>\n",
              "      <td>15</td>\n",
              "      <td>3</td>\n",
              "      <td>False</td>\n",
              "      <td>25.6</td>\n",
              "      <td>65</td>\n",
              "      <td>5020</td>\n",
              "    </tr>\n",
              "    <tr>\n",
              "      <th>3</th>\n",
              "      <td>4</td>\n",
              "      <td>True</td>\n",
              "      <td>1</td>\n",
              "      <td>34</td>\n",
              "      <td>671</td>\n",
              "      <td>20</td>\n",
              "      <td>5</td>\n",
              "      <td>True</td>\n",
              "      <td>21.3</td>\n",
              "      <td>46</td>\n",
              "      <td>6710</td>\n",
              "    </tr>\n",
              "    <tr>\n",
              "      <th>4</th>\n",
              "      <td>5</td>\n",
              "      <td>False</td>\n",
              "      <td>0</td>\n",
              "      <td>44</td>\n",
              "      <td>728</td>\n",
              "      <td>17</td>\n",
              "      <td>5</td>\n",
              "      <td>False</td>\n",
              "      <td>19.2</td>\n",
              "      <td>54</td>\n",
              "      <td>7280</td>\n",
              "    </tr>\n",
              "    <tr>\n",
              "      <th>...</th>\n",
              "      <td>...</td>\n",
              "      <td>...</td>\n",
              "      <td>...</td>\n",
              "      <td>...</td>\n",
              "      <td>...</td>\n",
              "      <td>...</td>\n",
              "      <td>...</td>\n",
              "      <td>...</td>\n",
              "      <td>...</td>\n",
              "      <td>...</td>\n",
              "      <td>...</td>\n",
              "    </tr>\n",
              "    <tr>\n",
              "      <th>1747</th>\n",
              "      <td>1748</td>\n",
              "      <td>True</td>\n",
              "      <td>1</td>\n",
              "      <td>18</td>\n",
              "      <td>961</td>\n",
              "      <td>27</td>\n",
              "      <td>4</td>\n",
              "      <td>False</td>\n",
              "      <td>22.1</td>\n",
              "      <td>27</td>\n",
              "      <td>9610</td>\n",
              "    </tr>\n",
              "    <tr>\n",
              "      <th>1748</th>\n",
              "      <td>1749</td>\n",
              "      <td>False</td>\n",
              "      <td>0</td>\n",
              "      <td>49</td>\n",
              "      <td>906</td>\n",
              "      <td>49</td>\n",
              "      <td>5</td>\n",
              "      <td>False</td>\n",
              "      <td>30.7</td>\n",
              "      <td>55</td>\n",
              "      <td>9060</td>\n",
              "    </tr>\n",
              "    <tr>\n",
              "      <th>1749</th>\n",
              "      <td>1750</td>\n",
              "      <td>False</td>\n",
              "      <td>0</td>\n",
              "      <td>17</td>\n",
              "      <td>1325</td>\n",
              "      <td>92</td>\n",
              "      <td>2</td>\n",
              "      <td>False</td>\n",
              "      <td>21.4</td>\n",
              "      <td>52</td>\n",
              "      <td>13250</td>\n",
              "    </tr>\n",
              "    <tr>\n",
              "      <th>1750</th>\n",
              "      <td>1751</td>\n",
              "      <td>False</td>\n",
              "      <td>0</td>\n",
              "      <td>46</td>\n",
              "      <td>879</td>\n",
              "      <td>33</td>\n",
              "      <td>6</td>\n",
              "      <td>False</td>\n",
              "      <td>27.4</td>\n",
              "      <td>62</td>\n",
              "      <td>8790</td>\n",
              "    </tr>\n",
              "    <tr>\n",
              "      <th>1751</th>\n",
              "      <td>1752</td>\n",
              "      <td>True</td>\n",
              "      <td>1</td>\n",
              "      <td>13</td>\n",
              "      <td>1339</td>\n",
              "      <td>77</td>\n",
              "      <td>4</td>\n",
              "      <td>False</td>\n",
              "      <td>27.7</td>\n",
              "      <td>44</td>\n",
              "      <td>13390</td>\n",
              "    </tr>\n",
              "  </tbody>\n",
              "</table>\n",
              "<p>1752 rows × 11 columns</p>\n",
              "</div>\n",
              "    <div class=\"colab-df-buttons\">\n",
              "\n",
              "  <div class=\"colab-df-container\">\n",
              "    <button class=\"colab-df-convert\" onclick=\"convertToInteractive('df-0853a14a-4991-4575-9d86-bf7fa9a51bbf')\"\n",
              "            title=\"Convert this dataframe to an interactive table.\"\n",
              "            style=\"display:none;\">\n",
              "\n",
              "  <svg xmlns=\"http://www.w3.org/2000/svg\" height=\"24px\" viewBox=\"0 -960 960 960\">\n",
              "    <path d=\"M120-120v-720h720v720H120Zm60-500h600v-160H180v160Zm220 220h160v-160H400v160Zm0 220h160v-160H400v160ZM180-400h160v-160H180v160Zm440 0h160v-160H620v160ZM180-180h160v-160H180v160Zm440 0h160v-160H620v160Z\"/>\n",
              "  </svg>\n",
              "    </button>\n",
              "\n",
              "  <style>\n",
              "    .colab-df-container {\n",
              "      display:flex;\n",
              "      gap: 12px;\n",
              "    }\n",
              "\n",
              "    .colab-df-convert {\n",
              "      background-color: #E8F0FE;\n",
              "      border: none;\n",
              "      border-radius: 50%;\n",
              "      cursor: pointer;\n",
              "      display: none;\n",
              "      fill: #1967D2;\n",
              "      height: 32px;\n",
              "      padding: 0 0 0 0;\n",
              "      width: 32px;\n",
              "    }\n",
              "\n",
              "    .colab-df-convert:hover {\n",
              "      background-color: #E2EBFA;\n",
              "      box-shadow: 0px 1px 2px rgba(60, 64, 67, 0.3), 0px 1px 3px 1px rgba(60, 64, 67, 0.15);\n",
              "      fill: #174EA6;\n",
              "    }\n",
              "\n",
              "    .colab-df-buttons div {\n",
              "      margin-bottom: 4px;\n",
              "    }\n",
              "\n",
              "    [theme=dark] .colab-df-convert {\n",
              "      background-color: #3B4455;\n",
              "      fill: #D2E3FC;\n",
              "    }\n",
              "\n",
              "    [theme=dark] .colab-df-convert:hover {\n",
              "      background-color: #434B5C;\n",
              "      box-shadow: 0px 1px 3px 1px rgba(0, 0, 0, 0.15);\n",
              "      filter: drop-shadow(0px 1px 2px rgba(0, 0, 0, 0.3));\n",
              "      fill: #FFFFFF;\n",
              "    }\n",
              "  </style>\n",
              "\n",
              "    <script>\n",
              "      const buttonEl =\n",
              "        document.querySelector('#df-0853a14a-4991-4575-9d86-bf7fa9a51bbf button.colab-df-convert');\n",
              "      buttonEl.style.display =\n",
              "        google.colab.kernel.accessAllowed ? 'block' : 'none';\n",
              "\n",
              "      async function convertToInteractive(key) {\n",
              "        const element = document.querySelector('#df-0853a14a-4991-4575-9d86-bf7fa9a51bbf');\n",
              "        const dataTable =\n",
              "          await google.colab.kernel.invokeFunction('convertToInteractive',\n",
              "                                                    [key], {});\n",
              "        if (!dataTable) return;\n",
              "\n",
              "        const docLinkHtml = 'Like what you see? Visit the ' +\n",
              "          '<a target=\"_blank\" href=https://colab.research.google.com/notebooks/data_table.ipynb>data table notebook</a>'\n",
              "          + ' to learn more about interactive tables.';\n",
              "        element.innerHTML = '';\n",
              "        dataTable['output_type'] = 'display_data';\n",
              "        await google.colab.output.renderOutput(dataTable, element);\n",
              "        const docLink = document.createElement('div');\n",
              "        docLink.innerHTML = docLinkHtml;\n",
              "        element.appendChild(docLink);\n",
              "      }\n",
              "    </script>\n",
              "  </div>\n",
              "\n",
              "\n",
              "<div id=\"df-435cdf7f-32e5-4334-8fd5-72232221e83e\">\n",
              "  <button class=\"colab-df-quickchart\" onclick=\"quickchart('df-435cdf7f-32e5-4334-8fd5-72232221e83e')\"\n",
              "            title=\"Suggest charts\"\n",
              "            style=\"display:none;\">\n",
              "\n",
              "<svg xmlns=\"http://www.w3.org/2000/svg\" height=\"24px\"viewBox=\"0 0 24 24\"\n",
              "     width=\"24px\">\n",
              "    <g>\n",
              "        <path d=\"M19 3H5c-1.1 0-2 .9-2 2v14c0 1.1.9 2 2 2h14c1.1 0 2-.9 2-2V5c0-1.1-.9-2-2-2zM9 17H7v-7h2v7zm4 0h-2V7h2v10zm4 0h-2v-4h2v4z\"/>\n",
              "    </g>\n",
              "</svg>\n",
              "  </button>\n",
              "\n",
              "<style>\n",
              "  .colab-df-quickchart {\n",
              "      --bg-color: #E8F0FE;\n",
              "      --fill-color: #1967D2;\n",
              "      --hover-bg-color: #E2EBFA;\n",
              "      --hover-fill-color: #174EA6;\n",
              "      --disabled-fill-color: #AAA;\n",
              "      --disabled-bg-color: #DDD;\n",
              "  }\n",
              "\n",
              "  [theme=dark] .colab-df-quickchart {\n",
              "      --bg-color: #3B4455;\n",
              "      --fill-color: #D2E3FC;\n",
              "      --hover-bg-color: #434B5C;\n",
              "      --hover-fill-color: #FFFFFF;\n",
              "      --disabled-bg-color: #3B4455;\n",
              "      --disabled-fill-color: #666;\n",
              "  }\n",
              "\n",
              "  .colab-df-quickchart {\n",
              "    background-color: var(--bg-color);\n",
              "    border: none;\n",
              "    border-radius: 50%;\n",
              "    cursor: pointer;\n",
              "    display: none;\n",
              "    fill: var(--fill-color);\n",
              "    height: 32px;\n",
              "    padding: 0;\n",
              "    width: 32px;\n",
              "  }\n",
              "\n",
              "  .colab-df-quickchart:hover {\n",
              "    background-color: var(--hover-bg-color);\n",
              "    box-shadow: 0 1px 2px rgba(60, 64, 67, 0.3), 0 1px 3px 1px rgba(60, 64, 67, 0.15);\n",
              "    fill: var(--button-hover-fill-color);\n",
              "  }\n",
              "\n",
              "  .colab-df-quickchart-complete:disabled,\n",
              "  .colab-df-quickchart-complete:disabled:hover {\n",
              "    background-color: var(--disabled-bg-color);\n",
              "    fill: var(--disabled-fill-color);\n",
              "    box-shadow: none;\n",
              "  }\n",
              "\n",
              "  .colab-df-spinner {\n",
              "    border: 2px solid var(--fill-color);\n",
              "    border-color: transparent;\n",
              "    border-bottom-color: var(--fill-color);\n",
              "    animation:\n",
              "      spin 1s steps(1) infinite;\n",
              "  }\n",
              "\n",
              "  @keyframes spin {\n",
              "    0% {\n",
              "      border-color: transparent;\n",
              "      border-bottom-color: var(--fill-color);\n",
              "      border-left-color: var(--fill-color);\n",
              "    }\n",
              "    20% {\n",
              "      border-color: transparent;\n",
              "      border-left-color: var(--fill-color);\n",
              "      border-top-color: var(--fill-color);\n",
              "    }\n",
              "    30% {\n",
              "      border-color: transparent;\n",
              "      border-left-color: var(--fill-color);\n",
              "      border-top-color: var(--fill-color);\n",
              "      border-right-color: var(--fill-color);\n",
              "    }\n",
              "    40% {\n",
              "      border-color: transparent;\n",
              "      border-right-color: var(--fill-color);\n",
              "      border-top-color: var(--fill-color);\n",
              "    }\n",
              "    60% {\n",
              "      border-color: transparent;\n",
              "      border-right-color: var(--fill-color);\n",
              "    }\n",
              "    80% {\n",
              "      border-color: transparent;\n",
              "      border-right-color: var(--fill-color);\n",
              "      border-bottom-color: var(--fill-color);\n",
              "    }\n",
              "    90% {\n",
              "      border-color: transparent;\n",
              "      border-bottom-color: var(--fill-color);\n",
              "    }\n",
              "  }\n",
              "</style>\n",
              "\n",
              "  <script>\n",
              "    async function quickchart(key) {\n",
              "      const quickchartButtonEl =\n",
              "        document.querySelector('#' + key + ' button');\n",
              "      quickchartButtonEl.disabled = true;  // To prevent multiple clicks.\n",
              "      quickchartButtonEl.classList.add('colab-df-spinner');\n",
              "      try {\n",
              "        const charts = await google.colab.kernel.invokeFunction(\n",
              "            'suggestCharts', [key], {});\n",
              "      } catch (error) {\n",
              "        console.error('Error during call to suggestCharts:', error);\n",
              "      }\n",
              "      quickchartButtonEl.classList.remove('colab-df-spinner');\n",
              "      quickchartButtonEl.classList.add('colab-df-quickchart-complete');\n",
              "    }\n",
              "    (() => {\n",
              "      let quickchartButtonEl =\n",
              "        document.querySelector('#df-435cdf7f-32e5-4334-8fd5-72232221e83e button');\n",
              "      quickchartButtonEl.style.display =\n",
              "        google.colab.kernel.accessAllowed ? 'block' : 'none';\n",
              "    })();\n",
              "  </script>\n",
              "</div>\n",
              "\n",
              "  <div id=\"id_4fe23fb2-8b54-45b6-8018-4a2f869bec93\">\n",
              "    <style>\n",
              "      .colab-df-generate {\n",
              "        background-color: #E8F0FE;\n",
              "        border: none;\n",
              "        border-radius: 50%;\n",
              "        cursor: pointer;\n",
              "        display: none;\n",
              "        fill: #1967D2;\n",
              "        height: 32px;\n",
              "        padding: 0 0 0 0;\n",
              "        width: 32px;\n",
              "      }\n",
              "\n",
              "      .colab-df-generate:hover {\n",
              "        background-color: #E2EBFA;\n",
              "        box-shadow: 0px 1px 2px rgba(60, 64, 67, 0.3), 0px 1px 3px 1px rgba(60, 64, 67, 0.15);\n",
              "        fill: #174EA6;\n",
              "      }\n",
              "\n",
              "      [theme=dark] .colab-df-generate {\n",
              "        background-color: #3B4455;\n",
              "        fill: #D2E3FC;\n",
              "      }\n",
              "\n",
              "      [theme=dark] .colab-df-generate:hover {\n",
              "        background-color: #434B5C;\n",
              "        box-shadow: 0px 1px 3px 1px rgba(0, 0, 0, 0.15);\n",
              "        filter: drop-shadow(0px 1px 2px rgba(0, 0, 0, 0.3));\n",
              "        fill: #FFFFFF;\n",
              "      }\n",
              "    </style>\n",
              "    <button class=\"colab-df-generate\" onclick=\"generateWithVariable('df')\"\n",
              "            title=\"Generate code using this dataframe.\"\n",
              "            style=\"display:none;\">\n",
              "\n",
              "  <svg xmlns=\"http://www.w3.org/2000/svg\" height=\"24px\"viewBox=\"0 0 24 24\"\n",
              "       width=\"24px\">\n",
              "    <path d=\"M7,19H8.4L18.45,9,17,7.55,7,17.6ZM5,21V16.75L18.45,3.32a2,2,0,0,1,2.83,0l1.4,1.43a1.91,1.91,0,0,1,.58,1.4,1.91,1.91,0,0,1-.58,1.4L9.25,21ZM18.45,9,17,7.55Zm-12,3A5.31,5.31,0,0,0,4.9,8.1,5.31,5.31,0,0,0,1,6.5,5.31,5.31,0,0,0,4.9,4.9,5.31,5.31,0,0,0,6.5,1,5.31,5.31,0,0,0,8.1,4.9,5.31,5.31,0,0,0,12,6.5,5.46,5.46,0,0,0,6.5,12Z\"/>\n",
              "  </svg>\n",
              "    </button>\n",
              "    <script>\n",
              "      (() => {\n",
              "      const buttonEl =\n",
              "        document.querySelector('#id_4fe23fb2-8b54-45b6-8018-4a2f869bec93 button.colab-df-generate');\n",
              "      buttonEl.style.display =\n",
              "        google.colab.kernel.accessAllowed ? 'block' : 'none';\n",
              "\n",
              "      buttonEl.onclick = () => {\n",
              "        google.colab.notebook.generateWithVariable('df');\n",
              "      }\n",
              "      })();\n",
              "    </script>\n",
              "  </div>\n",
              "\n",
              "    </div>\n",
              "  </div>\n"
            ],
            "application/vnd.google.colaboratory.intrinsic+json": {
              "type": "dataframe",
              "variable_name": "df",
              "summary": "{\n  \"name\": \"df\",\n  \"rows\": 1752,\n  \"fields\": [\n    {\n      \"column\": \"id\",\n      \"properties\": {\n        \"dtype\": \"number\",\n        \"std\": 505,\n        \"min\": 1,\n        \"max\": 1752,\n        \"num_unique_values\": 1752,\n        \"samples\": [\n          323,\n          409,\n          406\n        ],\n        \"semantic_type\": \"\",\n        \"description\": \"\"\n      }\n    },\n    {\n      \"column\": \"net\",\n      \"properties\": {\n        \"dtype\": \"boolean\",\n        \"num_unique_values\": 2,\n        \"samples\": [\n          false,\n          true\n        ],\n        \"semantic_type\": \"\",\n        \"description\": \"\"\n      }\n    },\n    {\n      \"column\": \"net_num\",\n      \"properties\": {\n        \"dtype\": \"number\",\n        \"std\": 0,\n        \"min\": 0,\n        \"max\": 1,\n        \"num_unique_values\": 2,\n        \"samples\": [\n          0,\n          1\n        ],\n        \"semantic_type\": \"\",\n        \"description\": \"\"\n      }\n    },\n    {\n      \"column\": \"dengue_risk\",\n      \"properties\": {\n        \"dtype\": \"number\",\n        \"std\": 15,\n        \"min\": 10,\n        \"max\": 90,\n        \"num_unique_values\": 77,\n        \"samples\": [\n          44,\n          49\n        ],\n        \"semantic_type\": \"\",\n        \"description\": \"\"\n      }\n    },\n    {\n      \"column\": \"income\",\n      \"properties\": {\n        \"dtype\": \"number\",\n        \"std\": 188,\n        \"min\": 301,\n        \"max\": 1469,\n        \"num_unique_values\": 702,\n        \"samples\": [\n          871,\n          987\n        ],\n        \"semantic_type\": \"\",\n        \"description\": \"\"\n      }\n    },\n    {\n      \"column\": \"health\",\n      \"properties\": {\n        \"dtype\": \"number\",\n        \"std\": 18,\n        \"min\": 5,\n        \"max\": 100,\n        \"num_unique_values\": 96,\n        \"samples\": [\n          38,\n          74\n        ],\n        \"semantic_type\": \"\",\n        \"description\": \"\"\n      }\n    },\n    {\n      \"column\": \"household\",\n      \"properties\": {\n        \"dtype\": \"number\",\n        \"std\": 1,\n        \"min\": 1,\n        \"max\": 9,\n        \"num_unique_values\": 9,\n        \"samples\": [\n          9,\n          4\n        ],\n        \"semantic_type\": \"\",\n        \"description\": \"\"\n      }\n    },\n    {\n      \"column\": \"eligible\",\n      \"properties\": {\n        \"dtype\": \"boolean\",\n        \"num_unique_values\": 2,\n        \"samples\": [\n          true,\n          false\n        ],\n        \"semantic_type\": \"\",\n        \"description\": \"\"\n      }\n    },\n    {\n      \"column\": \"temperature\",\n      \"properties\": {\n        \"dtype\": \"number\",\n        \"std\": 4.107322239498044,\n        \"min\": 15.6,\n        \"max\": 32.2,\n        \"num_unique_values\": 167,\n        \"samples\": [\n          23.7,\n          16.9\n        ],\n        \"semantic_type\": \"\",\n        \"description\": \"\"\n      }\n    },\n    {\n      \"column\": \"resistance\",\n      \"properties\": {\n        \"dtype\": \"number\",\n        \"std\": 13,\n        \"min\": 5,\n        \"max\": 95,\n        \"num_unique_values\": 82,\n        \"samples\": [\n          66,\n          59\n        ],\n        \"semantic_type\": \"\",\n        \"description\": \"\"\n      }\n    },\n    {\n      \"column\": \"inr_income\",\n      \"properties\": {\n        \"dtype\": \"number\",\n        \"std\": 1887,\n        \"min\": 3010,\n        \"max\": 14690,\n        \"num_unique_values\": 702,\n        \"samples\": [\n          8710,\n          9870\n        ],\n        \"semantic_type\": \"\",\n        \"description\": \"\"\n      }\n    }\n  ]\n}"
            }
          },
          "metadata": {},
          "execution_count": 61
        }
      ]
    },
    {
      "cell_type": "code",
      "source": [
        "# Correcting for eligiblilty criteria , which checks for both household > 4 and income < 7000\n",
        "def eligb_chker():\n",
        "    df['eligible']=(df['inr_income'] < 7000) &(df['household'] > 4)\n",
        "    return df"
      ],
      "metadata": {
        "id": "XOQnRzqJ_ty8"
      },
      "execution_count": null,
      "outputs": []
    },
    {
      "cell_type": "code",
      "source": [
        "eligb_chker()"
      ],
      "metadata": {
        "colab": {
          "base_uri": "https://localhost:8080/",
          "height": 423
        },
        "id": "Wh8xPjpZ_uLx",
        "outputId": "5cbc5f36-3088-45d3-b3c8-6c7e69f5f496"
      },
      "execution_count": null,
      "outputs": [
        {
          "output_type": "execute_result",
          "data": {
            "text/plain": [
              "        id    net  net_num  dengue_risk  income  health  household  eligible  \\\n",
              "0        1   True        1           33     781      56          2     False   \n",
              "1        2  False        0           42     974      57          4     False   \n",
              "2        3  False        0           80     502      15          3     False   \n",
              "3        4   True        1           34     671      20          5      True   \n",
              "4        5  False        0           44     728      17          5     False   \n",
              "...    ...    ...      ...          ...     ...     ...        ...       ...   \n",
              "1747  1748   True        1           18     961      27          4     False   \n",
              "1748  1749  False        0           49     906      49          5     False   \n",
              "1749  1750  False        0           17    1325      92          2     False   \n",
              "1750  1751  False        0           46     879      33          6     False   \n",
              "1751  1752   True        1           13    1339      77          4     False   \n",
              "\n",
              "      temperature  resistance  inr_income  \n",
              "0            21.1          59        7810  \n",
              "1            26.5          73        9740  \n",
              "2            25.6          65        5020  \n",
              "3            21.3          46        6710  \n",
              "4            19.2          54        7280  \n",
              "...           ...         ...         ...  \n",
              "1747         22.1          27        9610  \n",
              "1748         30.7          55        9060  \n",
              "1749         21.4          52       13250  \n",
              "1750         27.4          62        8790  \n",
              "1751         27.7          44       13390  \n",
              "\n",
              "[1752 rows x 11 columns]"
            ],
            "text/html": [
              "\n",
              "  <div id=\"df-3f7be936-18d0-4a66-a824-fd4567024d59\" class=\"colab-df-container\">\n",
              "    <div>\n",
              "<style scoped>\n",
              "    .dataframe tbody tr th:only-of-type {\n",
              "        vertical-align: middle;\n",
              "    }\n",
              "\n",
              "    .dataframe tbody tr th {\n",
              "        vertical-align: top;\n",
              "    }\n",
              "\n",
              "    .dataframe thead th {\n",
              "        text-align: right;\n",
              "    }\n",
              "</style>\n",
              "<table border=\"1\" class=\"dataframe\">\n",
              "  <thead>\n",
              "    <tr style=\"text-align: right;\">\n",
              "      <th></th>\n",
              "      <th>id</th>\n",
              "      <th>net</th>\n",
              "      <th>net_num</th>\n",
              "      <th>dengue_risk</th>\n",
              "      <th>income</th>\n",
              "      <th>health</th>\n",
              "      <th>household</th>\n",
              "      <th>eligible</th>\n",
              "      <th>temperature</th>\n",
              "      <th>resistance</th>\n",
              "      <th>inr_income</th>\n",
              "    </tr>\n",
              "  </thead>\n",
              "  <tbody>\n",
              "    <tr>\n",
              "      <th>0</th>\n",
              "      <td>1</td>\n",
              "      <td>True</td>\n",
              "      <td>1</td>\n",
              "      <td>33</td>\n",
              "      <td>781</td>\n",
              "      <td>56</td>\n",
              "      <td>2</td>\n",
              "      <td>False</td>\n",
              "      <td>21.1</td>\n",
              "      <td>59</td>\n",
              "      <td>7810</td>\n",
              "    </tr>\n",
              "    <tr>\n",
              "      <th>1</th>\n",
              "      <td>2</td>\n",
              "      <td>False</td>\n",
              "      <td>0</td>\n",
              "      <td>42</td>\n",
              "      <td>974</td>\n",
              "      <td>57</td>\n",
              "      <td>4</td>\n",
              "      <td>False</td>\n",
              "      <td>26.5</td>\n",
              "      <td>73</td>\n",
              "      <td>9740</td>\n",
              "    </tr>\n",
              "    <tr>\n",
              "      <th>2</th>\n",
              "      <td>3</td>\n",
              "      <td>False</td>\n",
              "      <td>0</td>\n",
              "      <td>80</td>\n",
              "      <td>502</td>\n",
              "      <td>15</td>\n",
              "      <td>3</td>\n",
              "      <td>False</td>\n",
              "      <td>25.6</td>\n",
              "      <td>65</td>\n",
              "      <td>5020</td>\n",
              "    </tr>\n",
              "    <tr>\n",
              "      <th>3</th>\n",
              "      <td>4</td>\n",
              "      <td>True</td>\n",
              "      <td>1</td>\n",
              "      <td>34</td>\n",
              "      <td>671</td>\n",
              "      <td>20</td>\n",
              "      <td>5</td>\n",
              "      <td>True</td>\n",
              "      <td>21.3</td>\n",
              "      <td>46</td>\n",
              "      <td>6710</td>\n",
              "    </tr>\n",
              "    <tr>\n",
              "      <th>4</th>\n",
              "      <td>5</td>\n",
              "      <td>False</td>\n",
              "      <td>0</td>\n",
              "      <td>44</td>\n",
              "      <td>728</td>\n",
              "      <td>17</td>\n",
              "      <td>5</td>\n",
              "      <td>False</td>\n",
              "      <td>19.2</td>\n",
              "      <td>54</td>\n",
              "      <td>7280</td>\n",
              "    </tr>\n",
              "    <tr>\n",
              "      <th>...</th>\n",
              "      <td>...</td>\n",
              "      <td>...</td>\n",
              "      <td>...</td>\n",
              "      <td>...</td>\n",
              "      <td>...</td>\n",
              "      <td>...</td>\n",
              "      <td>...</td>\n",
              "      <td>...</td>\n",
              "      <td>...</td>\n",
              "      <td>...</td>\n",
              "      <td>...</td>\n",
              "    </tr>\n",
              "    <tr>\n",
              "      <th>1747</th>\n",
              "      <td>1748</td>\n",
              "      <td>True</td>\n",
              "      <td>1</td>\n",
              "      <td>18</td>\n",
              "      <td>961</td>\n",
              "      <td>27</td>\n",
              "      <td>4</td>\n",
              "      <td>False</td>\n",
              "      <td>22.1</td>\n",
              "      <td>27</td>\n",
              "      <td>9610</td>\n",
              "    </tr>\n",
              "    <tr>\n",
              "      <th>1748</th>\n",
              "      <td>1749</td>\n",
              "      <td>False</td>\n",
              "      <td>0</td>\n",
              "      <td>49</td>\n",
              "      <td>906</td>\n",
              "      <td>49</td>\n",
              "      <td>5</td>\n",
              "      <td>False</td>\n",
              "      <td>30.7</td>\n",
              "      <td>55</td>\n",
              "      <td>9060</td>\n",
              "    </tr>\n",
              "    <tr>\n",
              "      <th>1749</th>\n",
              "      <td>1750</td>\n",
              "      <td>False</td>\n",
              "      <td>0</td>\n",
              "      <td>17</td>\n",
              "      <td>1325</td>\n",
              "      <td>92</td>\n",
              "      <td>2</td>\n",
              "      <td>False</td>\n",
              "      <td>21.4</td>\n",
              "      <td>52</td>\n",
              "      <td>13250</td>\n",
              "    </tr>\n",
              "    <tr>\n",
              "      <th>1750</th>\n",
              "      <td>1751</td>\n",
              "      <td>False</td>\n",
              "      <td>0</td>\n",
              "      <td>46</td>\n",
              "      <td>879</td>\n",
              "      <td>33</td>\n",
              "      <td>6</td>\n",
              "      <td>False</td>\n",
              "      <td>27.4</td>\n",
              "      <td>62</td>\n",
              "      <td>8790</td>\n",
              "    </tr>\n",
              "    <tr>\n",
              "      <th>1751</th>\n",
              "      <td>1752</td>\n",
              "      <td>True</td>\n",
              "      <td>1</td>\n",
              "      <td>13</td>\n",
              "      <td>1339</td>\n",
              "      <td>77</td>\n",
              "      <td>4</td>\n",
              "      <td>False</td>\n",
              "      <td>27.7</td>\n",
              "      <td>44</td>\n",
              "      <td>13390</td>\n",
              "    </tr>\n",
              "  </tbody>\n",
              "</table>\n",
              "<p>1752 rows × 11 columns</p>\n",
              "</div>\n",
              "    <div class=\"colab-df-buttons\">\n",
              "\n",
              "  <div class=\"colab-df-container\">\n",
              "    <button class=\"colab-df-convert\" onclick=\"convertToInteractive('df-3f7be936-18d0-4a66-a824-fd4567024d59')\"\n",
              "            title=\"Convert this dataframe to an interactive table.\"\n",
              "            style=\"display:none;\">\n",
              "\n",
              "  <svg xmlns=\"http://www.w3.org/2000/svg\" height=\"24px\" viewBox=\"0 -960 960 960\">\n",
              "    <path d=\"M120-120v-720h720v720H120Zm60-500h600v-160H180v160Zm220 220h160v-160H400v160Zm0 220h160v-160H400v160ZM180-400h160v-160H180v160Zm440 0h160v-160H620v160ZM180-180h160v-160H180v160Zm440 0h160v-160H620v160Z\"/>\n",
              "  </svg>\n",
              "    </button>\n",
              "\n",
              "  <style>\n",
              "    .colab-df-container {\n",
              "      display:flex;\n",
              "      gap: 12px;\n",
              "    }\n",
              "\n",
              "    .colab-df-convert {\n",
              "      background-color: #E8F0FE;\n",
              "      border: none;\n",
              "      border-radius: 50%;\n",
              "      cursor: pointer;\n",
              "      display: none;\n",
              "      fill: #1967D2;\n",
              "      height: 32px;\n",
              "      padding: 0 0 0 0;\n",
              "      width: 32px;\n",
              "    }\n",
              "\n",
              "    .colab-df-convert:hover {\n",
              "      background-color: #E2EBFA;\n",
              "      box-shadow: 0px 1px 2px rgba(60, 64, 67, 0.3), 0px 1px 3px 1px rgba(60, 64, 67, 0.15);\n",
              "      fill: #174EA6;\n",
              "    }\n",
              "\n",
              "    .colab-df-buttons div {\n",
              "      margin-bottom: 4px;\n",
              "    }\n",
              "\n",
              "    [theme=dark] .colab-df-convert {\n",
              "      background-color: #3B4455;\n",
              "      fill: #D2E3FC;\n",
              "    }\n",
              "\n",
              "    [theme=dark] .colab-df-convert:hover {\n",
              "      background-color: #434B5C;\n",
              "      box-shadow: 0px 1px 3px 1px rgba(0, 0, 0, 0.15);\n",
              "      filter: drop-shadow(0px 1px 2px rgba(0, 0, 0, 0.3));\n",
              "      fill: #FFFFFF;\n",
              "    }\n",
              "  </style>\n",
              "\n",
              "    <script>\n",
              "      const buttonEl =\n",
              "        document.querySelector('#df-3f7be936-18d0-4a66-a824-fd4567024d59 button.colab-df-convert');\n",
              "      buttonEl.style.display =\n",
              "        google.colab.kernel.accessAllowed ? 'block' : 'none';\n",
              "\n",
              "      async function convertToInteractive(key) {\n",
              "        const element = document.querySelector('#df-3f7be936-18d0-4a66-a824-fd4567024d59');\n",
              "        const dataTable =\n",
              "          await google.colab.kernel.invokeFunction('convertToInteractive',\n",
              "                                                    [key], {});\n",
              "        if (!dataTable) return;\n",
              "\n",
              "        const docLinkHtml = 'Like what you see? Visit the ' +\n",
              "          '<a target=\"_blank\" href=https://colab.research.google.com/notebooks/data_table.ipynb>data table notebook</a>'\n",
              "          + ' to learn more about interactive tables.';\n",
              "        element.innerHTML = '';\n",
              "        dataTable['output_type'] = 'display_data';\n",
              "        await google.colab.output.renderOutput(dataTable, element);\n",
              "        const docLink = document.createElement('div');\n",
              "        docLink.innerHTML = docLinkHtml;\n",
              "        element.appendChild(docLink);\n",
              "      }\n",
              "    </script>\n",
              "  </div>\n",
              "\n",
              "\n",
              "<div id=\"df-c3a17e9c-abdf-4ee6-ad04-e27bb2b9457a\">\n",
              "  <button class=\"colab-df-quickchart\" onclick=\"quickchart('df-c3a17e9c-abdf-4ee6-ad04-e27bb2b9457a')\"\n",
              "            title=\"Suggest charts\"\n",
              "            style=\"display:none;\">\n",
              "\n",
              "<svg xmlns=\"http://www.w3.org/2000/svg\" height=\"24px\"viewBox=\"0 0 24 24\"\n",
              "     width=\"24px\">\n",
              "    <g>\n",
              "        <path d=\"M19 3H5c-1.1 0-2 .9-2 2v14c0 1.1.9 2 2 2h14c1.1 0 2-.9 2-2V5c0-1.1-.9-2-2-2zM9 17H7v-7h2v7zm4 0h-2V7h2v10zm4 0h-2v-4h2v4z\"/>\n",
              "    </g>\n",
              "</svg>\n",
              "  </button>\n",
              "\n",
              "<style>\n",
              "  .colab-df-quickchart {\n",
              "      --bg-color: #E8F0FE;\n",
              "      --fill-color: #1967D2;\n",
              "      --hover-bg-color: #E2EBFA;\n",
              "      --hover-fill-color: #174EA6;\n",
              "      --disabled-fill-color: #AAA;\n",
              "      --disabled-bg-color: #DDD;\n",
              "  }\n",
              "\n",
              "  [theme=dark] .colab-df-quickchart {\n",
              "      --bg-color: #3B4455;\n",
              "      --fill-color: #D2E3FC;\n",
              "      --hover-bg-color: #434B5C;\n",
              "      --hover-fill-color: #FFFFFF;\n",
              "      --disabled-bg-color: #3B4455;\n",
              "      --disabled-fill-color: #666;\n",
              "  }\n",
              "\n",
              "  .colab-df-quickchart {\n",
              "    background-color: var(--bg-color);\n",
              "    border: none;\n",
              "    border-radius: 50%;\n",
              "    cursor: pointer;\n",
              "    display: none;\n",
              "    fill: var(--fill-color);\n",
              "    height: 32px;\n",
              "    padding: 0;\n",
              "    width: 32px;\n",
              "  }\n",
              "\n",
              "  .colab-df-quickchart:hover {\n",
              "    background-color: var(--hover-bg-color);\n",
              "    box-shadow: 0 1px 2px rgba(60, 64, 67, 0.3), 0 1px 3px 1px rgba(60, 64, 67, 0.15);\n",
              "    fill: var(--button-hover-fill-color);\n",
              "  }\n",
              "\n",
              "  .colab-df-quickchart-complete:disabled,\n",
              "  .colab-df-quickchart-complete:disabled:hover {\n",
              "    background-color: var(--disabled-bg-color);\n",
              "    fill: var(--disabled-fill-color);\n",
              "    box-shadow: none;\n",
              "  }\n",
              "\n",
              "  .colab-df-spinner {\n",
              "    border: 2px solid var(--fill-color);\n",
              "    border-color: transparent;\n",
              "    border-bottom-color: var(--fill-color);\n",
              "    animation:\n",
              "      spin 1s steps(1) infinite;\n",
              "  }\n",
              "\n",
              "  @keyframes spin {\n",
              "    0% {\n",
              "      border-color: transparent;\n",
              "      border-bottom-color: var(--fill-color);\n",
              "      border-left-color: var(--fill-color);\n",
              "    }\n",
              "    20% {\n",
              "      border-color: transparent;\n",
              "      border-left-color: var(--fill-color);\n",
              "      border-top-color: var(--fill-color);\n",
              "    }\n",
              "    30% {\n",
              "      border-color: transparent;\n",
              "      border-left-color: var(--fill-color);\n",
              "      border-top-color: var(--fill-color);\n",
              "      border-right-color: var(--fill-color);\n",
              "    }\n",
              "    40% {\n",
              "      border-color: transparent;\n",
              "      border-right-color: var(--fill-color);\n",
              "      border-top-color: var(--fill-color);\n",
              "    }\n",
              "    60% {\n",
              "      border-color: transparent;\n",
              "      border-right-color: var(--fill-color);\n",
              "    }\n",
              "    80% {\n",
              "      border-color: transparent;\n",
              "      border-right-color: var(--fill-color);\n",
              "      border-bottom-color: var(--fill-color);\n",
              "    }\n",
              "    90% {\n",
              "      border-color: transparent;\n",
              "      border-bottom-color: var(--fill-color);\n",
              "    }\n",
              "  }\n",
              "</style>\n",
              "\n",
              "  <script>\n",
              "    async function quickchart(key) {\n",
              "      const quickchartButtonEl =\n",
              "        document.querySelector('#' + key + ' button');\n",
              "      quickchartButtonEl.disabled = true;  // To prevent multiple clicks.\n",
              "      quickchartButtonEl.classList.add('colab-df-spinner');\n",
              "      try {\n",
              "        const charts = await google.colab.kernel.invokeFunction(\n",
              "            'suggestCharts', [key], {});\n",
              "      } catch (error) {\n",
              "        console.error('Error during call to suggestCharts:', error);\n",
              "      }\n",
              "      quickchartButtonEl.classList.remove('colab-df-spinner');\n",
              "      quickchartButtonEl.classList.add('colab-df-quickchart-complete');\n",
              "    }\n",
              "    (() => {\n",
              "      let quickchartButtonEl =\n",
              "        document.querySelector('#df-c3a17e9c-abdf-4ee6-ad04-e27bb2b9457a button');\n",
              "      quickchartButtonEl.style.display =\n",
              "        google.colab.kernel.accessAllowed ? 'block' : 'none';\n",
              "    })();\n",
              "  </script>\n",
              "</div>\n",
              "\n",
              "  <div id=\"id_5a3dbd03-5a4c-4fcd-a09d-7e8deee7fa5d\">\n",
              "    <style>\n",
              "      .colab-df-generate {\n",
              "        background-color: #E8F0FE;\n",
              "        border: none;\n",
              "        border-radius: 50%;\n",
              "        cursor: pointer;\n",
              "        display: none;\n",
              "        fill: #1967D2;\n",
              "        height: 32px;\n",
              "        padding: 0 0 0 0;\n",
              "        width: 32px;\n",
              "      }\n",
              "\n",
              "      .colab-df-generate:hover {\n",
              "        background-color: #E2EBFA;\n",
              "        box-shadow: 0px 1px 2px rgba(60, 64, 67, 0.3), 0px 1px 3px 1px rgba(60, 64, 67, 0.15);\n",
              "        fill: #174EA6;\n",
              "      }\n",
              "\n",
              "      [theme=dark] .colab-df-generate {\n",
              "        background-color: #3B4455;\n",
              "        fill: #D2E3FC;\n",
              "      }\n",
              "\n",
              "      [theme=dark] .colab-df-generate:hover {\n",
              "        background-color: #434B5C;\n",
              "        box-shadow: 0px 1px 3px 1px rgba(0, 0, 0, 0.15);\n",
              "        filter: drop-shadow(0px 1px 2px rgba(0, 0, 0, 0.3));\n",
              "        fill: #FFFFFF;\n",
              "      }\n",
              "    </style>\n",
              "    <button class=\"colab-df-generate\" onclick=\"generateWithVariable('df')\"\n",
              "            title=\"Generate code using this dataframe.\"\n",
              "            style=\"display:none;\">\n",
              "\n",
              "  <svg xmlns=\"http://www.w3.org/2000/svg\" height=\"24px\"viewBox=\"0 0 24 24\"\n",
              "       width=\"24px\">\n",
              "    <path d=\"M7,19H8.4L18.45,9,17,7.55,7,17.6ZM5,21V16.75L18.45,3.32a2,2,0,0,1,2.83,0l1.4,1.43a1.91,1.91,0,0,1,.58,1.4,1.91,1.91,0,0,1-.58,1.4L9.25,21ZM18.45,9,17,7.55Zm-12,3A5.31,5.31,0,0,0,4.9,8.1,5.31,5.31,0,0,0,1,6.5,5.31,5.31,0,0,0,4.9,4.9,5.31,5.31,0,0,0,6.5,1,5.31,5.31,0,0,0,8.1,4.9,5.31,5.31,0,0,0,12,6.5,5.46,5.46,0,0,0,6.5,12Z\"/>\n",
              "  </svg>\n",
              "    </button>\n",
              "    <script>\n",
              "      (() => {\n",
              "      const buttonEl =\n",
              "        document.querySelector('#id_5a3dbd03-5a4c-4fcd-a09d-7e8deee7fa5d button.colab-df-generate');\n",
              "      buttonEl.style.display =\n",
              "        google.colab.kernel.accessAllowed ? 'block' : 'none';\n",
              "\n",
              "      buttonEl.onclick = () => {\n",
              "        google.colab.notebook.generateWithVariable('df');\n",
              "      }\n",
              "      })();\n",
              "    </script>\n",
              "  </div>\n",
              "\n",
              "    </div>\n",
              "  </div>\n"
            ],
            "application/vnd.google.colaboratory.intrinsic+json": {
              "type": "dataframe",
              "variable_name": "df",
              "summary": "{\n  \"name\": \"df\",\n  \"rows\": 1752,\n  \"fields\": [\n    {\n      \"column\": \"id\",\n      \"properties\": {\n        \"dtype\": \"number\",\n        \"std\": 505,\n        \"min\": 1,\n        \"max\": 1752,\n        \"num_unique_values\": 1752,\n        \"samples\": [\n          323,\n          409,\n          406\n        ],\n        \"semantic_type\": \"\",\n        \"description\": \"\"\n      }\n    },\n    {\n      \"column\": \"net\",\n      \"properties\": {\n        \"dtype\": \"boolean\",\n        \"num_unique_values\": 2,\n        \"samples\": [\n          false,\n          true\n        ],\n        \"semantic_type\": \"\",\n        \"description\": \"\"\n      }\n    },\n    {\n      \"column\": \"net_num\",\n      \"properties\": {\n        \"dtype\": \"number\",\n        \"std\": 0,\n        \"min\": 0,\n        \"max\": 1,\n        \"num_unique_values\": 2,\n        \"samples\": [\n          0,\n          1\n        ],\n        \"semantic_type\": \"\",\n        \"description\": \"\"\n      }\n    },\n    {\n      \"column\": \"dengue_risk\",\n      \"properties\": {\n        \"dtype\": \"number\",\n        \"std\": 15,\n        \"min\": 10,\n        \"max\": 90,\n        \"num_unique_values\": 77,\n        \"samples\": [\n          44,\n          49\n        ],\n        \"semantic_type\": \"\",\n        \"description\": \"\"\n      }\n    },\n    {\n      \"column\": \"income\",\n      \"properties\": {\n        \"dtype\": \"number\",\n        \"std\": 188,\n        \"min\": 301,\n        \"max\": 1469,\n        \"num_unique_values\": 702,\n        \"samples\": [\n          871,\n          987\n        ],\n        \"semantic_type\": \"\",\n        \"description\": \"\"\n      }\n    },\n    {\n      \"column\": \"health\",\n      \"properties\": {\n        \"dtype\": \"number\",\n        \"std\": 18,\n        \"min\": 5,\n        \"max\": 100,\n        \"num_unique_values\": 96,\n        \"samples\": [\n          38,\n          74\n        ],\n        \"semantic_type\": \"\",\n        \"description\": \"\"\n      }\n    },\n    {\n      \"column\": \"household\",\n      \"properties\": {\n        \"dtype\": \"number\",\n        \"std\": 1,\n        \"min\": 1,\n        \"max\": 9,\n        \"num_unique_values\": 9,\n        \"samples\": [\n          9,\n          4\n        ],\n        \"semantic_type\": \"\",\n        \"description\": \"\"\n      }\n    },\n    {\n      \"column\": \"eligible\",\n      \"properties\": {\n        \"dtype\": \"boolean\",\n        \"num_unique_values\": 2,\n        \"samples\": [\n          true,\n          false\n        ],\n        \"semantic_type\": \"\",\n        \"description\": \"\"\n      }\n    },\n    {\n      \"column\": \"temperature\",\n      \"properties\": {\n        \"dtype\": \"number\",\n        \"std\": 4.107322239498044,\n        \"min\": 15.6,\n        \"max\": 32.2,\n        \"num_unique_values\": 167,\n        \"samples\": [\n          23.7,\n          16.9\n        ],\n        \"semantic_type\": \"\",\n        \"description\": \"\"\n      }\n    },\n    {\n      \"column\": \"resistance\",\n      \"properties\": {\n        \"dtype\": \"number\",\n        \"std\": 13,\n        \"min\": 5,\n        \"max\": 95,\n        \"num_unique_values\": 82,\n        \"samples\": [\n          66,\n          59\n        ],\n        \"semantic_type\": \"\",\n        \"description\": \"\"\n      }\n    },\n    {\n      \"column\": \"inr_income\",\n      \"properties\": {\n        \"dtype\": \"number\",\n        \"std\": 1887,\n        \"min\": 3010,\n        \"max\": 14690,\n        \"num_unique_values\": 702,\n        \"samples\": [\n          8710,\n          9870\n        ],\n        \"semantic_type\": \"\",\n        \"description\": \"\"\n      }\n    }\n  ]\n}"
            }
          },
          "metadata": {},
          "execution_count": 63
        }
      ]
    },
    {
      "cell_type": "code",
      "source": [
        "# Encoding the Categorical values into numerical using sckit-learn(note: padas was generating error) till here 2 columns 'net' and 'eligible' was encoded\n",
        "from sklearn.preprocessing import LabelEncoder\n",
        "label_encoder = LabelEncoder()\n",
        "df['eligible_encoded'] = label_encoder.fit_transform(df['eligible'])\n",
        "df['net_encoded'] = label_encoder.fit_transform(df['net'])\n",
        "df"
      ],
      "metadata": {
        "colab": {
          "base_uri": "https://localhost:8080/",
          "height": 443
        },
        "id": "Qv04mfqoAA8D",
        "outputId": "268ccfed-d649-4459-c7e1-bb063bf55dac"
      },
      "execution_count": null,
      "outputs": [
        {
          "output_type": "execute_result",
          "data": {
            "text/plain": [
              "        id    net  net_num  dengue_risk  income  health  household  eligible  \\\n",
              "0        1   True        1           33     781      56          2     False   \n",
              "1        2  False        0           42     974      57          4     False   \n",
              "2        3  False        0           80     502      15          3     False   \n",
              "3        4   True        1           34     671      20          5      True   \n",
              "4        5  False        0           44     728      17          5     False   \n",
              "...    ...    ...      ...          ...     ...     ...        ...       ...   \n",
              "1747  1748   True        1           18     961      27          4     False   \n",
              "1748  1749  False        0           49     906      49          5     False   \n",
              "1749  1750  False        0           17    1325      92          2     False   \n",
              "1750  1751  False        0           46     879      33          6     False   \n",
              "1751  1752   True        1           13    1339      77          4     False   \n",
              "\n",
              "      temperature  resistance  inr_income  eligible_encoded  net_encoded  \n",
              "0            21.1          59        7810                 0            1  \n",
              "1            26.5          73        9740                 0            0  \n",
              "2            25.6          65        5020                 0            0  \n",
              "3            21.3          46        6710                 1            1  \n",
              "4            19.2          54        7280                 0            0  \n",
              "...           ...         ...         ...               ...          ...  \n",
              "1747         22.1          27        9610                 0            1  \n",
              "1748         30.7          55        9060                 0            0  \n",
              "1749         21.4          52       13250                 0            0  \n",
              "1750         27.4          62        8790                 0            0  \n",
              "1751         27.7          44       13390                 0            1  \n",
              "\n",
              "[1752 rows x 13 columns]"
            ],
            "text/html": [
              "\n",
              "  <div id=\"df-51667010-c319-4bf9-9669-a55b5a9d6ac5\" class=\"colab-df-container\">\n",
              "    <div>\n",
              "<style scoped>\n",
              "    .dataframe tbody tr th:only-of-type {\n",
              "        vertical-align: middle;\n",
              "    }\n",
              "\n",
              "    .dataframe tbody tr th {\n",
              "        vertical-align: top;\n",
              "    }\n",
              "\n",
              "    .dataframe thead th {\n",
              "        text-align: right;\n",
              "    }\n",
              "</style>\n",
              "<table border=\"1\" class=\"dataframe\">\n",
              "  <thead>\n",
              "    <tr style=\"text-align: right;\">\n",
              "      <th></th>\n",
              "      <th>id</th>\n",
              "      <th>net</th>\n",
              "      <th>net_num</th>\n",
              "      <th>dengue_risk</th>\n",
              "      <th>income</th>\n",
              "      <th>health</th>\n",
              "      <th>household</th>\n",
              "      <th>eligible</th>\n",
              "      <th>temperature</th>\n",
              "      <th>resistance</th>\n",
              "      <th>inr_income</th>\n",
              "      <th>eligible_encoded</th>\n",
              "      <th>net_encoded</th>\n",
              "    </tr>\n",
              "  </thead>\n",
              "  <tbody>\n",
              "    <tr>\n",
              "      <th>0</th>\n",
              "      <td>1</td>\n",
              "      <td>True</td>\n",
              "      <td>1</td>\n",
              "      <td>33</td>\n",
              "      <td>781</td>\n",
              "      <td>56</td>\n",
              "      <td>2</td>\n",
              "      <td>False</td>\n",
              "      <td>21.1</td>\n",
              "      <td>59</td>\n",
              "      <td>7810</td>\n",
              "      <td>0</td>\n",
              "      <td>1</td>\n",
              "    </tr>\n",
              "    <tr>\n",
              "      <th>1</th>\n",
              "      <td>2</td>\n",
              "      <td>False</td>\n",
              "      <td>0</td>\n",
              "      <td>42</td>\n",
              "      <td>974</td>\n",
              "      <td>57</td>\n",
              "      <td>4</td>\n",
              "      <td>False</td>\n",
              "      <td>26.5</td>\n",
              "      <td>73</td>\n",
              "      <td>9740</td>\n",
              "      <td>0</td>\n",
              "      <td>0</td>\n",
              "    </tr>\n",
              "    <tr>\n",
              "      <th>2</th>\n",
              "      <td>3</td>\n",
              "      <td>False</td>\n",
              "      <td>0</td>\n",
              "      <td>80</td>\n",
              "      <td>502</td>\n",
              "      <td>15</td>\n",
              "      <td>3</td>\n",
              "      <td>False</td>\n",
              "      <td>25.6</td>\n",
              "      <td>65</td>\n",
              "      <td>5020</td>\n",
              "      <td>0</td>\n",
              "      <td>0</td>\n",
              "    </tr>\n",
              "    <tr>\n",
              "      <th>3</th>\n",
              "      <td>4</td>\n",
              "      <td>True</td>\n",
              "      <td>1</td>\n",
              "      <td>34</td>\n",
              "      <td>671</td>\n",
              "      <td>20</td>\n",
              "      <td>5</td>\n",
              "      <td>True</td>\n",
              "      <td>21.3</td>\n",
              "      <td>46</td>\n",
              "      <td>6710</td>\n",
              "      <td>1</td>\n",
              "      <td>1</td>\n",
              "    </tr>\n",
              "    <tr>\n",
              "      <th>4</th>\n",
              "      <td>5</td>\n",
              "      <td>False</td>\n",
              "      <td>0</td>\n",
              "      <td>44</td>\n",
              "      <td>728</td>\n",
              "      <td>17</td>\n",
              "      <td>5</td>\n",
              "      <td>False</td>\n",
              "      <td>19.2</td>\n",
              "      <td>54</td>\n",
              "      <td>7280</td>\n",
              "      <td>0</td>\n",
              "      <td>0</td>\n",
              "    </tr>\n",
              "    <tr>\n",
              "      <th>...</th>\n",
              "      <td>...</td>\n",
              "      <td>...</td>\n",
              "      <td>...</td>\n",
              "      <td>...</td>\n",
              "      <td>...</td>\n",
              "      <td>...</td>\n",
              "      <td>...</td>\n",
              "      <td>...</td>\n",
              "      <td>...</td>\n",
              "      <td>...</td>\n",
              "      <td>...</td>\n",
              "      <td>...</td>\n",
              "      <td>...</td>\n",
              "    </tr>\n",
              "    <tr>\n",
              "      <th>1747</th>\n",
              "      <td>1748</td>\n",
              "      <td>True</td>\n",
              "      <td>1</td>\n",
              "      <td>18</td>\n",
              "      <td>961</td>\n",
              "      <td>27</td>\n",
              "      <td>4</td>\n",
              "      <td>False</td>\n",
              "      <td>22.1</td>\n",
              "      <td>27</td>\n",
              "      <td>9610</td>\n",
              "      <td>0</td>\n",
              "      <td>1</td>\n",
              "    </tr>\n",
              "    <tr>\n",
              "      <th>1748</th>\n",
              "      <td>1749</td>\n",
              "      <td>False</td>\n",
              "      <td>0</td>\n",
              "      <td>49</td>\n",
              "      <td>906</td>\n",
              "      <td>49</td>\n",
              "      <td>5</td>\n",
              "      <td>False</td>\n",
              "      <td>30.7</td>\n",
              "      <td>55</td>\n",
              "      <td>9060</td>\n",
              "      <td>0</td>\n",
              "      <td>0</td>\n",
              "    </tr>\n",
              "    <tr>\n",
              "      <th>1749</th>\n",
              "      <td>1750</td>\n",
              "      <td>False</td>\n",
              "      <td>0</td>\n",
              "      <td>17</td>\n",
              "      <td>1325</td>\n",
              "      <td>92</td>\n",
              "      <td>2</td>\n",
              "      <td>False</td>\n",
              "      <td>21.4</td>\n",
              "      <td>52</td>\n",
              "      <td>13250</td>\n",
              "      <td>0</td>\n",
              "      <td>0</td>\n",
              "    </tr>\n",
              "    <tr>\n",
              "      <th>1750</th>\n",
              "      <td>1751</td>\n",
              "      <td>False</td>\n",
              "      <td>0</td>\n",
              "      <td>46</td>\n",
              "      <td>879</td>\n",
              "      <td>33</td>\n",
              "      <td>6</td>\n",
              "      <td>False</td>\n",
              "      <td>27.4</td>\n",
              "      <td>62</td>\n",
              "      <td>8790</td>\n",
              "      <td>0</td>\n",
              "      <td>0</td>\n",
              "    </tr>\n",
              "    <tr>\n",
              "      <th>1751</th>\n",
              "      <td>1752</td>\n",
              "      <td>True</td>\n",
              "      <td>1</td>\n",
              "      <td>13</td>\n",
              "      <td>1339</td>\n",
              "      <td>77</td>\n",
              "      <td>4</td>\n",
              "      <td>False</td>\n",
              "      <td>27.7</td>\n",
              "      <td>44</td>\n",
              "      <td>13390</td>\n",
              "      <td>0</td>\n",
              "      <td>1</td>\n",
              "    </tr>\n",
              "  </tbody>\n",
              "</table>\n",
              "<p>1752 rows × 13 columns</p>\n",
              "</div>\n",
              "    <div class=\"colab-df-buttons\">\n",
              "\n",
              "  <div class=\"colab-df-container\">\n",
              "    <button class=\"colab-df-convert\" onclick=\"convertToInteractive('df-51667010-c319-4bf9-9669-a55b5a9d6ac5')\"\n",
              "            title=\"Convert this dataframe to an interactive table.\"\n",
              "            style=\"display:none;\">\n",
              "\n",
              "  <svg xmlns=\"http://www.w3.org/2000/svg\" height=\"24px\" viewBox=\"0 -960 960 960\">\n",
              "    <path d=\"M120-120v-720h720v720H120Zm60-500h600v-160H180v160Zm220 220h160v-160H400v160Zm0 220h160v-160H400v160ZM180-400h160v-160H180v160Zm440 0h160v-160H620v160ZM180-180h160v-160H180v160Zm440 0h160v-160H620v160Z\"/>\n",
              "  </svg>\n",
              "    </button>\n",
              "\n",
              "  <style>\n",
              "    .colab-df-container {\n",
              "      display:flex;\n",
              "      gap: 12px;\n",
              "    }\n",
              "\n",
              "    .colab-df-convert {\n",
              "      background-color: #E8F0FE;\n",
              "      border: none;\n",
              "      border-radius: 50%;\n",
              "      cursor: pointer;\n",
              "      display: none;\n",
              "      fill: #1967D2;\n",
              "      height: 32px;\n",
              "      padding: 0 0 0 0;\n",
              "      width: 32px;\n",
              "    }\n",
              "\n",
              "    .colab-df-convert:hover {\n",
              "      background-color: #E2EBFA;\n",
              "      box-shadow: 0px 1px 2px rgba(60, 64, 67, 0.3), 0px 1px 3px 1px rgba(60, 64, 67, 0.15);\n",
              "      fill: #174EA6;\n",
              "    }\n",
              "\n",
              "    .colab-df-buttons div {\n",
              "      margin-bottom: 4px;\n",
              "    }\n",
              "\n",
              "    [theme=dark] .colab-df-convert {\n",
              "      background-color: #3B4455;\n",
              "      fill: #D2E3FC;\n",
              "    }\n",
              "\n",
              "    [theme=dark] .colab-df-convert:hover {\n",
              "      background-color: #434B5C;\n",
              "      box-shadow: 0px 1px 3px 1px rgba(0, 0, 0, 0.15);\n",
              "      filter: drop-shadow(0px 1px 2px rgba(0, 0, 0, 0.3));\n",
              "      fill: #FFFFFF;\n",
              "    }\n",
              "  </style>\n",
              "\n",
              "    <script>\n",
              "      const buttonEl =\n",
              "        document.querySelector('#df-51667010-c319-4bf9-9669-a55b5a9d6ac5 button.colab-df-convert');\n",
              "      buttonEl.style.display =\n",
              "        google.colab.kernel.accessAllowed ? 'block' : 'none';\n",
              "\n",
              "      async function convertToInteractive(key) {\n",
              "        const element = document.querySelector('#df-51667010-c319-4bf9-9669-a55b5a9d6ac5');\n",
              "        const dataTable =\n",
              "          await google.colab.kernel.invokeFunction('convertToInteractive',\n",
              "                                                    [key], {});\n",
              "        if (!dataTable) return;\n",
              "\n",
              "        const docLinkHtml = 'Like what you see? Visit the ' +\n",
              "          '<a target=\"_blank\" href=https://colab.research.google.com/notebooks/data_table.ipynb>data table notebook</a>'\n",
              "          + ' to learn more about interactive tables.';\n",
              "        element.innerHTML = '';\n",
              "        dataTable['output_type'] = 'display_data';\n",
              "        await google.colab.output.renderOutput(dataTable, element);\n",
              "        const docLink = document.createElement('div');\n",
              "        docLink.innerHTML = docLinkHtml;\n",
              "        element.appendChild(docLink);\n",
              "      }\n",
              "    </script>\n",
              "  </div>\n",
              "\n",
              "\n",
              "<div id=\"df-346a71b7-28be-47fd-87b5-159a8d775659\">\n",
              "  <button class=\"colab-df-quickchart\" onclick=\"quickchart('df-346a71b7-28be-47fd-87b5-159a8d775659')\"\n",
              "            title=\"Suggest charts\"\n",
              "            style=\"display:none;\">\n",
              "\n",
              "<svg xmlns=\"http://www.w3.org/2000/svg\" height=\"24px\"viewBox=\"0 0 24 24\"\n",
              "     width=\"24px\">\n",
              "    <g>\n",
              "        <path d=\"M19 3H5c-1.1 0-2 .9-2 2v14c0 1.1.9 2 2 2h14c1.1 0 2-.9 2-2V5c0-1.1-.9-2-2-2zM9 17H7v-7h2v7zm4 0h-2V7h2v10zm4 0h-2v-4h2v4z\"/>\n",
              "    </g>\n",
              "</svg>\n",
              "  </button>\n",
              "\n",
              "<style>\n",
              "  .colab-df-quickchart {\n",
              "      --bg-color: #E8F0FE;\n",
              "      --fill-color: #1967D2;\n",
              "      --hover-bg-color: #E2EBFA;\n",
              "      --hover-fill-color: #174EA6;\n",
              "      --disabled-fill-color: #AAA;\n",
              "      --disabled-bg-color: #DDD;\n",
              "  }\n",
              "\n",
              "  [theme=dark] .colab-df-quickchart {\n",
              "      --bg-color: #3B4455;\n",
              "      --fill-color: #D2E3FC;\n",
              "      --hover-bg-color: #434B5C;\n",
              "      --hover-fill-color: #FFFFFF;\n",
              "      --disabled-bg-color: #3B4455;\n",
              "      --disabled-fill-color: #666;\n",
              "  }\n",
              "\n",
              "  .colab-df-quickchart {\n",
              "    background-color: var(--bg-color);\n",
              "    border: none;\n",
              "    border-radius: 50%;\n",
              "    cursor: pointer;\n",
              "    display: none;\n",
              "    fill: var(--fill-color);\n",
              "    height: 32px;\n",
              "    padding: 0;\n",
              "    width: 32px;\n",
              "  }\n",
              "\n",
              "  .colab-df-quickchart:hover {\n",
              "    background-color: var(--hover-bg-color);\n",
              "    box-shadow: 0 1px 2px rgba(60, 64, 67, 0.3), 0 1px 3px 1px rgba(60, 64, 67, 0.15);\n",
              "    fill: var(--button-hover-fill-color);\n",
              "  }\n",
              "\n",
              "  .colab-df-quickchart-complete:disabled,\n",
              "  .colab-df-quickchart-complete:disabled:hover {\n",
              "    background-color: var(--disabled-bg-color);\n",
              "    fill: var(--disabled-fill-color);\n",
              "    box-shadow: none;\n",
              "  }\n",
              "\n",
              "  .colab-df-spinner {\n",
              "    border: 2px solid var(--fill-color);\n",
              "    border-color: transparent;\n",
              "    border-bottom-color: var(--fill-color);\n",
              "    animation:\n",
              "      spin 1s steps(1) infinite;\n",
              "  }\n",
              "\n",
              "  @keyframes spin {\n",
              "    0% {\n",
              "      border-color: transparent;\n",
              "      border-bottom-color: var(--fill-color);\n",
              "      border-left-color: var(--fill-color);\n",
              "    }\n",
              "    20% {\n",
              "      border-color: transparent;\n",
              "      border-left-color: var(--fill-color);\n",
              "      border-top-color: var(--fill-color);\n",
              "    }\n",
              "    30% {\n",
              "      border-color: transparent;\n",
              "      border-left-color: var(--fill-color);\n",
              "      border-top-color: var(--fill-color);\n",
              "      border-right-color: var(--fill-color);\n",
              "    }\n",
              "    40% {\n",
              "      border-color: transparent;\n",
              "      border-right-color: var(--fill-color);\n",
              "      border-top-color: var(--fill-color);\n",
              "    }\n",
              "    60% {\n",
              "      border-color: transparent;\n",
              "      border-right-color: var(--fill-color);\n",
              "    }\n",
              "    80% {\n",
              "      border-color: transparent;\n",
              "      border-right-color: var(--fill-color);\n",
              "      border-bottom-color: var(--fill-color);\n",
              "    }\n",
              "    90% {\n",
              "      border-color: transparent;\n",
              "      border-bottom-color: var(--fill-color);\n",
              "    }\n",
              "  }\n",
              "</style>\n",
              "\n",
              "  <script>\n",
              "    async function quickchart(key) {\n",
              "      const quickchartButtonEl =\n",
              "        document.querySelector('#' + key + ' button');\n",
              "      quickchartButtonEl.disabled = true;  // To prevent multiple clicks.\n",
              "      quickchartButtonEl.classList.add('colab-df-spinner');\n",
              "      try {\n",
              "        const charts = await google.colab.kernel.invokeFunction(\n",
              "            'suggestCharts', [key], {});\n",
              "      } catch (error) {\n",
              "        console.error('Error during call to suggestCharts:', error);\n",
              "      }\n",
              "      quickchartButtonEl.classList.remove('colab-df-spinner');\n",
              "      quickchartButtonEl.classList.add('colab-df-quickchart-complete');\n",
              "    }\n",
              "    (() => {\n",
              "      let quickchartButtonEl =\n",
              "        document.querySelector('#df-346a71b7-28be-47fd-87b5-159a8d775659 button');\n",
              "      quickchartButtonEl.style.display =\n",
              "        google.colab.kernel.accessAllowed ? 'block' : 'none';\n",
              "    })();\n",
              "  </script>\n",
              "</div>\n",
              "\n",
              "  <div id=\"id_a5868bcb-63b8-470c-94df-756b5ca1340f\">\n",
              "    <style>\n",
              "      .colab-df-generate {\n",
              "        background-color: #E8F0FE;\n",
              "        border: none;\n",
              "        border-radius: 50%;\n",
              "        cursor: pointer;\n",
              "        display: none;\n",
              "        fill: #1967D2;\n",
              "        height: 32px;\n",
              "        padding: 0 0 0 0;\n",
              "        width: 32px;\n",
              "      }\n",
              "\n",
              "      .colab-df-generate:hover {\n",
              "        background-color: #E2EBFA;\n",
              "        box-shadow: 0px 1px 2px rgba(60, 64, 67, 0.3), 0px 1px 3px 1px rgba(60, 64, 67, 0.15);\n",
              "        fill: #174EA6;\n",
              "      }\n",
              "\n",
              "      [theme=dark] .colab-df-generate {\n",
              "        background-color: #3B4455;\n",
              "        fill: #D2E3FC;\n",
              "      }\n",
              "\n",
              "      [theme=dark] .colab-df-generate:hover {\n",
              "        background-color: #434B5C;\n",
              "        box-shadow: 0px 1px 3px 1px rgba(0, 0, 0, 0.15);\n",
              "        filter: drop-shadow(0px 1px 2px rgba(0, 0, 0, 0.3));\n",
              "        fill: #FFFFFF;\n",
              "      }\n",
              "    </style>\n",
              "    <button class=\"colab-df-generate\" onclick=\"generateWithVariable('df')\"\n",
              "            title=\"Generate code using this dataframe.\"\n",
              "            style=\"display:none;\">\n",
              "\n",
              "  <svg xmlns=\"http://www.w3.org/2000/svg\" height=\"24px\"viewBox=\"0 0 24 24\"\n",
              "       width=\"24px\">\n",
              "    <path d=\"M7,19H8.4L18.45,9,17,7.55,7,17.6ZM5,21V16.75L18.45,3.32a2,2,0,0,1,2.83,0l1.4,1.43a1.91,1.91,0,0,1,.58,1.4,1.91,1.91,0,0,1-.58,1.4L9.25,21ZM18.45,9,17,7.55Zm-12,3A5.31,5.31,0,0,0,4.9,8.1,5.31,5.31,0,0,0,1,6.5,5.31,5.31,0,0,0,4.9,4.9,5.31,5.31,0,0,0,6.5,1,5.31,5.31,0,0,0,8.1,4.9,5.31,5.31,0,0,0,12,6.5,5.46,5.46,0,0,0,6.5,12Z\"/>\n",
              "  </svg>\n",
              "    </button>\n",
              "    <script>\n",
              "      (() => {\n",
              "      const buttonEl =\n",
              "        document.querySelector('#id_a5868bcb-63b8-470c-94df-756b5ca1340f button.colab-df-generate');\n",
              "      buttonEl.style.display =\n",
              "        google.colab.kernel.accessAllowed ? 'block' : 'none';\n",
              "\n",
              "      buttonEl.onclick = () => {\n",
              "        google.colab.notebook.generateWithVariable('df');\n",
              "      }\n",
              "      })();\n",
              "    </script>\n",
              "  </div>\n",
              "\n",
              "    </div>\n",
              "  </div>\n"
            ],
            "application/vnd.google.colaboratory.intrinsic+json": {
              "type": "dataframe",
              "variable_name": "df",
              "summary": "{\n  \"name\": \"df\",\n  \"rows\": 1752,\n  \"fields\": [\n    {\n      \"column\": \"id\",\n      \"properties\": {\n        \"dtype\": \"number\",\n        \"std\": 505,\n        \"min\": 1,\n        \"max\": 1752,\n        \"num_unique_values\": 1752,\n        \"samples\": [\n          323,\n          409,\n          406\n        ],\n        \"semantic_type\": \"\",\n        \"description\": \"\"\n      }\n    },\n    {\n      \"column\": \"net\",\n      \"properties\": {\n        \"dtype\": \"boolean\",\n        \"num_unique_values\": 2,\n        \"samples\": [\n          false,\n          true\n        ],\n        \"semantic_type\": \"\",\n        \"description\": \"\"\n      }\n    },\n    {\n      \"column\": \"net_num\",\n      \"properties\": {\n        \"dtype\": \"number\",\n        \"std\": 0,\n        \"min\": 0,\n        \"max\": 1,\n        \"num_unique_values\": 2,\n        \"samples\": [\n          0,\n          1\n        ],\n        \"semantic_type\": \"\",\n        \"description\": \"\"\n      }\n    },\n    {\n      \"column\": \"dengue_risk\",\n      \"properties\": {\n        \"dtype\": \"number\",\n        \"std\": 15,\n        \"min\": 10,\n        \"max\": 90,\n        \"num_unique_values\": 77,\n        \"samples\": [\n          44,\n          49\n        ],\n        \"semantic_type\": \"\",\n        \"description\": \"\"\n      }\n    },\n    {\n      \"column\": \"income\",\n      \"properties\": {\n        \"dtype\": \"number\",\n        \"std\": 188,\n        \"min\": 301,\n        \"max\": 1469,\n        \"num_unique_values\": 702,\n        \"samples\": [\n          871,\n          987\n        ],\n        \"semantic_type\": \"\",\n        \"description\": \"\"\n      }\n    },\n    {\n      \"column\": \"health\",\n      \"properties\": {\n        \"dtype\": \"number\",\n        \"std\": 18,\n        \"min\": 5,\n        \"max\": 100,\n        \"num_unique_values\": 96,\n        \"samples\": [\n          38,\n          74\n        ],\n        \"semantic_type\": \"\",\n        \"description\": \"\"\n      }\n    },\n    {\n      \"column\": \"household\",\n      \"properties\": {\n        \"dtype\": \"number\",\n        \"std\": 1,\n        \"min\": 1,\n        \"max\": 9,\n        \"num_unique_values\": 9,\n        \"samples\": [\n          9,\n          4\n        ],\n        \"semantic_type\": \"\",\n        \"description\": \"\"\n      }\n    },\n    {\n      \"column\": \"eligible\",\n      \"properties\": {\n        \"dtype\": \"boolean\",\n        \"num_unique_values\": 2,\n        \"samples\": [\n          true,\n          false\n        ],\n        \"semantic_type\": \"\",\n        \"description\": \"\"\n      }\n    },\n    {\n      \"column\": \"temperature\",\n      \"properties\": {\n        \"dtype\": \"number\",\n        \"std\": 4.107322239498044,\n        \"min\": 15.6,\n        \"max\": 32.2,\n        \"num_unique_values\": 167,\n        \"samples\": [\n          23.7,\n          16.9\n        ],\n        \"semantic_type\": \"\",\n        \"description\": \"\"\n      }\n    },\n    {\n      \"column\": \"resistance\",\n      \"properties\": {\n        \"dtype\": \"number\",\n        \"std\": 13,\n        \"min\": 5,\n        \"max\": 95,\n        \"num_unique_values\": 82,\n        \"samples\": [\n          66,\n          59\n        ],\n        \"semantic_type\": \"\",\n        \"description\": \"\"\n      }\n    },\n    {\n      \"column\": \"inr_income\",\n      \"properties\": {\n        \"dtype\": \"number\",\n        \"std\": 1887,\n        \"min\": 3010,\n        \"max\": 14690,\n        \"num_unique_values\": 702,\n        \"samples\": [\n          8710,\n          9870\n        ],\n        \"semantic_type\": \"\",\n        \"description\": \"\"\n      }\n    },\n    {\n      \"column\": \"eligible_encoded\",\n      \"properties\": {\n        \"dtype\": \"number\",\n        \"std\": 0,\n        \"min\": 0,\n        \"max\": 1,\n        \"num_unique_values\": 2,\n        \"samples\": [\n          1,\n          0\n        ],\n        \"semantic_type\": \"\",\n        \"description\": \"\"\n      }\n    },\n    {\n      \"column\": \"net_encoded\",\n      \"properties\": {\n        \"dtype\": \"number\",\n        \"std\": 0,\n        \"min\": 0,\n        \"max\": 1,\n        \"num_unique_values\": 2,\n        \"samples\": [\n          0,\n          1\n        ],\n        \"semantic_type\": \"\",\n        \"description\": \"\"\n      }\n    }\n  ]\n}"
            }
          },
          "metadata": {},
          "execution_count": 64
        }
      ]
    },
    {
      "cell_type": "markdown",
      "source": [
        "NAIVE MODEL\n",
        "\n",
        "---\n",
        "\n",
        "\n",
        "Building a naive model to test the baseline relationship between net-usage(net_encoded) and Dengu risk(dengue_risk)\n"
      ],
      "metadata": {
        "id": "PNpl0cIlAXf_"
      }
    },
    {
      "cell_type": "code",
      "source": [
        "#Naive model using net usage\n",
        "reg_nive_model = 'dengue_risk~net_encoded'\n",
        "reg_nive_output= smf.ols(reg_nive_model,df).fit()\n",
        "print(reg_nive_output.summary())"
      ],
      "metadata": {
        "colab": {
          "base_uri": "https://localhost:8080/"
        },
        "id": "zzJC6NMWALOB",
        "outputId": "f9fd4ade-87cd-46b9-ecd2-41a0f17870ea"
      },
      "execution_count": null,
      "outputs": [
        {
          "output_type": "stream",
          "name": "stdout",
          "text": [
            "                            OLS Regression Results                            \n",
            "==============================================================================\n",
            "Dep. Variable:            dengue_risk   R-squared:                       0.265\n",
            "Model:                            OLS   Adj. R-squared:                  0.265\n",
            "Method:                 Least Squares   F-statistic:                     632.3\n",
            "Date:                Sun, 31 Mar 2024   Prob (F-statistic):          2.25e-119\n",
            "Time:                        21:36:21   Log-Likelihood:                -7012.3\n",
            "No. Observations:                1752   AIC:                         1.403e+04\n",
            "Df Residuals:                    1750   BIC:                         1.404e+04\n",
            "Df Model:                           1                                         \n",
            "Covariance Type:            nonrobust                                         \n",
            "===============================================================================\n",
            "                  coef    std err          t      P>|t|      [0.025      0.975]\n",
            "-------------------------------------------------------------------------------\n",
            "Intercept      41.9365      0.405    103.568      0.000      41.142      42.731\n",
            "net_encoded   -16.3315      0.649    -25.146      0.000     -17.605     -15.058\n",
            "==============================================================================\n",
            "Omnibus:                      153.917   Durbin-Watson:                   1.974\n",
            "Prob(Omnibus):                  0.000   Jarque-Bera (JB):              194.234\n",
            "Skew:                           0.787   Prob(JB):                     6.65e-43\n",
            "Kurtosis:                       3.431   Cond. No.                         2.44\n",
            "==============================================================================\n",
            "\n",
            "Notes:\n",
            "[1] Standard Errors assume that the covariance matrix of the errors is correctly specified.\n"
          ]
        }
      ]
    },
    {
      "cell_type": "markdown",
      "source": [
        "Building a naive model to test relationship between Net Number(net_num) and Dengu risk(dengu_risk)"
      ],
      "metadata": {
        "id": "NP_m46m_4Efs"
      }
    },
    {
      "cell_type": "code",
      "source": [
        "#naive model using net number\n",
        "reg_nive_model_net_num = 'dengue_risk~net_num'\n",
        "reg_nive_net_num_output= smf.ols(reg_nive_model_net_num,df).fit()\n",
        "print(reg_nive_net_num_output.summary())"
      ],
      "metadata": {
        "colab": {
          "base_uri": "https://localhost:8080/"
        },
        "outputId": "ad71cfde-5acb-42d8-b752-196d07983de6",
        "id": "lHQsDskgtedj"
      },
      "execution_count": null,
      "outputs": [
        {
          "output_type": "stream",
          "name": "stdout",
          "text": [
            "                            OLS Regression Results                            \n",
            "==============================================================================\n",
            "Dep. Variable:            dengue_risk   R-squared:                       0.265\n",
            "Model:                            OLS   Adj. R-squared:                  0.265\n",
            "Method:                 Least Squares   F-statistic:                     632.3\n",
            "Date:                Sun, 31 Mar 2024   Prob (F-statistic):          2.25e-119\n",
            "Time:                        21:36:21   Log-Likelihood:                -7012.3\n",
            "No. Observations:                1752   AIC:                         1.403e+04\n",
            "Df Residuals:                    1750   BIC:                         1.404e+04\n",
            "Df Model:                           1                                         \n",
            "Covariance Type:            nonrobust                                         \n",
            "==============================================================================\n",
            "                 coef    std err          t      P>|t|      [0.025      0.975]\n",
            "------------------------------------------------------------------------------\n",
            "Intercept     41.9365      0.405    103.568      0.000      41.142      42.731\n",
            "net_num      -16.3315      0.649    -25.146      0.000     -17.605     -15.058\n",
            "==============================================================================\n",
            "Omnibus:                      153.917   Durbin-Watson:                   1.974\n",
            "Prob(Omnibus):                  0.000   Jarque-Bera (JB):              194.234\n",
            "Skew:                           0.787   Prob(JB):                     6.65e-43\n",
            "Kurtosis:                       3.431   Cond. No.                         2.44\n",
            "==============================================================================\n",
            "\n",
            "Notes:\n",
            "[1] Standard Errors assume that the covariance matrix of the errors is correctly specified.\n"
          ]
        }
      ]
    },
    {
      "cell_type": "markdown",
      "source": [
        "# Drawing DAG using R"
      ],
      "metadata": {
        "id": "uaqaFIvnvF9U"
      }
    },
    {
      "cell_type": "markdown",
      "source": [
        "### Importing rpy2 package to run R codes in Python Environment"
      ],
      "metadata": {
        "id": "xfLZ-cBy7KND"
      }
    },
    {
      "cell_type": "code",
      "source": [
        "\n",
        "import rpy2.robjects as ro\n",
        "from rpy2.robjects.packages import importr\n",
        "from rpy2.robjects import pandas2ri\n",
        "from rpy2.robjects.conversion import localconverter\n",
        "from rpy2.robjects import globalenv"
      ],
      "metadata": {
        "id": "T4lP0h-_aJI7"
      },
      "execution_count": null,
      "outputs": []
    },
    {
      "cell_type": "markdown",
      "source": [
        "### Installing necessary  R Packages"
      ],
      "metadata": {
        "id": "mrnb5g4QnWGN"
      }
    },
    {
      "cell_type": "code",
      "source": [
        "utils = importr('utils')\n",
        "utils.chooseCRANmirror(ind=1)\n",
        "utils.install_packages('dagitty')\n",
        "utils.install_packages('ggdag')\n",
        "utils.install_packages(\"tidyverse\")\n",
        "utils.install_packages(\"MatchIt\")\n",
        "utils.install_packages(\"broom\")\n",
        "utils.install_packages('jtools')\n",
        "utils.install_packages('huxtable')"
      ],
      "metadata": {
        "id": "4MHregA9wbEq"
      },
      "execution_count": null,
      "outputs": []
    },
    {
      "cell_type": "code",
      "source": [
        "%%R\n",
        "library(tidyverse)\n",
        "library(ggdag)\n",
        "library(broom)\n",
        "library(MatchIt)\n",
        "library(dagitty)"
      ],
      "metadata": {
        "id": "vQfLJNRn26Sj"
      },
      "execution_count": null,
      "outputs": []
    },
    {
      "cell_type": "markdown",
      "source": [
        "### DAG Diagram"
      ],
      "metadata": {
        "id": "anoAmzNw7bSI"
      }
    },
    {
      "cell_type": "code",
      "source": [
        "%%R\n",
        "set.seed(1234)\n",
        "library(ggdag)\n",
        "\n",
        "mosquito_dag <- dagify(\n",
        "  dengue_risk ~ net_usage + income + health + insect_resistance + night_time_temp,\n",
        "  net_usage ~ income + eligibility + health + night_time_temp,\n",
        "  health ~ income,\n",
        "  net_num ~ income + household ,\n",
        "  eligibility ~ income + household,\n",
        "  exposure = \"net_usage\",\n",
        "  outcome = \"dengue_risk\",\n",
        "  coords = list(\n",
        "    x = c(dengue_risk = 5.2, eligibility = 0, net_usage = 2.1, income = 2.7,\n",
        "          health = 6.6, insect_resistance = 7, night_time_temp = 4.8, net_num = -1.4, household = 1 ),\n",
        "    y = c(dengue_risk = 3.5, net_usage = 3.6, income = 1.1,health = 1.6, eligibility = 1.7,\n",
        "          insect_resistance = 4.2, night_time_temp = 4.8, net_num = 3,household = 4.5)),\n",
        "  labels = c(dengue_risk = \"Dengue Risk\", net_num = \"Net Number\", net_usage = \"Net Usage\",\n",
        "             income = \"Income\", health = \"Health\", insect_resistance = \"Insect Resistance\",\n",
        "             night_time_temp = \"Night Time Temperature\", eligibility = \"Eligibility\", household = \"Household\")\n",
        ")\n",
        "\n",
        "ggdag_status(mosquito_dag, use_labels = \"label\", text = FALSE, seed = 1234) +\n",
        "  guides(color = guide_legend(title = NULL)) +\n",
        "  theme_dag() +\n",
        "  theme(legend.position = \"bottom\")\n"
      ],
      "metadata": {
        "colab": {
          "base_uri": "https://localhost:8080/",
          "height": 497
        },
        "id": "PH8-Ezg-wsmM",
        "outputId": "1254f665-f297-4844-e98c-26284c679592"
      },
      "execution_count": null,
      "outputs": [
        {
          "output_type": "display_data",
          "data": {
            "image/png": "[encoded data removed]"
          },
          "metadata": {}
        }
      ]
    },
    {
      "cell_type": "code",
      "source": [
        "%%R\n",
        "##Finding all the testable implications from the DAG\n",
        "impd_cond <-impliedConditionalIndependencies(mosquito_dag)\n",
        "impd_cond"
      ],
      "metadata": {
        "colab": {
          "base_uri": "https://localhost:8080/"
        },
        "id": "JK3rfPCwHsPZ",
        "outputId": "6fa99e8c-f3d4-4b73-88d8-523e09075dd6"
      },
      "execution_count": null,
      "outputs": [
        {
          "output_type": "stream",
          "name": "stdout",
          "text": [
            "dng_ _||_ elgb | hlth, incm, nt_s, ng__\n",
            "dng_ _||_ hshl | elgb, incm\n",
            "dng_ _||_ hshl | hlth, incm, nt_s, ng__\n",
            "dng_ _||_ nt_n | hshl, incm\n",
            "dng_ _||_ nt_n | elgb, incm\n",
            "dng_ _||_ nt_n | hlth, incm, nt_s, ng__\n",
            "elgb _||_ hlth | incm\n",
            "elgb _||_ ins_\n",
            "elgb _||_ nt_n | hshl, incm\n",
            "elgb _||_ ng__\n",
            "hlth _||_ hshl\n",
            "hlth _||_ ins_\n",
            "hlth _||_ nt_n | incm\n",
            "hlth _||_ ng__\n",
            "hshl _||_ incm\n",
            "hshl _||_ ins_\n",
            "hshl _||_ nt_s | elgb, incm\n",
            "hshl _||_ ng__\n",
            "incm _||_ ins_\n",
            "incm _||_ ng__\n",
            "ins_ _||_ nt_n\n",
            "ins_ _||_ nt_s\n",
            "ins_ _||_ ng__\n",
            "nt_n _||_ nt_s | elgb, incm\n",
            "nt_n _||_ nt_s | hshl, incm\n",
            "nt_n _||_ ng__\n"
          ]
        }
      ]
    },
    {
      "cell_type": "code",
      "source": [
        "%%R\n",
        "## Finding all the paths between teatement and outcome\n",
        "paths(mosquito_dag)"
      ],
      "metadata": {
        "colab": {
          "base_uri": "https://localhost:8080/"
        },
        "id": "Tplhx7_F7-OJ",
        "outputId": "e7c8fa9c-80ae-461c-bc90-7ee6645321bd"
      },
      "execution_count": null,
      "outputs": [
        {
          "output_type": "stream",
          "name": "stdout",
          "text": [
            "$paths\n",
            " [1] \"net_usage -> dengue_risk\"                                                           \n",
            " [2] \"net_usage <- eligibility <- household -> net_num <- income -> dengue_risk\"          \n",
            " [3] \"net_usage <- eligibility <- household -> net_num <- income -> health -> dengue_risk\"\n",
            " [4] \"net_usage <- eligibility <- income -> dengue_risk\"                                  \n",
            " [5] \"net_usage <- eligibility <- income -> health -> dengue_risk\"                        \n",
            " [6] \"net_usage <- health -> dengue_risk\"                                                 \n",
            " [7] \"net_usage <- health <- income -> dengue_risk\"                                       \n",
            " [8] \"net_usage <- income -> dengue_risk\"                                                 \n",
            " [9] \"net_usage <- income -> health -> dengue_risk\"                                       \n",
            "[10] \"net_usage <- night_time_temp -> dengue_risk\"                                        \n",
            "\n",
            "$open\n",
            " [1]  TRUE FALSE FALSE  TRUE  TRUE  TRUE  TRUE  TRUE  TRUE  TRUE\n",
            "\n"
          ]
        }
      ]
    },
    {
      "cell_type": "markdown",
      "source": [
        "Minimum Sufficient Adjustment Set"
      ],
      "metadata": {
        "id": "jR3iqobo8i69"
      }
    },
    {
      "cell_type": "code",
      "source": [
        "%%R\n",
        "##Finding the minimum adjustment set\n",
        "adjustmentSets(mosquito_dag)"
      ],
      "metadata": {
        "colab": {
          "base_uri": "https://localhost:8080/"
        },
        "id": "3YhxLIvT7pHL",
        "outputId": "b81fd002-116c-44ad-df00-2777cb7c1f6c"
      },
      "execution_count": null,
      "outputs": [
        {
          "output_type": "stream",
          "name": "stdout",
          "text": [
            "{ health, income, night_time_temp }\n"
          ]
        }
      ]
    },
    {
      "cell_type": "markdown",
      "source": [
        "Visualizing Ajustment Set"
      ],
      "metadata": {
        "id": "in0sFwGTZIJJ"
      }
    },
    {
      "cell_type": "code",
      "source": [
        "%%R\n",
        "##Visualizing Adjustment set\n",
        "ggdag_adjustment_set(mosquito_dag, shadow = TRUE,use_labels = 'label', text = FALSE)+\n",
        "theme_dag()"
      ],
      "metadata": {
        "colab": {
          "base_uri": "https://localhost:8080/",
          "height": 497
        },
        "id": "DxSUpYfFNkX4",
        "outputId": "6e7c5600-45a8-444d-f1e9-9076b1197abb"
      },
      "execution_count": null,
      "outputs": [
        {
          "output_type": "display_data",
          "data": {
            "image/png": "[encoded data removed]"
          },
          "metadata": {}
        }
      ]
    },
    {
      "cell_type": "markdown",
      "source": [
        "Here we see that the counfounders are : Night_Time_Temperature , Health,Income which we need to control while  calculating the impact of net usage on dengue risk"
      ],
      "metadata": {
        "id": "dEPkMhVZ_ivN"
      }
    },
    {
      "cell_type": "markdown",
      "source": [
        "# Multiple Regression"
      ],
      "metadata": {
        "id": "Pyfq2OaC0fW_"
      }
    },
    {
      "cell_type": "markdown",
      "source": [
        "Using Multiple Regression to close the backdoor."
      ],
      "metadata": {
        "id": "n5IiFUK7ZUG6"
      }
    },
    {
      "cell_type": "markdown",
      "source": [
        "<- Controlling for all covariates"
      ],
      "metadata": {
        "id": "R23CSzAjg0mR"
      }
    },
    {
      "cell_type": "code",
      "source": [
        "reg_controll_all_cov ='dengue_risk~net_encoded+health+temperature+inr_income+resistance+household'\n",
        "reg_controll_all_cov_output = smf.ols(reg_controll_all_cov,df).fit()\n",
        "print(reg_controll_all_cov_output.summary())"
      ],
      "metadata": {
        "colab": {
          "base_uri": "https://localhost:8080/"
        },
        "id": "urG3Yv7RgVfS",
        "outputId": "ece016d3-400e-4c20-dafc-e19f9404cf38"
      },
      "execution_count": null,
      "outputs": [
        {
          "output_type": "stream",
          "name": "stdout",
          "text": [
            "                            OLS Regression Results                            \n",
            "==============================================================================\n",
            "Dep. Variable:            dengue_risk   R-squared:                       0.924\n",
            "Model:                            OLS   Adj. R-squared:                  0.923\n",
            "Method:                 Least Squares   F-statistic:                     3517.\n",
            "Date:                Sun, 31 Mar 2024   Prob (F-statistic):               0.00\n",
            "Time:                        21:55:46   Log-Likelihood:                -5029.3\n",
            "No. Observations:                1752   AIC:                         1.007e+04\n",
            "Df Residuals:                    1745   BIC:                         1.011e+04\n",
            "Df Model:                           6                                         \n",
            "Covariance Type:            nonrobust                                         \n",
            "===============================================================================\n",
            "                  coef    std err          t      P>|t|      [0.025      0.975]\n",
            "-------------------------------------------------------------------------------\n",
            "Intercept      65.7150      0.864     76.091      0.000      64.021      67.409\n",
            "net_encoded   -10.4995      0.217    -48.296      0.000     -10.926     -10.073\n",
            "health          0.1491      0.009     17.131      0.000       0.132       0.166\n",
            "temperature     1.0221      0.025     40.459      0.000       0.973       1.072\n",
            "inr_income     -0.0075   8.45e-05    -89.285      0.000      -0.008      -0.007\n",
            "resistance      0.2189      0.007     29.648      0.000       0.204       0.233\n",
            "household      -0.0554      0.073     -0.761      0.447      -0.198       0.087\n",
            "==============================================================================\n",
            "Omnibus:                      184.873   Durbin-Watson:                   2.057\n",
            "Prob(Omnibus):                  0.000   Jarque-Bera (JB):              244.257\n",
            "Skew:                           0.883   Prob(JB):                     9.13e-54\n",
            "Kurtosis:                       3.476   Cond. No.                     7.81e+04\n",
            "==============================================================================\n",
            "\n",
            "Notes:\n",
            "[1] Standard Errors assume that the covariance matrix of the errors is correctly specified.\n",
            "[2] The condition number is large, 7.81e+04. This might indicate that there are\n",
            "strong multicollinearity or other numerical problems.\n"
          ]
        }
      ]
    },
    {
      "cell_type": "markdown",
      "source": [
        "<- controlling for all counfounders : health + temperature + income"
      ],
      "metadata": {
        "id": "2nrtf1ExZgAI"
      }
    },
    {
      "cell_type": "code",
      "source": [
        "reg_controll_all_counf ='dengue_risk~net_encoded+health+temperature+inr_income'\n",
        "reg_controll_all_counf_output = smf.ols(reg_controll_all_counf,df).fit()\n",
        "print(reg_controll_all_counf_output.summary())"
      ],
      "metadata": {
        "colab": {
          "base_uri": "https://localhost:8080/"
        },
        "id": "BH5Go-HpAoKa",
        "outputId": "35aa47e8-d8bb-4234-81eb-fcd918c46e52"
      },
      "execution_count": null,
      "outputs": [
        {
          "output_type": "stream",
          "name": "stdout",
          "text": [
            "                            OLS Regression Results                            \n",
            "==============================================================================\n",
            "Dep. Variable:            dengue_risk   R-squared:                       0.885\n",
            "Model:                            OLS   Adj. R-squared:                  0.885\n",
            "Method:                 Least Squares   F-statistic:                     3366.\n",
            "Date:                Sun, 31 Mar 2024   Prob (F-statistic):               0.00\n",
            "Time:                        21:38:55   Log-Likelihood:                -5386.7\n",
            "No. Observations:                1752   AIC:                         1.078e+04\n",
            "Df Residuals:                    1747   BIC:                         1.081e+04\n",
            "Df Model:                           4                                         \n",
            "Covariance Type:            nonrobust                                         \n",
            "===============================================================================\n",
            "                  coef    std err          t      P>|t|      [0.025      0.975]\n",
            "-------------------------------------------------------------------------------\n",
            "Intercept      76.1599      0.927     82.172      0.000      74.342      77.978\n",
            "net_encoded   -10.4419      0.265    -39.418      0.000     -10.961      -9.922\n",
            "health          0.1484      0.011     13.907      0.000       0.127       0.169\n",
            "temperature     1.0059      0.031     32.496      0.000       0.945       1.067\n",
            "inr_income     -0.0075      0.000    -72.584      0.000      -0.008      -0.007\n",
            "==============================================================================\n",
            "Omnibus:                       60.178   Durbin-Watson:                   2.095\n",
            "Prob(Omnibus):                  0.000   Jarque-Bera (JB):               65.077\n",
            "Skew:                           0.463   Prob(JB):                     7.39e-15\n",
            "Kurtosis:                       2.813   Cond. No.                     6.84e+04\n",
            "==============================================================================\n",
            "\n",
            "Notes:\n",
            "[1] Standard Errors assume that the covariance matrix of the errors is correctly specified.\n",
            "[2] The condition number is large, 6.84e+04. This might indicate that there are\n",
            "strong multicollinearity or other numerical problems.\n"
          ]
        }
      ]
    },
    {
      "cell_type": "markdown",
      "source": [
        "<- controlling for all counfounders + household"
      ],
      "metadata": {
        "id": "VHP_M4CKZ0Gb"
      }
    },
    {
      "cell_type": "code",
      "source": [
        "reg_controll_all2_counf ='dengue_risk~net_encoded+health+temperature+inr_income+household'\n",
        "reg_controll_all2_counf_output= smf.ols(reg_controll_all2_counf,df).fit()\n",
        "print(reg_controll_all2_counf_output.summary())"
      ],
      "metadata": {
        "colab": {
          "base_uri": "https://localhost:8080/"
        },
        "id": "AGJ6_YpvAtnh",
        "outputId": "ba0cba59-ff4f-4df0-c864-cc88e6135049"
      },
      "execution_count": null,
      "outputs": [
        {
          "output_type": "stream",
          "name": "stdout",
          "text": [
            "                            OLS Regression Results                            \n",
            "==============================================================================\n",
            "Dep. Variable:            dengue_risk   R-squared:                       0.885\n",
            "Model:                            OLS   Adj. R-squared:                  0.885\n",
            "Method:                 Least Squares   F-statistic:                     2692.\n",
            "Date:                Sun, 31 Mar 2024   Prob (F-statistic):               0.00\n",
            "Time:                        21:38:55   Log-Likelihood:                -5386.7\n",
            "No. Observations:                1752   AIC:                         1.079e+04\n",
            "Df Residuals:                    1746   BIC:                         1.082e+04\n",
            "Df Model:                           5                                         \n",
            "Covariance Type:            nonrobust                                         \n",
            "===============================================================================\n",
            "                  coef    std err          t      P>|t|      [0.025      0.975]\n",
            "-------------------------------------------------------------------------------\n",
            "Intercept      76.2067      0.966     78.906      0.000      74.313      78.101\n",
            "net_encoded   -10.4370      0.266    -39.163      0.000     -10.960      -9.914\n",
            "health          0.1483      0.011     13.900      0.000       0.127       0.169\n",
            "temperature     1.0058      0.031     32.483      0.000       0.945       1.067\n",
            "inr_income     -0.0075      0.000    -72.563      0.000      -0.008      -0.007\n",
            "household      -0.0155      0.089     -0.173      0.863      -0.191       0.160\n",
            "==============================================================================\n",
            "Omnibus:                       60.116   Durbin-Watson:                   2.095\n",
            "Prob(Omnibus):                  0.000   Jarque-Bera (JB):               65.001\n",
            "Skew:                           0.462   Prob(JB):                     7.68e-15\n",
            "Kurtosis:                       2.813   Cond. No.                     7.13e+04\n",
            "==============================================================================\n",
            "\n",
            "Notes:\n",
            "[1] Standard Errors assume that the covariance matrix of the errors is correctly specified.\n",
            "[2] The condition number is large, 7.13e+04. This might indicate that there are\n",
            "strong multicollinearity or other numerical problems.\n"
          ]
        }
      ]
    },
    {
      "cell_type": "markdown",
      "source": [
        "<- controlling or only income"
      ],
      "metadata": {
        "id": "QWJT6eBIZ_7K"
      }
    },
    {
      "cell_type": "code",
      "source": [
        "reg_controll_inr_incom_counf ='dengue_risk~net_encoded+inr_income'\n",
        "reg_controll_inr_incom_counf_output = smf.ols(reg_controll_inr_incom_counf,df).fit()\n",
        "print(reg_controll_inr_incom_counf_output.summary())"
      ],
      "metadata": {
        "colab": {
          "base_uri": "https://localhost:8080/"
        },
        "id": "GBmxVLCNAyab",
        "outputId": "9b6cbc74-9e6f-4cce-a32c-c30b38672917"
      },
      "execution_count": null,
      "outputs": [
        {
          "output_type": "stream",
          "name": "stdout",
          "text": [
            "                            OLS Regression Results                            \n",
            "==============================================================================\n",
            "Dep. Variable:            dengue_risk   R-squared:                       0.800\n",
            "Model:                            OLS   Adj. R-squared:                  0.799\n",
            "Method:                 Least Squares   F-statistic:                     3487.\n",
            "Date:                Sun, 31 Mar 2024   Prob (F-statistic):               0.00\n",
            "Time:                        21:38:55   Log-Likelihood:                -5874.8\n",
            "No. Observations:                1752   AIC:                         1.176e+04\n",
            "Df Residuals:                    1749   BIC:                         1.177e+04\n",
            "Df Model:                           2                                         \n",
            "Covariance Type:            nonrobust                                         \n",
            "===============================================================================\n",
            "                  coef    std err          t      P>|t|      [0.025      0.975]\n",
            "-------------------------------------------------------------------------------\n",
            "Intercept      95.3943      0.811    117.592      0.000      93.803      96.985\n",
            "net_encoded   -11.2818      0.347    -32.479      0.000     -11.963     -10.601\n",
            "inr_income     -0.0061   8.97e-05    -68.260      0.000      -0.006      -0.006\n",
            "==============================================================================\n",
            "Omnibus:                       31.943   Durbin-Watson:                   2.017\n",
            "Prob(Omnibus):                  0.000   Jarque-Bera (JB):               31.738\n",
            "Skew:                           0.304   Prob(JB):                     1.28e-07\n",
            "Kurtosis:                       2.746   Cond. No.                     4.53e+04\n",
            "==============================================================================\n",
            "\n",
            "Notes:\n",
            "[1] Standard Errors assume that the covariance matrix of the errors is correctly specified.\n",
            "[2] The condition number is large, 4.53e+04. This might indicate that there are\n",
            "strong multicollinearity or other numerical problems.\n"
          ]
        }
      ]
    },
    {
      "cell_type": "markdown",
      "source": [
        "<- controlling for only health"
      ],
      "metadata": {
        "id": "5BoLea_jaEZP"
      }
    },
    {
      "cell_type": "code",
      "source": [
        "reg_controll_health_counf ='dengue_risk~net_encoded+health'\n",
        "reg_controll_health_counf_output = smf.ols(reg_controll_health_counf,df).fit()\n",
        "print(reg_controll_health_counf_output.summary())\n"
      ],
      "metadata": {
        "colab": {
          "base_uri": "https://localhost:8080/"
        },
        "id": "NfC2fcO-A6Ij",
        "outputId": "5f6d4a9a-b209-4d9e-e441-8ddd9e911fd4"
      },
      "execution_count": null,
      "outputs": [
        {
          "output_type": "stream",
          "name": "stdout",
          "text": [
            "                            OLS Regression Results                            \n",
            "==============================================================================\n",
            "Dep. Variable:            dengue_risk   R-squared:                       0.484\n",
            "Model:                            OLS   Adj. R-squared:                  0.483\n",
            "Method:                 Least Squares   F-statistic:                     819.1\n",
            "Date:                Sun, 31 Mar 2024   Prob (F-statistic):          9.44e-252\n",
            "Time:                        21:51:15   Log-Likelihood:                -6703.5\n",
            "No. Observations:                1752   AIC:                         1.341e+04\n",
            "Df Residuals:                    1749   BIC:                         1.343e+04\n",
            "Df Model:                           2                                         \n",
            "Covariance Type:            nonrobust                                         \n",
            "===============================================================================\n",
            "                  coef    std err          t      P>|t|      [0.025      0.975]\n",
            "-------------------------------------------------------------------------------\n",
            "Intercept      61.3193      0.790     77.651      0.000      59.770      62.868\n",
            "net_encoded   -13.5679      0.554    -24.487      0.000     -14.655     -12.481\n",
            "health         -0.4033      0.015    -27.188      0.000      -0.432      -0.374\n",
            "==============================================================================\n",
            "Omnibus:                       90.698   Durbin-Watson:                   1.988\n",
            "Prob(Omnibus):                  0.000   Jarque-Bera (JB):              104.106\n",
            "Skew:                           0.572   Prob(JB):                     2.48e-23\n",
            "Kurtosis:                       3.345   Cond. No.                         161.\n",
            "==============================================================================\n",
            "\n",
            "Notes:\n",
            "[1] Standard Errors assume that the covariance matrix of the errors is correctly specified.\n"
          ]
        }
      ]
    },
    {
      "cell_type": "markdown",
      "source": [
        "<- controlling for only temperature"
      ],
      "metadata": {
        "id": "FYSZTDRUaHUo"
      }
    },
    {
      "cell_type": "code",
      "source": [
        "reg_controll_temperature_counf ='dengue_risk~net_encoded+temperature'\n",
        "reg_controll_temperature_counf_output = smf.ols(reg_controll_temperature_counf,df).fit()\n",
        "print(reg_controll_temperature_counf_output.summary())"
      ],
      "metadata": {
        "colab": {
          "base_uri": "https://localhost:8080/"
        },
        "id": "RS0fM6MoBB3O",
        "outputId": "4da24655-fa42-40d9-ba58-a1520386d960"
      },
      "execution_count": null,
      "outputs": [
        {
          "output_type": "stream",
          "name": "stdout",
          "text": [
            "                            OLS Regression Results                            \n",
            "==============================================================================\n",
            "Dep. Variable:            dengue_risk   R-squared:                       0.294\n",
            "Model:                            OLS   Adj. R-squared:                  0.293\n",
            "Method:                 Least Squares   F-statistic:                     363.6\n",
            "Date:                Sun, 31 Mar 2024   Prob (F-statistic):          8.87e-133\n",
            "Time:                        21:38:55   Log-Likelihood:                -6978.0\n",
            "No. Observations:                1752   AIC:                         1.396e+04\n",
            "Df Residuals:                    1749   BIC:                         1.398e+04\n",
            "Df Model:                           2                                         \n",
            "Covariance Type:            nonrobust                                         \n",
            "===============================================================================\n",
            "                  coef    std err          t      P>|t|      [0.025      0.975]\n",
            "-------------------------------------------------------------------------------\n",
            "Intercept      26.6420      1.871     14.241      0.000      22.973      30.311\n",
            "net_encoded   -15.8826      0.639    -24.844      0.000     -17.136     -14.629\n",
            "temperature     0.6349      0.076      8.366      0.000       0.486       0.784\n",
            "==============================================================================\n",
            "Omnibus:                      153.923   Durbin-Watson:                   1.991\n",
            "Prob(Omnibus):                  0.000   Jarque-Bera (JB):              194.370\n",
            "Skew:                           0.784   Prob(JB):                     6.21e-43\n",
            "Kurtosis:                       3.453   Cond. No.                         146.\n",
            "==============================================================================\n",
            "\n",
            "Notes:\n",
            "[1] Standard Errors assume that the covariance matrix of the errors is correctly specified.\n"
          ]
        }
      ]
    },
    {
      "cell_type": "markdown",
      "source": [
        "<- controlling for income and health"
      ],
      "metadata": {
        "id": "8yBJ8i32aKmw"
      }
    },
    {
      "cell_type": "code",
      "source": [
        "reg_controll_inr_incom_health_counf ='dengue_risk~net_encoded+inr_income+health'\n",
        "reg_controll_inr_incom_health_counf_output = smf.ols(reg_controll_inr_incom_health_counf,df).fit()\n",
        "print(reg_controll_inr_incom_health_counf_output.summary())"
      ],
      "metadata": {
        "colab": {
          "base_uri": "https://localhost:8080/"
        },
        "id": "eW4p13i9BI-J",
        "outputId": "75bf1e3e-0a01-4008-8f7b-b03363db2b58"
      },
      "execution_count": null,
      "outputs": [
        {
          "output_type": "stream",
          "name": "stdout",
          "text": [
            "                            OLS Regression Results                            \n",
            "==============================================================================\n",
            "Dep. Variable:            dengue_risk   R-squared:                       0.816\n",
            "Model:                            OLS   Adj. R-squared:                  0.815\n",
            "Method:                 Least Squares   F-statistic:                     2580.\n",
            "Date:                Sun, 31 Mar 2024   Prob (F-statistic):               0.00\n",
            "Time:                        21:38:55   Log-Likelihood:                -5800.8\n",
            "No. Observations:                1752   AIC:                         1.161e+04\n",
            "Df Residuals:                    1748   BIC:                         1.163e+04\n",
            "Df Model:                           3                                         \n",
            "Covariance Type:            nonrobust                                         \n",
            "===============================================================================\n",
            "                  coef    std err          t      P>|t|      [0.025      0.975]\n",
            "-------------------------------------------------------------------------------\n",
            "Intercept      98.0388      0.807    121.546      0.000      96.457      99.621\n",
            "net_encoded   -11.4190      0.333    -34.262      0.000     -12.073     -10.765\n",
            "inr_income     -0.0073      0.000    -56.130      0.000      -0.008      -0.007\n",
            "health          0.1674      0.013     12.407      0.000       0.141       0.194\n",
            "==============================================================================\n",
            "Omnibus:                       32.722   Durbin-Watson:                   2.011\n",
            "Prob(Omnibus):                  0.000   Jarque-Bera (JB):               31.917\n",
            "Skew:                           0.299   Prob(JB):                     1.17e-07\n",
            "Kurtosis:                       2.719   Cond. No.                     4.70e+04\n",
            "==============================================================================\n",
            "\n",
            "Notes:\n",
            "[1] Standard Errors assume that the covariance matrix of the errors is correctly specified.\n",
            "[2] The condition number is large, 4.7e+04. This might indicate that there are\n",
            "strong multicollinearity or other numerical problems.\n"
          ]
        }
      ]
    },
    {
      "cell_type": "markdown",
      "source": [
        "<-controlling for income and temperature"
      ],
      "metadata": {
        "id": "1qn2NoOmaON1"
      }
    },
    {
      "cell_type": "code",
      "source": [
        "reg_controll_inr_incom_temp_counf ='dengue_risk~net_encoded+inr_income+temperature'\n",
        "reg_controll_inr_incom_temp_counf_output = smf.ols(reg_controll_inr_incom_temp_counf,df).fit()\n",
        "print(reg_controll_inr_incom_temp_counf_output.summary())"
      ],
      "metadata": {
        "colab": {
          "base_uri": "https://localhost:8080/"
        },
        "id": "K1UMg-ZSBTLM",
        "outputId": "b47ef27b-8d41-4a18-9c27-5b4a9bcd6203"
      },
      "execution_count": null,
      "outputs": [
        {
          "output_type": "stream",
          "name": "stdout",
          "text": [
            "                            OLS Regression Results                            \n",
            "==============================================================================\n",
            "Dep. Variable:            dengue_risk   R-squared:                       0.872\n",
            "Model:                            OLS   Adj. R-squared:                  0.872\n",
            "Method:                 Least Squares   F-statistic:                     3985.\n",
            "Date:                Sun, 31 Mar 2024   Prob (F-statistic):               0.00\n",
            "Time:                        21:38:55   Log-Likelihood:                -5478.6\n",
            "No. Observations:                1752   AIC:                         1.097e+04\n",
            "Df Residuals:                    1748   BIC:                         1.099e+04\n",
            "Df Model:                           3                                         \n",
            "Covariance Type:            nonrobust                                         \n",
            "===============================================================================\n",
            "                  coef    std err          t      P>|t|      [0.025      0.975]\n",
            "-------------------------------------------------------------------------------\n",
            "Intercept      73.3096      0.952     76.979      0.000      71.442      75.177\n",
            "net_encoded   -10.2977      0.279    -36.924      0.000     -10.845      -9.751\n",
            "inr_income     -0.0064   7.23e-05    -89.059      0.000      -0.007      -0.006\n",
            "temperature     1.0294      0.033     31.614      0.000       0.966       1.093\n",
            "==============================================================================\n",
            "Omnibus:                       48.161   Durbin-Watson:                   2.108\n",
            "Prob(Omnibus):                  0.000   Jarque-Bera (JB):               51.683\n",
            "Skew:                           0.418   Prob(JB):                     5.99e-12\n",
            "Kurtosis:                       2.897   Cond. No.                     6.67e+04\n",
            "==============================================================================\n",
            "\n",
            "Notes:\n",
            "[1] Standard Errors assume that the covariance matrix of the errors is correctly specified.\n",
            "[2] The condition number is large, 6.67e+04. This might indicate that there are\n",
            "strong multicollinearity or other numerical problems.\n"
          ]
        }
      ]
    },
    {
      "cell_type": "markdown",
      "source": [
        "<- controlling for temperature and health"
      ],
      "metadata": {
        "id": "YgRnl-24aTp8"
      }
    },
    {
      "cell_type": "code",
      "source": [
        "reg_controll_temperature_health_counf ='dengue_risk~net_encoded+temperature+health'\n",
        "reg_controll_temperature_health_counf_output = smf.ols(reg_controll_temperature_health_counf,df).fit()\n",
        "print(reg_controll_temperature_health_counf_output.summary())"
      ],
      "metadata": {
        "colab": {
          "base_uri": "https://localhost:8080/"
        },
        "id": "grJxhvLABW2E",
        "outputId": "2e2fd48c-2014-4b54-c39d-c2f96f418a9c"
      },
      "execution_count": null,
      "outputs": [
        {
          "output_type": "stream",
          "name": "stdout",
          "text": [
            "                            OLS Regression Results                            \n",
            "==============================================================================\n",
            "Dep. Variable:            dengue_risk   R-squared:                       0.539\n",
            "Model:                            OLS   Adj. R-squared:                  0.538\n",
            "Method:                 Least Squares   F-statistic:                     680.8\n",
            "Date:                Sun, 31 Mar 2024   Prob (F-statistic):          3.92e-293\n",
            "Time:                        21:38:55   Log-Likelihood:                -6604.5\n",
            "No. Observations:                1752   AIC:                         1.322e+04\n",
            "Df Residuals:                    1748   BIC:                         1.324e+04\n",
            "Df Model:                           3                                         \n",
            "Covariance Type:            nonrobust                                         \n",
            "===============================================================================\n",
            "                  coef    std err          t      P>|t|      [0.025      0.975]\n",
            "-------------------------------------------------------------------------------\n",
            "Intercept      41.0997      1.585     25.936      0.000      37.992      44.208\n",
            "net_encoded   -12.7405      0.527    -24.180      0.000     -13.774     -11.707\n",
            "temperature     0.8959      0.062     14.465      0.000       0.774       1.017\n",
            "health         -0.4316      0.014    -30.484      0.000      -0.459      -0.404\n",
            "==============================================================================\n",
            "Omnibus:                       89.182   Durbin-Watson:                   2.024\n",
            "Prob(Omnibus):                  0.000   Jarque-Bera (JB):              103.557\n",
            "Skew:                           0.550   Prob(JB):                     3.26e-23\n",
            "Kurtosis:                       3.459   Cond. No.                         370.\n",
            "==============================================================================\n",
            "\n",
            "Notes:\n",
            "[1] Standard Errors assume that the covariance matrix of the errors is correctly specified.\n"
          ]
        }
      ]
    },
    {
      "cell_type": "markdown",
      "source": [
        "We controlled every combinations of confounders to , get the best estimate"
      ],
      "metadata": {
        "id": "tYi8MtGFa6qH"
      }
    },
    {
      "cell_type": "markdown",
      "source": [
        "Summary"
      ],
      "metadata": {
        "id": "Orz9foE-hmIt"
      }
    },
    {
      "cell_type": "code",
      "source": [
        "stargazer = Stargazer([reg_controll_all_cov_output,reg_controll_all_counf_output,reg_controll_all2_counf_output,\n",
        "                       reg_controll_inr_incom_counf_output,reg_controll_health_counf_output,reg_controll_temperature_counf_output,\n",
        "                       reg_controll_inr_incom_health_counf_output,reg_controll_inr_incom_temp_counf_output,reg_controll_temperature_health_counf_output\n",
        "                       ])\n",
        "stargazer"
      ],
      "metadata": {
        "colab": {
          "base_uri": "https://localhost:8080/",
          "height": 570
        },
        "id": "W1bJPRjJa1Be",
        "outputId": "960ef555-d8e4-4b06-cb4f-dfdf11c2b6d1"
      },
      "execution_count": null,
      "outputs": [
        {
          "output_type": "execute_result",
          "data": {
            "text/plain": [
              "<stargazer.stargazer.Stargazer at 0x7d639fe6e950>"
            ],
            "text/html": [
              "<table style=\"text-align:center\"><tr><td colspan=\"10\" style=\"border-bottom: 1px solid black\"></td></tr>\n",
              "<tr><td style=\"text-align:left\"></td><td colspan=\"9\"><em>Dependent variable: dengue_risk</em></td></tr><tr><td style=\"text-align:left\"></td><tr><td style=\"text-align:left\"></td><td>(1)</td><td>(2)</td><td>(3)</td><td>(4)</td><td>(5)</td><td>(6)</td><td>(7)</td><td>(8)</td><td>(9)</td></tr>\n",
              "<tr><td colspan=\"10\" style=\"border-bottom: 1px solid black\"></td></tr>\n",
              "\n",
              "<tr><td style=\"text-align:left\">Intercept</td><td>65.715<sup>***</sup></td><td>76.160<sup>***</sup></td><td>76.207<sup>***</sup></td><td>95.394<sup>***</sup></td><td>61.319<sup>***</sup></td><td>26.642<sup>***</sup></td><td>98.039<sup>***</sup></td><td>73.310<sup>***</sup></td><td>41.100<sup>***</sup></td></tr>\n",
              "<tr><td style=\"text-align:left\"></td><td>(0.864)</td><td>(0.927)</td><td>(0.966)</td><td>(0.811)</td><td>(0.790)</td><td>(1.871)</td><td>(0.807)</td><td>(0.952)</td><td>(1.585)</td></tr>\n",
              "<tr><td style=\"text-align:left\">health</td><td>0.149<sup>***</sup></td><td>0.148<sup>***</sup></td><td>0.148<sup>***</sup></td><td></td><td>-0.403<sup>***</sup></td><td></td><td>0.167<sup>***</sup></td><td></td><td>-0.432<sup>***</sup></td></tr>\n",
              "<tr><td style=\"text-align:left\"></td><td>(0.009)</td><td>(0.011)</td><td>(0.011)</td><td></td><td>(0.015)</td><td></td><td>(0.013)</td><td></td><td>(0.014)</td></tr>\n",
              "<tr><td style=\"text-align:left\">household</td><td>-0.055<sup></sup></td><td></td><td>-0.015<sup></sup></td><td></td><td></td><td></td><td></td><td></td><td></td></tr>\n",
              "<tr><td style=\"text-align:left\"></td><td>(0.073)</td><td></td><td>(0.089)</td><td></td><td></td><td></td><td></td><td></td><td></td></tr>\n",
              "<tr><td style=\"text-align:left\">inr_income</td><td>-0.008<sup>***</sup></td><td>-0.008<sup>***</sup></td><td>-0.008<sup>***</sup></td><td>-0.006<sup>***</sup></td><td></td><td></td><td>-0.007<sup>***</sup></td><td>-0.006<sup>***</sup></td><td></td></tr>\n",
              "<tr><td style=\"text-align:left\"></td><td>(0.000)</td><td>(0.000)</td><td>(0.000)</td><td>(0.000)</td><td></td><td></td><td>(0.000)</td><td>(0.000)</td><td></td></tr>\n",
              "<tr><td style=\"text-align:left\">net_encoded</td><td>-10.499<sup>***</sup></td><td>-10.442<sup>***</sup></td><td>-10.437<sup>***</sup></td><td>-11.282<sup>***</sup></td><td>-13.568<sup>***</sup></td><td>-15.883<sup>***</sup></td><td>-11.419<sup>***</sup></td><td>-10.298<sup>***</sup></td><td>-12.741<sup>***</sup></td></tr>\n",
              "<tr><td style=\"text-align:left\"></td><td>(0.217)</td><td>(0.265)</td><td>(0.266)</td><td>(0.347)</td><td>(0.554)</td><td>(0.639)</td><td>(0.333)</td><td>(0.279)</td><td>(0.527)</td></tr>\n",
              "<tr><td style=\"text-align:left\">resistance</td><td>0.219<sup>***</sup></td><td></td><td></td><td></td><td></td><td></td><td></td><td></td><td></td></tr>\n",
              "<tr><td style=\"text-align:left\"></td><td>(0.007)</td><td></td><td></td><td></td><td></td><td></td><td></td><td></td><td></td></tr>\n",
              "<tr><td style=\"text-align:left\">temperature</td><td>1.022<sup>***</sup></td><td>1.006<sup>***</sup></td><td>1.006<sup>***</sup></td><td></td><td></td><td>0.635<sup>***</sup></td><td></td><td>1.029<sup>***</sup></td><td>0.896<sup>***</sup></td></tr>\n",
              "<tr><td style=\"text-align:left\"></td><td>(0.025)</td><td>(0.031)</td><td>(0.031)</td><td></td><td></td><td>(0.076)</td><td></td><td>(0.033)</td><td>(0.062)</td></tr>\n",
              "\n",
              "<td colspan=\"10\" style=\"border-bottom: 1px solid black\"></td></tr>\n",
              "<tr><td style=\"text-align: left\">Observations</td><td>1752</td><td>1752</td><td>1752</td><td>1752</td><td>1752</td><td>1752</td><td>1752</td><td>1752</td><td>1752</td></tr><tr><td style=\"text-align: left\">R<sup>2</sup></td><td>0.924</td><td>0.885</td><td>0.885</td><td>0.800</td><td>0.484</td><td>0.294</td><td>0.816</td><td>0.872</td><td>0.539</td></tr><tr><td style=\"text-align: left\">Adjusted R<sup>2</sup></td><td>0.923</td><td>0.885</td><td>0.885</td><td>0.799</td><td>0.483</td><td>0.293</td><td>0.815</td><td>0.872</td><td>0.538</td></tr><tr><td style=\"text-align: left\">Residual Std. Error</td><td>4.279 (df=1745)</td><td>5.244 (df=1747)</td><td>5.245 (df=1746)</td><td>6.925 (df=1749)</td><td>11.113 (df=1749)</td><td>12.998 (df=1749)</td><td>6.640 (df=1748)</td><td>5.525 (df=1748)</td><td>10.505 (df=1748)</td></tr><tr><td style=\"text-align: left\">F Statistic</td><td>3517.464<sup>***</sup> (df=6; 1745)</td><td>3366.410<sup>***</sup> (df=4; 1747)</td><td>2691.638<sup>***</sup> (df=5; 1746)</td><td>3487.493<sup>***</sup> (df=2; 1749)</td><td>819.094<sup>***</sup> (df=2; 1749)</td><td>363.621<sup>***</sup> (df=2; 1749)</td><td>2579.609<sup>***</sup> (df=3; 1748)</td><td>3985.399<sup>***</sup> (df=3; 1748)</td><td>680.821<sup>***</sup> (df=3; 1748)</td></tr>\n",
              "<tr><td colspan=\"10\" style=\"border-bottom: 1px solid black\"></td></tr><tr><td style=\"text-align: left\">Note:</td><td colspan=\"9\" style=\"text-align: right\"><sup>*</sup>p&lt;0.1; <sup>**</sup>p&lt;0.05; <sup>***</sup>p&lt;0.01</td></tr></table>"
            ]
          },
          "metadata": {},
          "execution_count": 121
        }
      ]
    },
    {
      "cell_type": "markdown",
      "source": [
        "# Convering Python Dataframe to R Dataframe"
      ],
      "metadata": {
        "id": "GFFJN0_8nwjo"
      }
    },
    {
      "cell_type": "code",
      "source": [
        "# Convert the python dataframe to the R dataframe\n",
        "with localconverter(ro.default_converter + pandas2ri.converter):\n",
        "  dfr = ro.conversion.py2rpy(df)\n",
        "# Check the type of the convertion output\n",
        "type(dfr)"
      ],
      "metadata": {
        "colab": {
          "base_uri": "https://localhost:8080/",
          "height": 175
        },
        "id": "OH3FcsaMaZh-",
        "outputId": "b2b35a17-f909-4f9f-e5fb-48fd46d070c3"
      },
      "execution_count": null,
      "outputs": [
        {
          "output_type": "stream",
          "name": "stderr",
          "text": [
            "/usr/local/lib/python3.10/dist-packages/rpy2/robjects/pandas2ri.py:55: FutureWarning: iteritems is deprecated and will be removed in a future version. Use .items instead.\n"
          ]
        },
        {
          "output_type": "execute_result",
          "data": {
            "text/plain": [
              "rpy2.robjects.vectors.DataFrame"
            ],
            "text/html": [
              "<div style=\"max-width:800px; border: 1px solid var(--colab-border-color);\"><style>\n",
              "      pre.function-repr-contents {\n",
              "        overflow-x: auto;\n",
              "        padding: 8px 12px;\n",
              "        max-height: 500px;\n",
              "      }\n",
              "\n",
              "      pre.function-repr-contents.function-repr-contents-collapsed {\n",
              "        cursor: pointer;\n",
              "        max-height: 100px;\n",
              "      }\n",
              "    </style>\n",
              "    <pre style=\"white-space: initial; background:\n",
              "         var(--colab-secondary-surface-color); padding: 8px 12px;\n",
              "         border-bottom: 1px solid var(--colab-border-color);\"><b>rpy2.robjects.vectors.DataFrame</b><br/>def __init__(obj, stringsasfactor=False, checknames=False)</pre><pre class=\"function-repr-contents function-repr-contents-collapsed\" style=\"\"><a class=\"filepath\" style=\"display:none\" href=\"#\">/usr/local/lib/python3.10/dist-packages/rpy2/robjects/vectors.py</a>R &#x27;data.frame&#x27;.\n",
              "    </pre>\n",
              "      <script>\n",
              "      if (google.colab.kernel.accessAllowed && google.colab.files && google.colab.files.view) {\n",
              "        for (const element of document.querySelectorAll('.filepath')) {\n",
              "          element.style.display = 'block'\n",
              "          element.onclick = (event) => {\n",
              "            event.preventDefault();\n",
              "            event.stopPropagation();\n",
              "            google.colab.files.view(element.textContent, 1186);\n",
              "          };\n",
              "        }\n",
              "      }\n",
              "      for (const element of document.querySelectorAll('.function-repr-contents')) {\n",
              "        element.onclick = (event) => {\n",
              "          event.preventDefault();\n",
              "          event.stopPropagation();\n",
              "          element.classList.toggle('function-repr-contents-collapsed');\n",
              "        };\n",
              "      }\n",
              "      </script>\n",
              "      </div>"
            ]
          },
          "metadata": {},
          "execution_count": 83
        }
      ]
    },
    {
      "cell_type": "code",
      "source": [
        "# Create a variable name in R's global environment\n",
        "globalenv['dfr'] = dfr\n",
        "# Print statistics\n",
        "%R print(summary(dfr))"
      ],
      "metadata": {
        "colab": {
          "base_uri": "https://localhost:8080/",
          "height": 543
        },
        "id": "5KsYN3T3aqAj",
        "outputId": "ec1acae9-02fa-4b99-897d-1735490c240c"
      },
      "execution_count": null,
      "outputs": [
        {
          "output_type": "stream",
          "name": "stdout",
          "text": [
            "       id            net             net_num        dengue_risk   \n",
            " Min.   :   1.0   Mode :logical   Min.   :0.0000   Min.   :10.00  \n",
            " 1st Qu.: 438.8   FALSE:1071      1st Qu.:0.0000   1st Qu.:24.00  \n",
            " Median : 876.5   TRUE :681       Median :0.0000   Median :31.00  \n",
            " Mean   : 876.5                   Mean   :0.3887   Mean   :35.59  \n",
            " 3rd Qu.:1314.2                   3rd Qu.:1.0000   3rd Qu.:46.00  \n",
            " Max.   :1752.0                   Max.   :1.0000   Max.   :90.00  \n",
            "     income           health         household      eligible      \n",
            " Min.   : 301.0   Min.   :  5.00   Min.   :1.000   Mode :logical  \n",
            " 1st Qu.: 779.0   1st Qu.: 38.00   1st Qu.:2.000   FALSE:1713     \n",
            " Median : 904.5   Median : 51.00   Median :3.000   TRUE :39       \n",
            " Mean   : 904.8   Mean   : 50.72   Mean   :2.989                  \n",
            " 3rd Qu.:1036.0   3rd Qu.: 63.00   3rd Qu.:4.000                  \n",
            " Max.   :1469.0   Max.   :100.00   Max.   :9.000                  \n",
            "  temperature      resistance      inr_income    eligible_encoded \n",
            " Min.   :15.60   Min.   : 5.00   Min.   : 3010   Min.   :0.00000  \n",
            " 1st Qu.:20.60   1st Qu.:38.00   1st Qu.: 7790   1st Qu.:0.00000  \n",
            " Median :23.80   Median :48.00   Median : 9045   Median :0.00000  \n",
            " Mean   :23.81   Mean   :47.79   Mean   : 9048   Mean   :0.02226  \n",
            " 3rd Qu.:26.90   3rd Qu.:57.00   3rd Qu.:10360   3rd Qu.:0.00000  \n",
            " Max.   :32.20   Max.   :95.00   Max.   :14690   Max.   :1.00000  \n",
            "  net_encoded    \n",
            " Min.   :0.0000  \n",
            " 1st Qu.:0.0000  \n",
            " Median :0.0000  \n",
            " Mean   :0.3887  \n",
            " 3rd Qu.:1.0000  \n",
            " Max.   :1.0000  \n"
          ]
        },
        {
          "output_type": "execute_result",
          "data": {
            "text/plain": [
              "<rpy2.robjects.vectors.StrMatrix object at 0x7d639e056bc0> [RTYPES.STRSXP]\n",
              "R classes: ('table',)\n",
              "['Min.   :..., '1st Qu.:..., 'Median :..., 'Mean   :..., ..., 'Median :..., 'Mean   :..., '3rd Qu.:..., 'Max.   :...]"
            ],
            "text/html": [
              "\n",
              "        <span>StrMatrix with 78 elements.</span>\n",
              "        <table>\n",
              "        <tbody>\n",
              "          <tr>\n",
              "          \n",
              "            <td>\n",
              "            'Min.   :...\n",
              "            </td>\n",
              "          \n",
              "            <td>\n",
              "            '1st Qu.:...\n",
              "            </td>\n",
              "          \n",
              "            <td>\n",
              "            'Median :...\n",
              "            </td>\n",
              "          \n",
              "            <td>\n",
              "            ...\n",
              "            </td>\n",
              "          \n",
              "            <td>\n",
              "            'Mean   :...\n",
              "            </td>\n",
              "          \n",
              "            <td>\n",
              "            '3rd Qu.:...\n",
              "            </td>\n",
              "          \n",
              "            <td>\n",
              "            'Max.   :...\n",
              "            </td>\n",
              "          \n",
              "          </tr>\n",
              "        </tbody>\n",
              "        </table>\n",
              "        "
            ]
          },
          "metadata": {},
          "execution_count": 84
        }
      ]
    },
    {
      "cell_type": "markdown",
      "source": [
        "# Matching"
      ],
      "metadata": {
        "id": "Mrly4-Xx1Box"
      }
    },
    {
      "cell_type": "markdown",
      "source": [
        "**Exact Matching**"
      ],
      "metadata": {
        "id": "M8dBbGcVmugF"
      }
    },
    {
      "cell_type": "code",
      "source": [
        "%%R\n",
        "matching_data_exact <- matchit(net_encoded ~ inr_income + health + temperature+resistance, data = dfr,method = \"exact\")\n",
        "print(summary(matching_data_exact))"
      ],
      "metadata": {
        "colab": {
          "base_uri": "https://localhost:8080/"
        },
        "id": "N7lqC8EekUZu",
        "outputId": "3a6c4450-5bf7-4a6e-eac0-77a139122d1f"
      },
      "execution_count": null,
      "outputs": [
        {
          "output_type": "stream",
          "name": "stdout",
          "text": [
            "Error in `matchit()`:\n",
            "! No exact matches were found.\n",
            "Backtrace:\n",
            " 1. base (local) `<fn>`(`<expression>`)\n",
            " 4. MatchIt::matchit(...)\n",
            " 6. MatchIt:::matchit2exact(...)\n",
            " 7. MatchIt:::.err(\"No exact matches were found\")\n",
            " 8. chk::err(..., call = pkg_caller_call(start = 2))\n"
          ]
        },
        {
          "output_type": "stream",
          "name": "stderr",
          "text": [
            "WARNING:rpy2.rinterface_lib.callbacks:R[write to console]: Warning message:\n",
            "\n",
            "WARNING:rpy2.rinterface_lib.callbacks:R[write to console]: The argument 'distance' is not used with `method = \"cem\"` and will be ignored. \n",
            "\n"
          ]
        },
        {
          "output_type": "stream",
          "name": "stdout",
          "text": [
            "\n",
            "Error in matchit(net_encoded ~ inr_income + health + temperature + resistance,  :\n"
          ]
        }
      ]
    },
    {
      "cell_type": "markdown",
      "source": [
        "**Approximate Matching**"
      ],
      "metadata": {
        "id": "ZjWssfTf1lHt"
      }
    },
    {
      "cell_type": "markdown",
      "source": [
        " Nearest-neighbour Matching\n"
      ],
      "metadata": {
        "id": "g-HsZLfynCUI"
      }
    },
    {
      "cell_type": "code",
      "source": [
        "%%R\n",
        "library(MatchIt)\n",
        "matching_nnm_data <- matchit(net_encoded ~ inr_income + health + temperature, data = dfr,\n",
        "                         method = \"nearest\",\n",
        "                         distance = \"mahalanobis\",\n",
        "                         replace = TRUE)\n",
        "print(summary(matching_nnm_data))"
      ],
      "metadata": {
        "colab": {
          "base_uri": "https://localhost:8080/"
        },
        "id": "oUFMqz_SbJ5Q",
        "outputId": "9fc9a2e2-b749-463a-c887-cbc2a3352647"
      },
      "execution_count": null,
      "outputs": [
        {
          "output_type": "stream",
          "name": "stdout",
          "text": [
            "\n",
            "Call:\n",
            "matchit(formula = net_encoded ~ inr_income + health + temperature, \n",
            "    data = dfr, method = \"nearest\", distance = \"mahalanobis\", \n",
            "    replace = TRUE)\n",
            "\n",
            "Summary of Balance for All Data:\n",
            "            Means Treated Means Control Std. Mean Diff. Var. Ratio eCDF Mean\n",
            "inr_income      9551.9383      8727.526          0.4089     1.3633    0.1044\n",
            "health            54.9090        48.057          0.3619     1.2083    0.0714\n",
            "temperature       23.3809        24.088         -0.1685     1.0846    0.0424\n",
            "            eCDF Max\n",
            "inr_income    0.1983\n",
            "health        0.1683\n",
            "temperature   0.0972\n",
            "\n",
            "Summary of Balance for Matched Data:\n",
            "            Means Treated Means Control Std. Mean Diff. Var. Ratio eCDF Mean\n",
            "inr_income      9551.9383     9501.8355          0.0248     1.1061    0.0093\n",
            "health            54.9090       54.5433          0.0193     1.0714    0.0073\n",
            "temperature       23.3809       23.4066         -0.0061     1.0335    0.0067\n",
            "            eCDF Max Std. Pair Dist.\n",
            "inr_income    0.0485          0.1202\n",
            "health        0.0264          0.1239\n",
            "temperature   0.0264          0.1196\n",
            "\n",
            "Sample Sizes:\n",
            "              Control Treated\n",
            "All           1071.       681\n",
            "Matched (ESS)  320.94     681\n",
            "Matched        436.       681\n",
            "Unmatched      635.         0\n",
            "Discarded        0.         0\n",
            "\n"
          ]
        }
      ]
    },
    {
      "cell_type": "code",
      "source": [
        "%%R\n",
        "nnm_matched_data <- match.data(matching_nnm_data)\n",
        "summary(nnm_matched_data)"
      ],
      "metadata": {
        "colab": {
          "base_uri": "https://localhost:8080/"
        },
        "id": "eGt64ER7kGSq",
        "outputId": "177c2869-ff47-4426-df9d-ad189824b6d1"
      },
      "execution_count": null,
      "outputs": [
        {
          "output_type": "stream",
          "name": "stdout",
          "text": [
            "       id            net             net_num        dengue_risk   \n",
            " Min.   :   1.0   Mode :logical   Min.   :0.0000   Min.   :10.00  \n",
            " 1st Qu.: 444.0   FALSE:436       1st Qu.:0.0000   1st Qu.:21.00  \n",
            " Median : 879.0   TRUE :681       Median :1.0000   Median :27.00  \n",
            " Mean   : 875.8                   Mean   :0.6097   Mean   :30.57  \n",
            " 3rd Qu.:1304.0                   3rd Qu.:1.0000   3rd Qu.:37.00  \n",
            " Max.   :1752.0                   Max.   :1.0000   Max.   :86.00  \n",
            "     income           health         household      eligible      \n",
            " Min.   : 301.0   Min.   :  5.00   Min.   :1.000   Mode :logical  \n",
            " 1st Qu.: 808.0   1st Qu.: 41.00   1st Qu.:2.000   FALSE:1080     \n",
            " Median : 948.0   Median : 54.00   Median :3.000   TRUE :37       \n",
            " Mean   : 939.7   Mean   : 53.61   Mean   :3.062                  \n",
            " 3rd Qu.:1075.0   3rd Qu.: 67.00   3rd Qu.:4.000                  \n",
            " Max.   :1469.0   Max.   :100.00   Max.   :9.000                  \n",
            "  temperature      resistance      inr_income    eligible_encoded \n",
            " Min.   :15.60   Min.   :10.00   Min.   : 3010   Min.   :0.00000  \n",
            " 1st Qu.:20.10   1st Qu.:39.00   1st Qu.: 8080   1st Qu.:0.00000  \n",
            " Median :23.40   Median :48.00   Median : 9480   Median :0.00000  \n",
            " Mean   :23.45   Mean   :47.99   Mean   : 9397   Mean   :0.03312  \n",
            " 3rd Qu.:26.80   3rd Qu.:57.00   3rd Qu.:10750   3rd Qu.:0.00000  \n",
            " Max.   :32.20   Max.   :95.00   Max.   :14690   Max.   :1.00000  \n",
            "  net_encoded        weights      \n",
            " Min.   :0.0000   Min.   :0.6402  \n",
            " 1st Qu.:0.0000   1st Qu.:0.6402  \n",
            " Median :1.0000   Median :1.0000  \n",
            " Mean   :0.6097   Mean   :1.0000  \n",
            " 3rd Qu.:1.0000   3rd Qu.:1.0000  \n",
            " Max.   :1.0000   Max.   :4.4816  \n"
          ]
        }
      ]
    },
    {
      "cell_type": "markdown",
      "source": [
        "Estimating for nnm"
      ],
      "metadata": {
        "id": "GGjSPtUqhqWd"
      }
    },
    {
      "cell_type": "code",
      "source": [
        "%%R\n",
        "nnm_model_matched <- lm(dengue_risk ~ net_encoded,\n",
        "                    data = nnm_matched_data)\n",
        "tidy(nnm_model_matched)"
      ],
      "metadata": {
        "colab": {
          "base_uri": "https://localhost:8080/"
        },
        "id": "eRBdl6rokWf0",
        "outputId": "e1cd3cd3-9a34-4b32-9d3b-d24b5f4e380a"
      },
      "execution_count": null,
      "outputs": [
        {
          "output_type": "stream",
          "name": "stdout",
          "text": [
            "# A tibble: 2 × 5\n",
            "  term        estimate std.error statistic  p.value\n",
            "  <chr>          <dbl>     <dbl>     <dbl>    <dbl>\n",
            "1 (Intercept)     38.3     0.599      64.0 0       \n",
            "2 net_encoded    -12.7     0.768     -16.6 2.28e-55\n"
          ]
        }
      ]
    },
    {
      "cell_type": "code",
      "source": [
        "%%R\n",
        "#nnm weighted\n",
        "nnm_model_matched_weight <- lm(dengue_risk ~ net_encoded, data = nnm_matched_data,weights = weights)\n",
        "tidy(nnm_model_matched_weight)"
      ],
      "metadata": {
        "colab": {
          "base_uri": "https://localhost:8080/"
        },
        "id": "9UuoZWaVkVKk",
        "outputId": "0909fdf2-ef15-401b-86dc-23bfe770cfaf"
      },
      "execution_count": null,
      "outputs": [
        {
          "output_type": "stream",
          "name": "stdout",
          "text": [
            "# A tibble: 2 × 5\n",
            "  term        estimate std.error statistic  p.value\n",
            "  <chr>          <dbl>     <dbl>     <dbl>    <dbl>\n",
            "1 (Intercept)     36.1     0.597      60.4 0       \n",
            "2 net_encoded    -10.5     0.765     -13.7 1.17e-39\n"
          ]
        }
      ]
    },
    {
      "cell_type": "markdown",
      "source": [
        "Coarsened Matching"
      ],
      "metadata": {
        "id": "wE0PzTeD6SNE"
      }
    },
    {
      "cell_type": "code",
      "source": [
        "%%R\n",
        "# Coarsened exact matching\n",
        "coarsened_exact_match <- matchit(net_encoded ~ inr_income + health + temperature, data=dfr, method=\"cem\",distance=\"logit\")\n",
        "m_coarsened_match_data <- match.data(coarsened_exact_match)\n",
        "\n",
        "# Summary of coarsened exact matching\n",
        "summary(coarsened_exact_match, un = FALSE)\n"
      ],
      "metadata": {
        "colab": {
          "base_uri": "https://localhost:8080/"
        },
        "outputId": "42368127-7f2a-473e-e9bd-0477049b6b85",
        "id": "D9QuELs4hrLZ"
      },
      "execution_count": null,
      "outputs": [
        {
          "output_type": "stream",
          "name": "stdout",
          "text": [
            "\n",
            "Call:\n",
            "matchit(formula = net_encoded ~ inr_income + health + temperature, \n",
            "    data = dfr, method = \"cem\", distance = \"logit\")\n",
            "\n",
            "Summary of Balance for Matched Data:\n",
            "            Means Treated Means Control Std. Mean Diff. Var. Ratio eCDF Mean\n",
            "inr_income      9240.7186     9205.3177          0.0176     1.0285    0.0073\n",
            "health            52.0679       52.1209         -0.0028     0.9846    0.0042\n",
            "temperature       23.5261       23.5379         -0.0028     0.9914    0.0055\n",
            "            eCDF Max Std. Pair Dist.\n",
            "inr_income    0.0365          0.1560\n",
            "health        0.0208          0.1372\n",
            "temperature   0.0222          0.1123\n",
            "\n",
            "Sample Sizes:\n",
            "              Control Treated\n",
            "All           1071.       681\n",
            "Matched (ESS)  385.68     501\n",
            "Matched        714.       501\n",
            "Unmatched      357.       180\n",
            "Discarded        0.         0\n",
            "\n"
          ]
        }
      ]
    },
    {
      "cell_type": "markdown",
      "source": [
        "Estimation oF Coarsed Matching"
      ],
      "metadata": {
        "id": "t-IexAdxldHp"
      }
    },
    {
      "cell_type": "code",
      "source": [
        "%%R\n",
        "lm_out_coarsened <- lm(dengue_risk ~ net_encoded,\n",
        "                       data = m_coarsened_match_data )\n",
        "summary(lm_out_coarsened)"
      ],
      "metadata": {
        "colab": {
          "base_uri": "https://localhost:8080/"
        },
        "id": "KtMb4Pk8pIRn",
        "outputId": "7c74a449-b97e-4e44-cbca-a556a1fda46e"
      },
      "execution_count": null,
      "outputs": [
        {
          "output_type": "stream",
          "name": "stdout",
          "text": [
            "\n",
            "Call:\n",
            "lm(formula = dengue_risk ~ net_encoded, data = m_coarsened_match_data)\n",
            "\n",
            "Residuals:\n",
            "    Min      1Q  Median      3Q     Max \n",
            "-20.175  -8.299  -2.175   6.701  41.825 \n",
            "\n",
            "Coefficients:\n",
            "            Estimate Std. Error t value Pr(>|t|)    \n",
            "(Intercept)  39.1751     0.4234   92.51   <2e-16 ***\n",
            "net_encoded -12.8757     0.6594  -19.52   <2e-16 ***\n",
            "---\n",
            "Signif. codes:  0 ‘***’ 0.001 ‘**’ 0.01 ‘*’ 0.05 ‘.’ 0.1 ‘ ’ 1\n",
            "\n",
            "Residual standard error: 11.31 on 1213 degrees of freedom\n",
            "Multiple R-squared:  0.2391,\tAdjusted R-squared:  0.2385 \n",
            "F-statistic: 381.2 on 1 and 1213 DF,  p-value: < 2.2e-16\n",
            "\n"
          ]
        }
      ]
    },
    {
      "cell_type": "code",
      "source": [
        "%%R\n",
        "#weighted coarsened estimation\n",
        "lm_out_coarsened_weight <- lm(dengue_risk ~ net_encoded,\n",
        "                       data = m_coarsened_match_data , weights = weights)\n",
        "summary(lm_out_coarsened_weight)"
      ],
      "metadata": {
        "colab": {
          "base_uri": "https://localhost:8080/"
        },
        "outputId": "ca2e7d99-74ac-4b82-f128-294981420372",
        "id": "DwM6ARaxjuPV"
      },
      "execution_count": null,
      "outputs": [
        {
          "output_type": "stream",
          "name": "stdout",
          "text": [
            "\n",
            "Call:\n",
            "lm(formula = dengue_risk ~ net_encoded, data = m_coarsened_match_data, \n",
            "    weights = weights)\n",
            "\n",
            "Weighted Residuals:\n",
            "    Min      1Q  Median      3Q     Max \n",
            "-38.725  -6.869  -1.299   5.810  77.580 \n",
            "\n",
            "Coefficients:\n",
            "            Estimate Std. Error t value Pr(>|t|)    \n",
            "(Intercept)  37.5071     0.4369   85.85   <2e-16 ***\n",
            "net_encoded -11.2077     0.6804  -16.47   <2e-16 ***\n",
            "---\n",
            "Signif. codes:  0 ‘***’ 0.001 ‘**’ 0.01 ‘*’ 0.05 ‘.’ 0.1 ‘ ’ 1\n",
            "\n",
            "Residual standard error: 11.67 on 1213 degrees of freedom\n",
            "Multiple R-squared:  0.1828,\tAdjusted R-squared:  0.1821 \n",
            "F-statistic: 271.3 on 1 and 1213 DF,  p-value: < 2.2e-16\n",
            "\n"
          ]
        }
      ]
    },
    {
      "cell_type": "markdown",
      "source": [
        "### Balance Test"
      ],
      "metadata": {
        "id": "d2jDhiMdli0q"
      }
    },
    {
      "cell_type": "code",
      "source": [
        "%%R\n",
        "##t.test(dfr$net_num ~ dfr$net)\n",
        "t.test(dfr$income ~ dfr$net_encoded)\n",
        "\n",
        "##t.test(dfr$health ~ dfr$net)\n",
        "\n",
        "##t.test(dfr$household ~ dfr$net)\n",
        "##t.test(dfr$eligible ~ dfr$net)\n",
        "##t.test(dfr$temperature ~ dfr$net)\n",
        "##t.test(dfr$resistance ~ dfr$net)"
      ],
      "metadata": {
        "colab": {
          "base_uri": "https://localhost:8080/"
        },
        "id": "cl3fKZW-hVHN",
        "outputId": "89bdd61e-4b39-480e-fe61-81c44923e605"
      },
      "execution_count": null,
      "outputs": [
        {
          "output_type": "stream",
          "name": "stdout",
          "text": [
            "\n",
            "\tWelch Two Sample t-test\n",
            "\n",
            "data:  dfr$income by dfr$net_encoded\n",
            "t = -8.8113, df = 1284.7, p-value < 2.2e-16\n",
            "alternative hypothesis: true difference in means between group 0 and group 1 is not equal to 0\n",
            "95 percent confidence interval:\n",
            " -100.79660  -64.08593\n",
            "sample estimates:\n",
            "mean in group 0 mean in group 1 \n",
            "       872.7526        955.1938 \n",
            "\n"
          ]
        }
      ]
    },
    {
      "cell_type": "code",
      "source": [
        "%%R\n",
        "t.test(dfr$health ~ dfr$net)"
      ],
      "metadata": {
        "colab": {
          "base_uri": "https://localhost:8080/"
        },
        "id": "ftmC7oexk-te",
        "outputId": "91cdfe06-ba28-41c4-b3fa-faa904498d18"
      },
      "execution_count": null,
      "outputs": [
        {
          "output_type": "stream",
          "name": "stdout",
          "text": [
            "\n",
            "\tWelch Two Sample t-test\n",
            "\n",
            "data:  dfr$health by dfr$net\n",
            "t = -7.6447, df = 1346.9, p-value = 3.961e-14\n",
            "alternative hypothesis: true difference in means between group FALSE and group TRUE is not equal to 0\n",
            "95 percent confidence interval:\n",
            " -8.610309 -5.093693\n",
            "sample estimates:\n",
            "mean in group FALSE  mean in group TRUE \n",
            "           48.05696            54.90896 \n",
            "\n"
          ]
        }
      ]
    },
    {
      "cell_type": "code",
      "source": [
        "\n",
        "%%R\n",
        "t.test(dfr$household ~ dfr$net)"
      ],
      "metadata": {
        "colab": {
          "base_uri": "https://localhost:8080/"
        },
        "id": "N1QwA0M4lHJ2",
        "outputId": "dde8cb23-d84f-444f-a6a0-56d3150854d9"
      },
      "execution_count": null,
      "outputs": [
        {
          "output_type": "stream",
          "name": "stdout",
          "text": [
            "\n",
            "\tWelch Two Sample t-test\n",
            "\n",
            "data:  dfr$household by dfr$net\n",
            "t = -4.4332, df = 1345.1, p-value = 1.004e-05\n",
            "alternative hypothesis: true difference in means between group FALSE and group TRUE is not equal to 0\n",
            "95 percent confidence interval:\n",
            " -0.4496807 -0.1737886\n",
            "sample estimates:\n",
            "mean in group FALSE  mean in group TRUE \n",
            "           2.867414            3.179148 \n",
            "\n"
          ]
        }
      ]
    },
    {
      "cell_type": "code",
      "source": [
        "%%R\n",
        "t.test(dfr$eligible ~ dfr$net)\n"
      ],
      "metadata": {
        "colab": {
          "base_uri": "https://localhost:8080/"
        },
        "id": "kS1gyONRlOgp",
        "outputId": "a7d806aa-6543-4023-e89c-2b4139ca8cad"
      },
      "execution_count": null,
      "outputs": [
        {
          "output_type": "stream",
          "name": "stdout",
          "text": [
            "\n",
            "\tWelch Two Sample t-test\n",
            "\n",
            "data:  dfr$eligible by dfr$net\n",
            "t = -5.7334, df = 728.49, p-value = 1.442e-08\n",
            "alternative hypothesis: true difference in means between group FALSE and group TRUE is not equal to 0\n",
            "95 percent confidence interval:\n",
            " -0.06720447 -0.03292017\n",
            "sample estimates:\n",
            "mean in group FALSE  mean in group TRUE \n",
            "         0.00280112          0.05286344 \n",
            "\n"
          ]
        }
      ]
    },
    {
      "cell_type": "code",
      "source": [
        "%%R\n",
        "t.test(dfr$temperature ~ dfr$net)"
      ],
      "metadata": {
        "colab": {
          "base_uri": "https://localhost:8080/"
        },
        "id": "J703h_VwlV3f",
        "outputId": "c3ca6d68-9f57-4a33-b1a2-d56617b7dcfa"
      },
      "execution_count": null,
      "outputs": [
        {
          "output_type": "stream",
          "name": "stdout",
          "text": [
            "\n",
            "\tWelch Two Sample t-test\n",
            "\n",
            "data:  dfr$temperature by dfr$net\n",
            "t = 3.492, df = 1404.3, p-value = 0.0004943\n",
            "alternative hypothesis: true difference in means between group FALSE and group TRUE is not equal to 0\n",
            "95 percent confidence interval:\n",
            " 0.3098586 1.1042309\n",
            "sample estimates:\n",
            "mean in group FALSE  mean in group TRUE \n",
            "           24.08796            23.38091 \n",
            "\n"
          ]
        }
      ]
    },
    {
      "cell_type": "code",
      "source": [
        "%%R\n",
        "t.test(dfr$resistance ~ dfr$net)"
      ],
      "metadata": {
        "colab": {
          "base_uri": "https://localhost:8080/"
        },
        "id": "eMtSzAMklbWT",
        "outputId": "23a94c4f-cfea-4b17-8a78-ca5842b09f79"
      },
      "execution_count": null,
      "outputs": [
        {
          "output_type": "stream",
          "name": "stdout",
          "text": [
            "\n",
            "\tWelch Two Sample t-test\n",
            "\n",
            "data:  dfr$resistance by dfr$net\n",
            "t = -0.71352, df = 1526.4, p-value = 0.4756\n",
            "alternative hypothesis: true difference in means between group FALSE and group TRUE is not equal to 0\n",
            "95 percent confidence interval:\n",
            " -1.7870188  0.8337083\n",
            "sample estimates:\n",
            "mean in group FALSE  mean in group TRUE \n",
            "           47.60411            48.08076 \n",
            "\n"
          ]
        }
      ]
    },
    {
      "cell_type": "markdown",
      "source": [
        "## Generating Propensity Score"
      ],
      "metadata": {
        "id": "RYWOSa8i3fUl"
      }
    },
    {
      "cell_type": "code",
      "source": [
        "%%R\n",
        "model_glm <- glm(net_encoded ~ inr_income + health + temperature, data = dfr, family = binomial(link = \"logit\"))\n",
        "tidy(model_glm)"
      ],
      "metadata": {
        "colab": {
          "base_uri": "https://localhost:8080/"
        },
        "id": "QXELF65jkVBb",
        "outputId": "a679e4e5-1e8c-404f-af26-1fa4ddbac7d9"
      },
      "execution_count": null,
      "outputs": [
        {
          "output_type": "stream",
          "name": "stdout",
          "text": [
            "# A tibble: 4 × 5\n",
            "  term         estimate std.error statistic     p.value\n",
            "  <chr>           <dbl>     <dbl>     <dbl>       <dbl>\n",
            "1 (Intercept) -1.32     0.376         -3.50 0.000464   \n",
            "2 inr_income   0.000209 0.0000421      4.95 0.000000727\n",
            "3 health       0.00688  0.00430        1.60 0.109      \n",
            "4 temperature -0.0589   0.0125        -4.70 0.00000264 \n"
          ]
        }
      ]
    },
    {
      "cell_type": "code",
      "source": [
        "%%R\n",
        "net_prob <- augment_columns(model_glm,dfr,type.predict = \"response\") %>%\n",
        "  # The predictions are in a column named \".fitted\", so we rename it here\n",
        "  rename(p_score = .fitted)\n",
        "#lookup\n",
        "net_prob %>%\n",
        "  select(id, net, income, temperature, health, p_score) %>%\n",
        "  head()"
      ],
      "metadata": {
        "colab": {
          "base_uri": "https://localhost:8080/"
        },
        "id": "dua-Oylns4AT",
        "outputId": "53be7785-9758-4be7-aacf-f5d74205ea58"
      },
      "execution_count": null,
      "outputs": [
        {
          "output_type": "stream",
          "name": "stdout",
          "text": [
            "# A tibble: 6 × 6\n",
            "     id net   income temperature health p_score\n",
            "  <int> <lgl>  <int>       <dbl>  <int>   <dbl>\n",
            "1     1 TRUE     781        21.1     56   0.367\n",
            "2     2 FALSE    974        26.5     57   0.389\n",
            "3     3 FALSE    502        25.6     15   0.158\n",
            "4     4 TRUE     671        21.3     20   0.263\n",
            "5     5 FALSE    728        19.2     17   0.308\n",
            "6     6 FALSE   1050        25.3     48   0.429\n"
          ]
        }
      ]
    },
    {
      "cell_type": "markdown",
      "source": [
        "Genearating Pscore Matched Visuals"
      ],
      "metadata": {
        "id": "VQMDlLStYHpk"
      }
    },
    {
      "cell_type": "code",
      "source": [
        "%%R\n",
        "pscore_histogram <-ggplot(net_prob,aes(p_score)) + geom_histogram(aes(fill=factor(net_encoded),alpha = 0.5))+xlab(\"Propensity Score\")\n",
        "pscore_histogram"
      ],
      "metadata": {
        "colab": {
          "base_uri": "https://localhost:8080/",
          "height": 514
        },
        "id": "COYpulTVnMkv",
        "outputId": "58874cca-1401-4c57-fa3b-d10f386235cb"
      },
      "execution_count": null,
      "outputs": [
        {
          "output_type": "stream",
          "name": "stdout",
          "text": [
            "`stat_bin()` using `bins = 30`. Pick better value with `binwidth`.\n"
          ]
        },
        {
          "output_type": "display_data",
          "data": {
            "image/png": "[encoded data removed]"
          },
          "metadata": {}
        }
      ]
    },
    {
      "cell_type": "markdown",
      "source": [
        "Here we can see there is very strong overlap between the treated and controlled"
      ],
      "metadata": {
        "id": "QrXZo_1hp8f2"
      }
    },
    {
      "cell_type": "markdown",
      "source": [
        "## Generating IPW Score"
      ],
      "metadata": {
        "id": "1kCb6asPvSB6"
      }
    },
    {
      "cell_type": "code",
      "source": [
        "%%R\n",
        "net_ipw <- net_prob %>%\n",
        "  mutate(ipw = (net_num / p_score) + ((1 - net_num) / (1 - p_score)))\n",
        "\n",
        "net_ipw %>%\n",
        "  select(id, net, income, temperature, health, p_score, ipw) %>%\n",
        "  head()"
      ],
      "metadata": {
        "colab": {
          "base_uri": "https://localhost:8080/"
        },
        "id": "tvuKi56ltxoH",
        "outputId": "f6ce0426-3cc8-4faf-e7c7-94db4464cba1"
      },
      "execution_count": null,
      "outputs": [
        {
          "output_type": "stream",
          "name": "stdout",
          "text": [
            "# A tibble: 6 × 7\n",
            "     id net   income temperature health p_score   ipw\n",
            "  <int> <lgl>  <int>       <dbl>  <int>   <dbl> <dbl>\n",
            "1     1 TRUE     781        21.1     56   0.367  2.72\n",
            "2     2 FALSE    974        26.5     57   0.389  1.64\n",
            "3     3 FALSE    502        25.6     15   0.158  1.19\n",
            "4     4 TRUE     671        21.3     20   0.263  3.81\n",
            "5     5 FALSE    728        19.2     17   0.308  1.44\n",
            "6     6 FALSE   1050        25.3     48   0.429  1.75\n"
          ]
        }
      ]
    },
    {
      "cell_type": "code",
      "source": [
        "%%R\n",
        "model_ipw <- lm(dengue_risk ~ net_encoded,\n",
        "                data = net_ipw)\n",
        "\n",
        "tidy(model_ipw)"
      ],
      "metadata": {
        "colab": {
          "base_uri": "https://localhost:8080/"
        },
        "id": "XnNMpUsiuSLl",
        "outputId": "0f2fa8ef-e03a-4dbf-af5b-21b66d3c9758"
      },
      "execution_count": null,
      "outputs": [
        {
          "output_type": "stream",
          "name": "stdout",
          "text": [
            "# A tibble: 2 × 5\n",
            "  term        estimate std.error statistic   p.value\n",
            "  <chr>          <dbl>     <dbl>     <dbl>     <dbl>\n",
            "1 (Intercept)     41.9     0.405     104.  0        \n",
            "2 net_encoded    -16.3     0.649     -25.1 2.25e-119\n"
          ]
        }
      ]
    },
    {
      "cell_type": "code",
      "source": [
        "%%R\n",
        "model_ipw_weight <- lm(dengue_risk ~ net_encoded,\n",
        "                data = net_ipw,\n",
        "                weights = ipw)\n",
        "\n",
        "tidy(model_ipw_weight)"
      ],
      "metadata": {
        "colab": {
          "base_uri": "https://localhost:8080/"
        },
        "outputId": "ea330a50-9596-43d1-83e6-4d5b3ea57257",
        "id": "52I85nhSlwVh"
      },
      "execution_count": null,
      "outputs": [
        {
          "output_type": "stream",
          "name": "stdout",
          "text": [
            "# A tibble: 2 × 5\n",
            "  term        estimate std.error statistic  p.value\n",
            "  <chr>          <dbl>     <dbl>     <dbl>    <dbl>\n",
            "1 (Intercept)     39.7     0.468      84.7 0       \n",
            "2 net_encoded    -10.1     0.658     -15.4 3.21e-50\n"
          ]
        }
      ]
    },
    {
      "cell_type": "code",
      "source": [
        "%%R\n",
        "naive_model <- lm(dengue_risk ~ net_encoded, data = dfr)\n",
        "tidy(naive_model)"
      ],
      "metadata": {
        "colab": {
          "base_uri": "https://localhost:8080/"
        },
        "id": "TTHfEA7RoRcF",
        "outputId": "7b12db38-a2e4-40c3-eb7a-01be56a693eb"
      },
      "execution_count": null,
      "outputs": [
        {
          "output_type": "stream",
          "name": "stdout",
          "text": [
            "# A tibble: 2 × 5\n",
            "  term        estimate std.error statistic   p.value\n",
            "  <chr>          <dbl>     <dbl>     <dbl>     <dbl>\n",
            "1 (Intercept)     41.9     0.405     104.  0        \n",
            "2 net_encoded    -16.3     0.649     -25.1 2.25e-119\n"
          ]
        }
      ]
    },
    {
      "cell_type": "markdown",
      "source": [
        "# Model Summary"
      ],
      "metadata": {
        "id": "Quj8wloOzw82"
      }
    },
    {
      "cell_type": "code",
      "source": [
        "%%R\n",
        "model_list <- list( \"NAIVE\" = naive_model,\"NNM\" = nnm_model_matched,\"NNM+weight\" = nnm_model_matched_weight,\"Coarsened\" = lm_out_coarsened,\n",
        "                   \"Coarsened + Weight\" =lm_out_coarsened_weight,\n",
        "                   \"IPW\" = model_ipw_weight )"
      ],
      "metadata": {
        "id": "NjIbpfL6qaSZ"
      },
      "execution_count": null,
      "outputs": []
    },
    {
      "cell_type": "code",
      "source": [
        "%%R\n",
        "library(jtools)\n",
        "export_summs(model_list,scale = TRUE)"
      ],
      "metadata": {
        "colab": {
          "base_uri": "https://localhost:8080/"
        },
        "id": "K_MtEtuGsgdy",
        "outputId": "fd478d09-e3c6-4b4b-ae43-07c48e3307b9"
      },
      "execution_count": null,
      "outputs": [
        {
          "output_type": "stream",
          "name": "stdout",
          "text": [
            " ──────────────────────────────────────────────────────────────────────────────\n",
            "               NAIVE       NNM      NNM+weig   Coarsene   Coarsene     IPW     \n",
            "                                       ht         d         d +                \n",
            "                                                           Weight              \n",
            "            ───────────────────────────────────────────────────────────────────\n",
            "   (Interce      41.94      38.33      36.09      39.18      37.51      39.68  \n",
            "   pt)             ***        ***        ***        ***        ***        ***  \n",
            "              (0.40)     (0.60)     (0.60)     (0.42)     (0.44)     (0.47)    \n",
            "                                                                               \n",
            "   net_enco     -16.33     -12.73     -10.48     -12.88     -11.21     -10.13  \n",
            "   ded             ***        ***        ***        ***        ***        ***  \n",
            "              (0.65)     (0.77)     (0.76)     (0.66)     (0.68)     (0.66)    \n",
            "                                                                               \n",
            "            ───────────────────────────────────────────────────────────────────\n",
            "   N          1752       1117       1117       1215       1215       1752      \n",
            "                                                                               \n",
            "   R2         0.27       0.20       0.14       0.24       0.18       0.12      \n",
            " ──────────────────────────────────────────────────────────────────────────────\n",
            "   All continuous predictors are mean-centered and scaled                      \n",
            "   by 1 standard deviation. The outcome variable is in its                     \n",
            "   original units.  *** p < 0.001; ** p < 0.01; * p < 0.05.                    \n",
            "\n",
            "Column names: names, NAIVE, NNM, NNM+weight, Coarsened, Coarsened + Weight, IPW\n"
          ]
        }
      ]
    },
    {
      "cell_type": "markdown",
      "source": [
        "#Question4"
      ],
      "metadata": {
        "id": "QlEUsghkT6Mc"
      }
    },
    {
      "cell_type": "markdown",
      "source": [
        "Q4:Whether the analysis shows a causual relationship depends on how well we assume things and how carefully we analyze the data.Increasing more knowledge about the area of study will also help to model and estimate the true casual effect of the treatement.  If our assumptions are correct and our analysis deals with problems like counfounding factors,unobserved counfoundersand bias, then we can say for sure that the results show cause and effect.\n",
        "\n",
        "Well if we the the modal summary the ipw matching generate the most nearest estimate to -10.13 and the second nearest estimate is obtained from nearest neighbour matching of -10.48 in our study . We omitted truncated ipw matching  for our data as all IPWs are below 10 so we dosen't need to worry about truncation."
      ],
      "metadata": {
        "id": "3gEhRm_wkqbW"
      }
    },
    {
      "cell_type": "markdown",
      "source": [
        "#Question5"
      ],
      "metadata": {
        "id": "SDAXziVLT94f"
      }
    },
    {
      "cell_type": "markdown",
      "source": [
        "Q5:BONUS QUESTION\n",
        "If the the question is changed to evaluation of the mosquito net\n",
        "programme by government ,the analytical approach and assumptions may need to be adjusted accordingly.Accounting  our data , while considering the effectivness of the government program , the question changes slightly but the core question of assessing the effectiveness of mosquito nets on dengue risk persists, the evaluation of the government program expands the scope to consider factors such as program implementation, coverage, and community-wide effects,health-care facilities,geographical location,climatic condition\n",
        "\n",
        "Since participation in the program is not randomly assigned (it depends on specific household criteria), establishing causality becomes more challenging.\n",
        "We may still use regression analysis to examine the association between program participation and dengue risk, but it's crucial to address potential confounding factors and selection bias.\n",
        "\n",
        "We could also employ DID(Difference-in-difference) analysis and compare the  changes in dengue risk before and after the implementation of the mosquito net program in areas that received the intervention versus those that did not."
      ],
      "metadata": {
        "id": "XLAKI3mE3y6y"
      }
    }
  ]
}